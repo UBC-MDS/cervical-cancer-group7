{
 "cells": [
  {
   "cell_type": "markdown",
   "id": "67e3f175-8f18-4e0e-8383-cea51a62f6ad",
   "metadata": {},
   "source": [
    "# ML draft"
   ]
  },
  {
   "cell_type": "markdown",
   "id": "99fce30b-959b-457a-a572-0cc64477f924",
   "metadata": {},
   "source": [
    "Method and code is adopted from https://github.com/morrismanfung/yukoproject2022/blob/main/02-model/001-knn.ipynb"
   ]
  },
  {
   "cell_type": "markdown",
   "id": "a7cfddd1-0eff-460e-ae35-3cbcdc6c2800",
   "metadata": {},
   "source": [
    "## General Data Wrangling"
   ]
  },
  {
   "cell_type": "code",
   "execution_count": 1,
   "id": "45a9f5ba-d3b5-47e0-b9a8-99d42c89eb7b",
   "metadata": {},
   "outputs": [
    {
     "data": {
      "text/plain": [
       "DataTransformerRegistry.enable('data_server')"
      ]
     },
     "execution_count": 1,
     "metadata": {},
     "output_type": "execute_result"
    }
   ],
   "source": [
    "import numpy as np\n",
    "import pandas as pd\n",
    "import matplotlib.pyplot as plt\n",
    "import seaborn as sns\n",
    "from sklearn.model_selection import cross_val_score, cross_validate, train_test_split, GridSearchCV, RandomizedSearchCV\n",
    "from sklearn.preprocessing import StandardScaler, FunctionTransformer, PowerTransformer\n",
    "from sklearn.impute import SimpleImputer\n",
    "from sklearn.pipeline import Pipeline, make_pipeline\n",
    "from sklearn.compose import ColumnTransformer, make_column_transformer\n",
    "from sklearn.neighbors import KNeighborsClassifier\n",
    "from sklearn.svm import SVC\n",
    "from sklearn.metrics import classification_report, confusion_matrix, precision_recall_curve\n",
    "\n",
    "import altair as alt\n",
    "alt.renderers.enable('mimetype')\n",
    "alt.data_transformers.enable('data_server')"
   ]
  },
  {
   "cell_type": "code",
   "execution_count": 2,
   "id": "782bdbef-4986-4ac7-896b-9cd3681d4731",
   "metadata": {},
   "outputs": [],
   "source": [
    "data_full = pd.read_csv( 'data/risk_factors_cervical_cancer.csv')"
   ]
  },
  {
   "cell_type": "code",
   "execution_count": 3,
   "id": "9f519a49-671c-4c80-bb52-3c62c54a82eb",
   "metadata": {},
   "outputs": [
    {
     "data": {
      "text/html": [
       "<div>\n",
       "<style scoped>\n",
       "    .dataframe tbody tr th:only-of-type {\n",
       "        vertical-align: middle;\n",
       "    }\n",
       "\n",
       "    .dataframe tbody tr th {\n",
       "        vertical-align: top;\n",
       "    }\n",
       "\n",
       "    .dataframe thead th {\n",
       "        text-align: right;\n",
       "    }\n",
       "</style>\n",
       "<table border=\"1\" class=\"dataframe\">\n",
       "  <thead>\n",
       "    <tr style=\"text-align: right;\">\n",
       "      <th></th>\n",
       "      <th>Age</th>\n",
       "      <th>Number of sexual partners</th>\n",
       "      <th>First sexual intercourse</th>\n",
       "      <th>Num of pregnancies</th>\n",
       "      <th>Smokes</th>\n",
       "      <th>Smokes (years)</th>\n",
       "      <th>Smokes (packs/year)</th>\n",
       "      <th>Hormonal Contraceptives</th>\n",
       "      <th>Hormonal Contraceptives (years)</th>\n",
       "      <th>IUD</th>\n",
       "      <th>...</th>\n",
       "      <th>STDs: Time since first diagnosis</th>\n",
       "      <th>STDs: Time since last diagnosis</th>\n",
       "      <th>Dx:Cancer</th>\n",
       "      <th>Dx:CIN</th>\n",
       "      <th>Dx:HPV</th>\n",
       "      <th>Dx</th>\n",
       "      <th>Hinselmann</th>\n",
       "      <th>Schiller</th>\n",
       "      <th>Citology</th>\n",
       "      <th>Biopsy</th>\n",
       "    </tr>\n",
       "  </thead>\n",
       "  <tbody>\n",
       "    <tr>\n",
       "      <th>0</th>\n",
       "      <td>18</td>\n",
       "      <td>4.0</td>\n",
       "      <td>15.0</td>\n",
       "      <td>1.0</td>\n",
       "      <td>0.0</td>\n",
       "      <td>0.0</td>\n",
       "      <td>0.0</td>\n",
       "      <td>0.0</td>\n",
       "      <td>0.0</td>\n",
       "      <td>0.0</td>\n",
       "      <td>...</td>\n",
       "      <td>?</td>\n",
       "      <td>?</td>\n",
       "      <td>0</td>\n",
       "      <td>0</td>\n",
       "      <td>0</td>\n",
       "      <td>0</td>\n",
       "      <td>0</td>\n",
       "      <td>0</td>\n",
       "      <td>0</td>\n",
       "      <td>0</td>\n",
       "    </tr>\n",
       "    <tr>\n",
       "      <th>1</th>\n",
       "      <td>15</td>\n",
       "      <td>1.0</td>\n",
       "      <td>14.0</td>\n",
       "      <td>1.0</td>\n",
       "      <td>0.0</td>\n",
       "      <td>0.0</td>\n",
       "      <td>0.0</td>\n",
       "      <td>0.0</td>\n",
       "      <td>0.0</td>\n",
       "      <td>0.0</td>\n",
       "      <td>...</td>\n",
       "      <td>?</td>\n",
       "      <td>?</td>\n",
       "      <td>0</td>\n",
       "      <td>0</td>\n",
       "      <td>0</td>\n",
       "      <td>0</td>\n",
       "      <td>0</td>\n",
       "      <td>0</td>\n",
       "      <td>0</td>\n",
       "      <td>0</td>\n",
       "    </tr>\n",
       "    <tr>\n",
       "      <th>2</th>\n",
       "      <td>34</td>\n",
       "      <td>1.0</td>\n",
       "      <td>?</td>\n",
       "      <td>1.0</td>\n",
       "      <td>0.0</td>\n",
       "      <td>0.0</td>\n",
       "      <td>0.0</td>\n",
       "      <td>0.0</td>\n",
       "      <td>0.0</td>\n",
       "      <td>0.0</td>\n",
       "      <td>...</td>\n",
       "      <td>?</td>\n",
       "      <td>?</td>\n",
       "      <td>0</td>\n",
       "      <td>0</td>\n",
       "      <td>0</td>\n",
       "      <td>0</td>\n",
       "      <td>0</td>\n",
       "      <td>0</td>\n",
       "      <td>0</td>\n",
       "      <td>0</td>\n",
       "    </tr>\n",
       "    <tr>\n",
       "      <th>3</th>\n",
       "      <td>52</td>\n",
       "      <td>5.0</td>\n",
       "      <td>16.0</td>\n",
       "      <td>4.0</td>\n",
       "      <td>1.0</td>\n",
       "      <td>37.0</td>\n",
       "      <td>37.0</td>\n",
       "      <td>1.0</td>\n",
       "      <td>3.0</td>\n",
       "      <td>0.0</td>\n",
       "      <td>...</td>\n",
       "      <td>?</td>\n",
       "      <td>?</td>\n",
       "      <td>1</td>\n",
       "      <td>0</td>\n",
       "      <td>1</td>\n",
       "      <td>0</td>\n",
       "      <td>0</td>\n",
       "      <td>0</td>\n",
       "      <td>0</td>\n",
       "      <td>0</td>\n",
       "    </tr>\n",
       "    <tr>\n",
       "      <th>4</th>\n",
       "      <td>46</td>\n",
       "      <td>3.0</td>\n",
       "      <td>21.0</td>\n",
       "      <td>4.0</td>\n",
       "      <td>0.0</td>\n",
       "      <td>0.0</td>\n",
       "      <td>0.0</td>\n",
       "      <td>1.0</td>\n",
       "      <td>15.0</td>\n",
       "      <td>0.0</td>\n",
       "      <td>...</td>\n",
       "      <td>?</td>\n",
       "      <td>?</td>\n",
       "      <td>0</td>\n",
       "      <td>0</td>\n",
       "      <td>0</td>\n",
       "      <td>0</td>\n",
       "      <td>0</td>\n",
       "      <td>0</td>\n",
       "      <td>0</td>\n",
       "      <td>0</td>\n",
       "    </tr>\n",
       "  </tbody>\n",
       "</table>\n",
       "<p>5 rows × 36 columns</p>\n",
       "</div>"
      ],
      "text/plain": [
       "   Age Number of sexual partners First sexual intercourse Num of pregnancies  \\\n",
       "0   18                       4.0                     15.0                1.0   \n",
       "1   15                       1.0                     14.0                1.0   \n",
       "2   34                       1.0                        ?                1.0   \n",
       "3   52                       5.0                     16.0                4.0   \n",
       "4   46                       3.0                     21.0                4.0   \n",
       "\n",
       "  Smokes Smokes (years) Smokes (packs/year) Hormonal Contraceptives  \\\n",
       "0    0.0            0.0                 0.0                     0.0   \n",
       "1    0.0            0.0                 0.0                     0.0   \n",
       "2    0.0            0.0                 0.0                     0.0   \n",
       "3    1.0           37.0                37.0                     1.0   \n",
       "4    0.0            0.0                 0.0                     1.0   \n",
       "\n",
       "  Hormonal Contraceptives (years)  IUD  ... STDs: Time since first diagnosis  \\\n",
       "0                             0.0  0.0  ...                                ?   \n",
       "1                             0.0  0.0  ...                                ?   \n",
       "2                             0.0  0.0  ...                                ?   \n",
       "3                             3.0  0.0  ...                                ?   \n",
       "4                            15.0  0.0  ...                                ?   \n",
       "\n",
       "  STDs: Time since last diagnosis Dx:Cancer Dx:CIN Dx:HPV Dx Hinselmann  \\\n",
       "0                               ?         0      0      0  0          0   \n",
       "1                               ?         0      0      0  0          0   \n",
       "2                               ?         0      0      0  0          0   \n",
       "3                               ?         1      0      1  0          0   \n",
       "4                               ?         0      0      0  0          0   \n",
       "\n",
       "  Schiller Citology Biopsy  \n",
       "0        0        0      0  \n",
       "1        0        0      0  \n",
       "2        0        0      0  \n",
       "3        0        0      0  \n",
       "4        0        0      0  \n",
       "\n",
       "[5 rows x 36 columns]"
      ]
     },
     "execution_count": 3,
     "metadata": {},
     "output_type": "execute_result"
    }
   ],
   "source": [
    "data_full.head()"
   ]
  },
  {
   "cell_type": "code",
   "execution_count": 4,
   "id": "61eff927-225e-417a-8de9-fccbe7fa5217",
   "metadata": {},
   "outputs": [],
   "source": [
    "data_full[ 'target'] = data_full[ 'Hinselmann'] | data_full[ 'Schiller'] | data_full[ 'Citology'] | data_full[ 'Biopsy']\n",
    "data_full = data_full.replace('?', np.nan)"
   ]
  },
  {
   "cell_type": "code",
   "execution_count": 5,
   "id": "00b0557a-d1fb-4fb7-8c35-87e28ee1c78d",
   "metadata": {},
   "outputs": [
    {
     "data": {
      "text/plain": [
       "0    756\n",
       "1    102\n",
       "Name: target, dtype: int64"
      ]
     },
     "execution_count": 5,
     "metadata": {},
     "output_type": "execute_result"
    }
   ],
   "source": [
    "data_full[ 'target'].value_counts()"
   ]
  },
  {
   "cell_type": "code",
   "execution_count": 6,
   "id": "6825e3ce-d1c5-496f-821f-73a8bbc2d77e",
   "metadata": {},
   "outputs": [
    {
     "name": "stdout",
     "output_type": "stream",
     "text": [
      "STDs:condylomatosis\n",
      "0.0    709\n",
      "1.0     44\n",
      "Name: STDs:condylomatosis, dtype: int64\n",
      "\n",
      "STDs:cervical condylomatosis\n",
      "0.0    753\n",
      "Name: STDs:cervical condylomatosis, dtype: int64\n",
      "\n",
      "STDs:vaginal condylomatosis\n",
      "0.0    749\n",
      "1.0      4\n",
      "Name: STDs:vaginal condylomatosis, dtype: int64\n",
      "\n",
      "STDs:vulvo-perineal condylomatosis\n",
      "0.0    710\n",
      "1.0     43\n",
      "Name: STDs:vulvo-perineal condylomatosis, dtype: int64\n",
      "\n",
      "STDs:syphilis\n",
      "0.0    735\n",
      "1.0     18\n",
      "Name: STDs:syphilis, dtype: int64\n",
      "\n",
      "STDs:pelvic inflammatory disease\n",
      "0.0    752\n",
      "1.0      1\n",
      "Name: STDs:pelvic inflammatory disease, dtype: int64\n",
      "\n",
      "STDs:genital herpes\n",
      "0.0    752\n",
      "1.0      1\n",
      "Name: STDs:genital herpes, dtype: int64\n",
      "\n",
      "STDs:molluscum contagiosum\n",
      "0.0    752\n",
      "1.0      1\n",
      "Name: STDs:molluscum contagiosum, dtype: int64\n",
      "\n",
      "STDs:AIDS\n",
      "0.0    753\n",
      "Name: STDs:AIDS, dtype: int64\n",
      "\n",
      "STDs:HIV\n",
      "0.0    735\n",
      "1.0     18\n",
      "Name: STDs:HIV, dtype: int64\n",
      "\n"
     ]
    }
   ],
   "source": [
    "STDs = ['STDs:condylomatosis', 'STDs:cervical condylomatosis', 'STDs:vaginal condylomatosis',\n",
    " 'STDs:vulvo-perineal condylomatosis', 'STDs:syphilis', 'STDs:pelvic inflammatory disease',\n",
    " 'STDs:genital herpes', 'STDs:molluscum contagiosum', 'STDs:AIDS', 'STDs:HIV']\n",
    "\n",
    "for i in STDs:\n",
    "    print( i)\n",
    "    print( data_full[ i].value_counts())\n",
    "    print()"
   ]
  },
  {
   "cell_type": "code",
   "execution_count": 7,
   "id": "e2b6f39b-3312-40c8-9ccf-78f29e534dd2",
   "metadata": {},
   "outputs": [
    {
     "name": "stdout",
     "output_type": "stream",
     "text": [
      "Dx:Cancer\n",
      "0    840\n",
      "1     18\n",
      "Name: Dx:Cancer, dtype: int64\n",
      "\n",
      "Dx:CIN\n",
      "0    849\n",
      "1      9\n",
      "Name: Dx:CIN, dtype: int64\n",
      "\n",
      "Dx:HPV\n",
      "0    840\n",
      "1     18\n",
      "Name: Dx:HPV, dtype: int64\n",
      "\n",
      "Dx\n",
      "0    834\n",
      "1     24\n",
      "Name: Dx, dtype: int64\n",
      "\n"
     ]
    }
   ],
   "source": [
    "Dxs = ['Dx:Cancer', 'Dx:CIN', 'Dx:HPV', 'Dx']\n",
    "for i in Dxs:\n",
    "    print( i)\n",
    "    print( data_full[ i].value_counts())\n",
    "    print()"
   ]
  },
  {
   "cell_type": "code",
   "execution_count": 8,
   "id": "93f6c377-7efa-4f0d-acd0-37ff05f19704",
   "metadata": {},
   "outputs": [],
   "source": [
    "columns_tbc = [ # to be considered\n",
    "    'Age', 'Number of sexual partners', 'First sexual intercourse', 'Num of pregnancies', 'Smokes (years)', 'Smokes (packs/year)',\n",
    "    'Hormonal Contraceptives (years)', 'IUD (years)', 'STDs (number)', 'Dx:Cancer', 'Dx:CIN', 'Dx:HPV']"
   ]
  },
  {
   "cell_type": "code",
   "execution_count": 9,
   "id": "3aa029bf-428c-44cc-8c7b-d0de53db6cd3",
   "metadata": {},
   "outputs": [
    {
     "data": {
      "text/plain": [
       "Index(['Age', 'Number of sexual partners', 'First sexual intercourse',\n",
       "       'Num of pregnancies', 'Smokes (years)', 'Smokes (packs/year)',\n",
       "       'Hormonal Contraceptives (years)', 'IUD (years)', 'STDs (number)',\n",
       "       'Dx:Cancer', 'Dx:CIN', 'Dx:HPV'],\n",
       "      dtype='object')"
      ]
     },
     "execution_count": 9,
     "metadata": {},
     "output_type": "execute_result"
    }
   ],
   "source": [
    "data_full[ columns_tbc].columns"
   ]
  },
  {
   "cell_type": "code",
   "execution_count": 10,
   "id": "4ea2d5eb-c81c-439b-b955-1a2fe52a2074",
   "metadata": {},
   "outputs": [],
   "source": [
    "numeric_features = [ 'Age', 'Number of sexual partners', 'First sexual intercourse',\n",
    "       'Num of pregnancies', 'Smokes (years)', 'Smokes (packs/year)', 'Hormonal Contraceptives (years)', 'IUD (years)', 'STDs (number)']\n",
    "binary_features = ['Dx:Cancer', 'Dx:CIN', 'Dx:HPV']\n",
    "\n",
    "column_transformer = make_column_transformer(\n",
    "    ( make_pipeline( SimpleImputer( strategy = 'median'), PowerTransformer(), StandardScaler()), numeric_features),\n",
    "    ( SimpleImputer( strategy = 'most_frequent'), binary_features)\n",
    ")"
   ]
  },
  {
   "cell_type": "code",
   "execution_count": 11,
   "id": "54ccee20-4cfb-4451-aabf-6a89fd2a0f50",
   "metadata": {},
   "outputs": [],
   "source": [
    "X = data_full[ columns_tbc]\n",
    "y = data_full[ 'target']"
   ]
  },
  {
   "cell_type": "code",
   "execution_count": 12,
   "id": "2a99a04a-6f03-43a0-8645-e4faa0feb850",
   "metadata": {},
   "outputs": [],
   "source": [
    "X_train, X_test, y_train, y_test = train_test_split( X, y, test_size = 0.5, stratify = y, random_state = 123)"
   ]
  },
  {
   "cell_type": "markdown",
   "id": "e0b48c9a-bd26-49b5-bb3d-93a2b0ee0bfe",
   "metadata": {
    "tags": []
   },
   "source": [
    "## KNN"
   ]
  },
  {
   "cell_type": "code",
   "execution_count": 13,
   "id": "d6cf3dfc-b5c9-4a20-981a-14e500871f09",
   "metadata": {},
   "outputs": [
    {
     "data": {
      "text/html": [
       "<div>\n",
       "<style scoped>\n",
       "    .dataframe tbody tr th:only-of-type {\n",
       "        vertical-align: middle;\n",
       "    }\n",
       "\n",
       "    .dataframe tbody tr th {\n",
       "        vertical-align: top;\n",
       "    }\n",
       "\n",
       "    .dataframe thead th {\n",
       "        text-align: right;\n",
       "    }\n",
       "</style>\n",
       "<table border=\"1\" class=\"dataframe\">\n",
       "  <thead>\n",
       "    <tr style=\"text-align: right;\">\n",
       "      <th></th>\n",
       "      <th>fit_time</th>\n",
       "      <th>score_time</th>\n",
       "      <th>test_score</th>\n",
       "      <th>train_score</th>\n",
       "    </tr>\n",
       "  </thead>\n",
       "  <tbody>\n",
       "    <tr>\n",
       "      <th>0</th>\n",
       "      <td>0.045994</td>\n",
       "      <td>0.011999</td>\n",
       "      <td>0.0</td>\n",
       "      <td>0.04878</td>\n",
       "    </tr>\n",
       "    <tr>\n",
       "      <th>1</th>\n",
       "      <td>0.033997</td>\n",
       "      <td>0.013003</td>\n",
       "      <td>0.0</td>\n",
       "      <td>0.04878</td>\n",
       "    </tr>\n",
       "    <tr>\n",
       "      <th>2</th>\n",
       "      <td>0.042003</td>\n",
       "      <td>0.013000</td>\n",
       "      <td>0.0</td>\n",
       "      <td>0.00000</td>\n",
       "    </tr>\n",
       "    <tr>\n",
       "      <th>3</th>\n",
       "      <td>0.036001</td>\n",
       "      <td>0.013998</td>\n",
       "      <td>0.0</td>\n",
       "      <td>0.17500</td>\n",
       "    </tr>\n",
       "    <tr>\n",
       "      <th>4</th>\n",
       "      <td>0.037009</td>\n",
       "      <td>0.012006</td>\n",
       "      <td>0.0</td>\n",
       "      <td>0.02439</td>\n",
       "    </tr>\n",
       "  </tbody>\n",
       "</table>\n",
       "</div>"
      ],
      "text/plain": [
       "   fit_time  score_time  test_score  train_score\n",
       "0  0.045994    0.011999         0.0      0.04878\n",
       "1  0.033997    0.013003         0.0      0.04878\n",
       "2  0.042003    0.013000         0.0      0.00000\n",
       "3  0.036001    0.013998         0.0      0.17500\n",
       "4  0.037009    0.012006         0.0      0.02439"
      ]
     },
     "execution_count": 13,
     "metadata": {},
     "output_type": "execute_result"
    }
   ],
   "source": [
    "pipe_knn = make_pipeline( column_transformer, KNeighborsClassifier()) # No class weight in KNN\n",
    "cv_result = cross_validate( pipe_knn, X_train, y_train, cv = 5, return_train_score = True, scoring = 'recall')\n",
    "pd.DataFrame( cv_result)"
   ]
  },
  {
   "cell_type": "code",
   "execution_count": 14,
   "id": "30b7505c-ec34-4e93-9f65-c1ae2c6dfe0f",
   "metadata": {},
   "outputs": [
    {
     "data": {
      "text/html": [
       "<div>\n",
       "<style scoped>\n",
       "    .dataframe tbody tr th:only-of-type {\n",
       "        vertical-align: middle;\n",
       "    }\n",
       "\n",
       "    .dataframe tbody tr th {\n",
       "        vertical-align: top;\n",
       "    }\n",
       "\n",
       "    .dataframe thead th {\n",
       "        text-align: right;\n",
       "    }\n",
       "</style>\n",
       "<table border=\"1\" class=\"dataframe\">\n",
       "  <thead>\n",
       "    <tr style=\"text-align: right;\">\n",
       "      <th></th>\n",
       "      <th>params</th>\n",
       "      <th>mean_test_score</th>\n",
       "    </tr>\n",
       "  </thead>\n",
       "  <tbody>\n",
       "    <tr>\n",
       "      <th>0</th>\n",
       "      <td>{'kneighborsclassifier__n_neighbors': 5}</td>\n",
       "      <td>0.0</td>\n",
       "    </tr>\n",
       "    <tr>\n",
       "      <th>1</th>\n",
       "      <td>{'kneighborsclassifier__n_neighbors': 10}</td>\n",
       "      <td>0.0</td>\n",
       "    </tr>\n",
       "    <tr>\n",
       "      <th>2</th>\n",
       "      <td>{'kneighborsclassifier__n_neighbors': 15}</td>\n",
       "      <td>0.0</td>\n",
       "    </tr>\n",
       "    <tr>\n",
       "      <th>3</th>\n",
       "      <td>{'kneighborsclassifier__n_neighbors': 20}</td>\n",
       "      <td>0.0</td>\n",
       "    </tr>\n",
       "    <tr>\n",
       "      <th>4</th>\n",
       "      <td>{'kneighborsclassifier__n_neighbors': 25}</td>\n",
       "      <td>0.0</td>\n",
       "    </tr>\n",
       "    <tr>\n",
       "      <th>5</th>\n",
       "      <td>{'kneighborsclassifier__n_neighbors': 30}</td>\n",
       "      <td>0.0</td>\n",
       "    </tr>\n",
       "  </tbody>\n",
       "</table>\n",
       "</div>"
      ],
      "text/plain": [
       "                                      params  mean_test_score\n",
       "0   {'kneighborsclassifier__n_neighbors': 5}              0.0\n",
       "1  {'kneighborsclassifier__n_neighbors': 10}              0.0\n",
       "2  {'kneighborsclassifier__n_neighbors': 15}              0.0\n",
       "3  {'kneighborsclassifier__n_neighbors': 20}              0.0\n",
       "4  {'kneighborsclassifier__n_neighbors': 25}              0.0\n",
       "5  {'kneighborsclassifier__n_neighbors': 30}              0.0"
      ]
     },
     "execution_count": 14,
     "metadata": {},
     "output_type": "execute_result"
    }
   ],
   "source": [
    "param_grid = {\n",
    "    \"kneighborsclassifier__n_neighbors\": list( range( 5, 35, 5))\n",
    "}\n",
    "\n",
    "grid_search = GridSearchCV(\n",
    "    pipe_knn, param_grid, cv = 5, scoring = 'recall', n_jobs=-1, return_train_score = True\n",
    ")\n",
    "\n",
    "grid_search.fit( X_train, y_train)\n",
    "\n",
    "results = pd.DataFrame(grid_search.cv_results_)\n",
    "results[ ['params', 'mean_test_score']].sort_values( 'mean_test_score', ascending = False)"
   ]
  },
  {
   "cell_type": "code",
   "execution_count": 15,
   "id": "1b5677e9-9c71-4be7-b18d-fe5fa8948628",
   "metadata": {},
   "outputs": [],
   "source": [
    "y_hat = grid_search.predict( X_test)"
   ]
  },
  {
   "cell_type": "code",
   "execution_count": 16,
   "id": "9af1ffb6-8906-429e-a73e-34dc685de439",
   "metadata": {},
   "outputs": [
    {
     "name": "stdout",
     "output_type": "stream",
     "text": [
      "[[376   2]\n",
      " [ 51   0]]\n",
      "              precision    recall  f1-score   support\n",
      "\n",
      "           0       0.88      0.99      0.93       378\n",
      "           1       0.00      0.00      0.00        51\n",
      "\n",
      "    accuracy                           0.88       429\n",
      "   macro avg       0.44      0.50      0.47       429\n",
      "weighted avg       0.78      0.88      0.82       429\n",
      "\n"
     ]
    }
   ],
   "source": [
    "print( confusion_matrix( y_test, y_hat, labels = [ 0, 1]))\n",
    "print( classification_report( y_test, y_hat))"
   ]
  },
  {
   "cell_type": "markdown",
   "id": "4f224d95-5051-448c-a82b-eaeb706ec445",
   "metadata": {},
   "source": [
    "## SVC"
   ]
  },
  {
   "cell_type": "code",
   "execution_count": 17,
   "id": "2caa728b-b940-49ed-aba9-52e32317bf69",
   "metadata": {},
   "outputs": [
    {
     "data": {
      "text/html": [
       "<div>\n",
       "<style scoped>\n",
       "    .dataframe tbody tr th:only-of-type {\n",
       "        vertical-align: middle;\n",
       "    }\n",
       "\n",
       "    .dataframe tbody tr th {\n",
       "        vertical-align: top;\n",
       "    }\n",
       "\n",
       "    .dataframe thead th {\n",
       "        text-align: right;\n",
       "    }\n",
       "</style>\n",
       "<table border=\"1\" class=\"dataframe\">\n",
       "  <thead>\n",
       "    <tr style=\"text-align: right;\">\n",
       "      <th></th>\n",
       "      <th>fit_time</th>\n",
       "      <th>score_time</th>\n",
       "      <th>test_score</th>\n",
       "      <th>train_score</th>\n",
       "    </tr>\n",
       "  </thead>\n",
       "  <tbody>\n",
       "    <tr>\n",
       "      <th>0</th>\n",
       "      <td>0.105962</td>\n",
       "      <td>0.023000</td>\n",
       "      <td>0.300000</td>\n",
       "      <td>0.829268</td>\n",
       "    </tr>\n",
       "    <tr>\n",
       "      <th>1</th>\n",
       "      <td>0.046001</td>\n",
       "      <td>0.016000</td>\n",
       "      <td>0.400000</td>\n",
       "      <td>0.780488</td>\n",
       "    </tr>\n",
       "    <tr>\n",
       "      <th>2</th>\n",
       "      <td>0.051003</td>\n",
       "      <td>0.012000</td>\n",
       "      <td>0.500000</td>\n",
       "      <td>0.780488</td>\n",
       "    </tr>\n",
       "    <tr>\n",
       "      <th>3</th>\n",
       "      <td>0.057000</td>\n",
       "      <td>0.029007</td>\n",
       "      <td>0.272727</td>\n",
       "      <td>0.825000</td>\n",
       "    </tr>\n",
       "    <tr>\n",
       "      <th>4</th>\n",
       "      <td>0.080995</td>\n",
       "      <td>0.014002</td>\n",
       "      <td>0.400000</td>\n",
       "      <td>0.780488</td>\n",
       "    </tr>\n",
       "  </tbody>\n",
       "</table>\n",
       "</div>"
      ],
      "text/plain": [
       "   fit_time  score_time  test_score  train_score\n",
       "0  0.105962    0.023000    0.300000     0.829268\n",
       "1  0.046001    0.016000    0.400000     0.780488\n",
       "2  0.051003    0.012000    0.500000     0.780488\n",
       "3  0.057000    0.029007    0.272727     0.825000\n",
       "4  0.080995    0.014002    0.400000     0.780488"
      ]
     },
     "execution_count": 17,
     "metadata": {},
     "output_type": "execute_result"
    }
   ],
   "source": [
    "pipe_svc = make_pipeline( column_transformer, SVC( class_weight = 'balanced'))\n",
    "cv_result = cross_validate( pipe_svc, X_train, y_train, cv = 5, return_train_score = True, scoring = 'recall')\n",
    "pd.DataFrame( cv_result)"
   ]
  },
  {
   "cell_type": "code",
   "execution_count": 18,
   "id": "5e1c7526-1516-451d-8985-2766219a3e57",
   "metadata": {},
   "outputs": [
    {
     "data": {
      "text/html": [
       "<style>#sk-container-id-1 {color: black;background-color: white;}#sk-container-id-1 pre{padding: 0;}#sk-container-id-1 div.sk-toggleable {background-color: white;}#sk-container-id-1 label.sk-toggleable__label {cursor: pointer;display: block;width: 100%;margin-bottom: 0;padding: 0.3em;box-sizing: border-box;text-align: center;}#sk-container-id-1 label.sk-toggleable__label-arrow:before {content: \"▸\";float: left;margin-right: 0.25em;color: #696969;}#sk-container-id-1 label.sk-toggleable__label-arrow:hover:before {color: black;}#sk-container-id-1 div.sk-estimator:hover label.sk-toggleable__label-arrow:before {color: black;}#sk-container-id-1 div.sk-toggleable__content {max-height: 0;max-width: 0;overflow: hidden;text-align: left;background-color: #f0f8ff;}#sk-container-id-1 div.sk-toggleable__content pre {margin: 0.2em;color: black;border-radius: 0.25em;background-color: #f0f8ff;}#sk-container-id-1 input.sk-toggleable__control:checked~div.sk-toggleable__content {max-height: 200px;max-width: 100%;overflow: auto;}#sk-container-id-1 input.sk-toggleable__control:checked~label.sk-toggleable__label-arrow:before {content: \"▾\";}#sk-container-id-1 div.sk-estimator input.sk-toggleable__control:checked~label.sk-toggleable__label {background-color: #d4ebff;}#sk-container-id-1 div.sk-label input.sk-toggleable__control:checked~label.sk-toggleable__label {background-color: #d4ebff;}#sk-container-id-1 input.sk-hidden--visually {border: 0;clip: rect(1px 1px 1px 1px);clip: rect(1px, 1px, 1px, 1px);height: 1px;margin: -1px;overflow: hidden;padding: 0;position: absolute;width: 1px;}#sk-container-id-1 div.sk-estimator {font-family: monospace;background-color: #f0f8ff;border: 1px dotted black;border-radius: 0.25em;box-sizing: border-box;margin-bottom: 0.5em;}#sk-container-id-1 div.sk-estimator:hover {background-color: #d4ebff;}#sk-container-id-1 div.sk-parallel-item::after {content: \"\";width: 100%;border-bottom: 1px solid gray;flex-grow: 1;}#sk-container-id-1 div.sk-label:hover label.sk-toggleable__label {background-color: #d4ebff;}#sk-container-id-1 div.sk-serial::before {content: \"\";position: absolute;border-left: 1px solid gray;box-sizing: border-box;top: 0;bottom: 0;left: 50%;z-index: 0;}#sk-container-id-1 div.sk-serial {display: flex;flex-direction: column;align-items: center;background-color: white;padding-right: 0.2em;padding-left: 0.2em;position: relative;}#sk-container-id-1 div.sk-item {position: relative;z-index: 1;}#sk-container-id-1 div.sk-parallel {display: flex;align-items: stretch;justify-content: center;background-color: white;position: relative;}#sk-container-id-1 div.sk-item::before, #sk-container-id-1 div.sk-parallel-item::before {content: \"\";position: absolute;border-left: 1px solid gray;box-sizing: border-box;top: 0;bottom: 0;left: 50%;z-index: -1;}#sk-container-id-1 div.sk-parallel-item {display: flex;flex-direction: column;z-index: 1;position: relative;background-color: white;}#sk-container-id-1 div.sk-parallel-item:first-child::after {align-self: flex-end;width: 50%;}#sk-container-id-1 div.sk-parallel-item:last-child::after {align-self: flex-start;width: 50%;}#sk-container-id-1 div.sk-parallel-item:only-child::after {width: 0;}#sk-container-id-1 div.sk-dashed-wrapped {border: 1px dashed gray;margin: 0 0.4em 0.5em 0.4em;box-sizing: border-box;padding-bottom: 0.4em;background-color: white;}#sk-container-id-1 div.sk-label label {font-family: monospace;font-weight: bold;display: inline-block;line-height: 1.2em;}#sk-container-id-1 div.sk-label-container {text-align: center;}#sk-container-id-1 div.sk-container {/* jupyter's `normalize.less` sets `[hidden] { display: none; }` but bootstrap.min.css set `[hidden] { display: none !important; }` so we also need the `!important` here to be able to override the default hidden behavior on the sphinx rendered scikit-learn.org. See: https://github.com/scikit-learn/scikit-learn/issues/21755 */display: inline-block !important;position: relative;}#sk-container-id-1 div.sk-text-repr-fallback {display: none;}</style><div id=\"sk-container-id-1\" class=\"sk-top-container\"><div class=\"sk-text-repr-fallback\"><pre>RandomizedSearchCV(cv=5,\n",
       "                   estimator=Pipeline(steps=[(&#x27;columntransformer&#x27;,\n",
       "                                              ColumnTransformer(transformers=[(&#x27;pipeline&#x27;,\n",
       "                                                                               Pipeline(steps=[(&#x27;simpleimputer&#x27;,\n",
       "                                                                                                SimpleImputer(strategy=&#x27;median&#x27;)),\n",
       "                                                                                               (&#x27;powertransformer&#x27;,\n",
       "                                                                                                PowerTransformer()),\n",
       "                                                                                               (&#x27;standardscaler&#x27;,\n",
       "                                                                                                StandardScaler())]),\n",
       "                                                                               [&#x27;Age&#x27;,\n",
       "                                                                                &#x27;Number &#x27;\n",
       "                                                                                &#x27;of &#x27;\n",
       "                                                                                &#x27;sexual &#x27;\n",
       "                                                                                &#x27;partners&#x27;,\n",
       "                                                                                &#x27;First &#x27;\n",
       "                                                                                &#x27;sexual &#x27;\n",
       "                                                                                &#x27;intercourse&#x27;,\n",
       "                                                                                &#x27;Num &#x27;\n",
       "                                                                                &#x27;of &#x27;\n",
       "                                                                                &#x27;pregnancies&#x27;,...\n",
       "                                                                                &#x27;Contraceptives &#x27;\n",
       "                                                                                &#x27;(years)&#x27;,\n",
       "                                                                                &#x27;IUD &#x27;\n",
       "                                                                                &#x27;(years)&#x27;,\n",
       "                                                                                &#x27;STDs &#x27;\n",
       "                                                                                &#x27;(number)&#x27;]),\n",
       "                                                                              (&#x27;simpleimputer&#x27;,\n",
       "                                                                               SimpleImputer(strategy=&#x27;most_frequent&#x27;),\n",
       "                                                                               [&#x27;Dx:Cancer&#x27;,\n",
       "                                                                                &#x27;Dx:CIN&#x27;,\n",
       "                                                                                &#x27;Dx:HPV&#x27;])])),\n",
       "                                             (&#x27;svc&#x27;,\n",
       "                                              SVC(class_weight=&#x27;balanced&#x27;))]),\n",
       "                   n_iter=30, n_jobs=-1,\n",
       "                   param_distributions={&#x27;svc__C&#x27;: [0.01, 0.1, 1, 10, 100, 1000,\n",
       "                                                   10000],\n",
       "                                        &#x27;svc__gamma&#x27;: [0.01, 0.1, 1, 10, 100,\n",
       "                                                       1000, 10000]},\n",
       "                   return_train_score=True, scoring=&#x27;recall&#x27;)</pre><b>In a Jupyter environment, please rerun this cell to show the HTML representation or trust the notebook. <br />On GitHub, the HTML representation is unable to render, please try loading this page with nbviewer.org.</b></div><div class=\"sk-container\" hidden><div class=\"sk-item sk-dashed-wrapped\"><div class=\"sk-label-container\"><div class=\"sk-label sk-toggleable\"><input class=\"sk-toggleable__control sk-hidden--visually\" id=\"sk-estimator-id-1\" type=\"checkbox\" ><label for=\"sk-estimator-id-1\" class=\"sk-toggleable__label sk-toggleable__label-arrow\">RandomizedSearchCV</label><div class=\"sk-toggleable__content\"><pre>RandomizedSearchCV(cv=5,\n",
       "                   estimator=Pipeline(steps=[(&#x27;columntransformer&#x27;,\n",
       "                                              ColumnTransformer(transformers=[(&#x27;pipeline&#x27;,\n",
       "                                                                               Pipeline(steps=[(&#x27;simpleimputer&#x27;,\n",
       "                                                                                                SimpleImputer(strategy=&#x27;median&#x27;)),\n",
       "                                                                                               (&#x27;powertransformer&#x27;,\n",
       "                                                                                                PowerTransformer()),\n",
       "                                                                                               (&#x27;standardscaler&#x27;,\n",
       "                                                                                                StandardScaler())]),\n",
       "                                                                               [&#x27;Age&#x27;,\n",
       "                                                                                &#x27;Number &#x27;\n",
       "                                                                                &#x27;of &#x27;\n",
       "                                                                                &#x27;sexual &#x27;\n",
       "                                                                                &#x27;partners&#x27;,\n",
       "                                                                                &#x27;First &#x27;\n",
       "                                                                                &#x27;sexual &#x27;\n",
       "                                                                                &#x27;intercourse&#x27;,\n",
       "                                                                                &#x27;Num &#x27;\n",
       "                                                                                &#x27;of &#x27;\n",
       "                                                                                &#x27;pregnancies&#x27;,...\n",
       "                                                                                &#x27;Contraceptives &#x27;\n",
       "                                                                                &#x27;(years)&#x27;,\n",
       "                                                                                &#x27;IUD &#x27;\n",
       "                                                                                &#x27;(years)&#x27;,\n",
       "                                                                                &#x27;STDs &#x27;\n",
       "                                                                                &#x27;(number)&#x27;]),\n",
       "                                                                              (&#x27;simpleimputer&#x27;,\n",
       "                                                                               SimpleImputer(strategy=&#x27;most_frequent&#x27;),\n",
       "                                                                               [&#x27;Dx:Cancer&#x27;,\n",
       "                                                                                &#x27;Dx:CIN&#x27;,\n",
       "                                                                                &#x27;Dx:HPV&#x27;])])),\n",
       "                                             (&#x27;svc&#x27;,\n",
       "                                              SVC(class_weight=&#x27;balanced&#x27;))]),\n",
       "                   n_iter=30, n_jobs=-1,\n",
       "                   param_distributions={&#x27;svc__C&#x27;: [0.01, 0.1, 1, 10, 100, 1000,\n",
       "                                                   10000],\n",
       "                                        &#x27;svc__gamma&#x27;: [0.01, 0.1, 1, 10, 100,\n",
       "                                                       1000, 10000]},\n",
       "                   return_train_score=True, scoring=&#x27;recall&#x27;)</pre></div></div></div><div class=\"sk-parallel\"><div class=\"sk-parallel-item\"><div class=\"sk-item\"><div class=\"sk-label-container\"><div class=\"sk-label sk-toggleable\"><input class=\"sk-toggleable__control sk-hidden--visually\" id=\"sk-estimator-id-2\" type=\"checkbox\" ><label for=\"sk-estimator-id-2\" class=\"sk-toggleable__label sk-toggleable__label-arrow\">estimator: Pipeline</label><div class=\"sk-toggleable__content\"><pre>Pipeline(steps=[(&#x27;columntransformer&#x27;,\n",
       "                 ColumnTransformer(transformers=[(&#x27;pipeline&#x27;,\n",
       "                                                  Pipeline(steps=[(&#x27;simpleimputer&#x27;,\n",
       "                                                                   SimpleImputer(strategy=&#x27;median&#x27;)),\n",
       "                                                                  (&#x27;powertransformer&#x27;,\n",
       "                                                                   PowerTransformer()),\n",
       "                                                                  (&#x27;standardscaler&#x27;,\n",
       "                                                                   StandardScaler())]),\n",
       "                                                  [&#x27;Age&#x27;,\n",
       "                                                   &#x27;Number of sexual partners&#x27;,\n",
       "                                                   &#x27;First sexual intercourse&#x27;,\n",
       "                                                   &#x27;Num of pregnancies&#x27;,\n",
       "                                                   &#x27;Smokes (years)&#x27;,\n",
       "                                                   &#x27;Smokes (packs/year)&#x27;,\n",
       "                                                   &#x27;Hormonal Contraceptives &#x27;\n",
       "                                                   &#x27;(years)&#x27;,\n",
       "                                                   &#x27;IUD (years)&#x27;,\n",
       "                                                   &#x27;STDs (number)&#x27;]),\n",
       "                                                 (&#x27;simpleimputer&#x27;,\n",
       "                                                  SimpleImputer(strategy=&#x27;most_frequent&#x27;),\n",
       "                                                  [&#x27;Dx:Cancer&#x27;, &#x27;Dx:CIN&#x27;,\n",
       "                                                   &#x27;Dx:HPV&#x27;])])),\n",
       "                (&#x27;svc&#x27;, SVC(class_weight=&#x27;balanced&#x27;))])</pre></div></div></div><div class=\"sk-serial\"><div class=\"sk-item\"><div class=\"sk-serial\"><div class=\"sk-item sk-dashed-wrapped\"><div class=\"sk-label-container\"><div class=\"sk-label sk-toggleable\"><input class=\"sk-toggleable__control sk-hidden--visually\" id=\"sk-estimator-id-3\" type=\"checkbox\" ><label for=\"sk-estimator-id-3\" class=\"sk-toggleable__label sk-toggleable__label-arrow\">columntransformer: ColumnTransformer</label><div class=\"sk-toggleable__content\"><pre>ColumnTransformer(transformers=[(&#x27;pipeline&#x27;,\n",
       "                                 Pipeline(steps=[(&#x27;simpleimputer&#x27;,\n",
       "                                                  SimpleImputer(strategy=&#x27;median&#x27;)),\n",
       "                                                 (&#x27;powertransformer&#x27;,\n",
       "                                                  PowerTransformer()),\n",
       "                                                 (&#x27;standardscaler&#x27;,\n",
       "                                                  StandardScaler())]),\n",
       "                                 [&#x27;Age&#x27;, &#x27;Number of sexual partners&#x27;,\n",
       "                                  &#x27;First sexual intercourse&#x27;,\n",
       "                                  &#x27;Num of pregnancies&#x27;, &#x27;Smokes (years)&#x27;,\n",
       "                                  &#x27;Smokes (packs/year)&#x27;,\n",
       "                                  &#x27;Hormonal Contraceptives (years)&#x27;,\n",
       "                                  &#x27;IUD (years)&#x27;, &#x27;STDs (number)&#x27;]),\n",
       "                                (&#x27;simpleimputer&#x27;,\n",
       "                                 SimpleImputer(strategy=&#x27;most_frequent&#x27;),\n",
       "                                 [&#x27;Dx:Cancer&#x27;, &#x27;Dx:CIN&#x27;, &#x27;Dx:HPV&#x27;])])</pre></div></div></div><div class=\"sk-parallel\"><div class=\"sk-parallel-item\"><div class=\"sk-item\"><div class=\"sk-label-container\"><div class=\"sk-label sk-toggleable\"><input class=\"sk-toggleable__control sk-hidden--visually\" id=\"sk-estimator-id-4\" type=\"checkbox\" ><label for=\"sk-estimator-id-4\" class=\"sk-toggleable__label sk-toggleable__label-arrow\">pipeline</label><div class=\"sk-toggleable__content\"><pre>[&#x27;Age&#x27;, &#x27;Number of sexual partners&#x27;, &#x27;First sexual intercourse&#x27;, &#x27;Num of pregnancies&#x27;, &#x27;Smokes (years)&#x27;, &#x27;Smokes (packs/year)&#x27;, &#x27;Hormonal Contraceptives (years)&#x27;, &#x27;IUD (years)&#x27;, &#x27;STDs (number)&#x27;]</pre></div></div></div><div class=\"sk-serial\"><div class=\"sk-item\"><div class=\"sk-serial\"><div class=\"sk-item\"><div class=\"sk-estimator sk-toggleable\"><input class=\"sk-toggleable__control sk-hidden--visually\" id=\"sk-estimator-id-5\" type=\"checkbox\" ><label for=\"sk-estimator-id-5\" class=\"sk-toggleable__label sk-toggleable__label-arrow\">SimpleImputer</label><div class=\"sk-toggleable__content\"><pre>SimpleImputer(strategy=&#x27;median&#x27;)</pre></div></div></div><div class=\"sk-item\"><div class=\"sk-estimator sk-toggleable\"><input class=\"sk-toggleable__control sk-hidden--visually\" id=\"sk-estimator-id-6\" type=\"checkbox\" ><label for=\"sk-estimator-id-6\" class=\"sk-toggleable__label sk-toggleable__label-arrow\">PowerTransformer</label><div class=\"sk-toggleable__content\"><pre>PowerTransformer()</pre></div></div></div><div class=\"sk-item\"><div class=\"sk-estimator sk-toggleable\"><input class=\"sk-toggleable__control sk-hidden--visually\" id=\"sk-estimator-id-7\" type=\"checkbox\" ><label for=\"sk-estimator-id-7\" class=\"sk-toggleable__label sk-toggleable__label-arrow\">StandardScaler</label><div class=\"sk-toggleable__content\"><pre>StandardScaler()</pre></div></div></div></div></div></div></div></div><div class=\"sk-parallel-item\"><div class=\"sk-item\"><div class=\"sk-label-container\"><div class=\"sk-label sk-toggleable\"><input class=\"sk-toggleable__control sk-hidden--visually\" id=\"sk-estimator-id-8\" type=\"checkbox\" ><label for=\"sk-estimator-id-8\" class=\"sk-toggleable__label sk-toggleable__label-arrow\">simpleimputer</label><div class=\"sk-toggleable__content\"><pre>[&#x27;Dx:Cancer&#x27;, &#x27;Dx:CIN&#x27;, &#x27;Dx:HPV&#x27;]</pre></div></div></div><div class=\"sk-serial\"><div class=\"sk-item\"><div class=\"sk-estimator sk-toggleable\"><input class=\"sk-toggleable__control sk-hidden--visually\" id=\"sk-estimator-id-9\" type=\"checkbox\" ><label for=\"sk-estimator-id-9\" class=\"sk-toggleable__label sk-toggleable__label-arrow\">SimpleImputer</label><div class=\"sk-toggleable__content\"><pre>SimpleImputer(strategy=&#x27;most_frequent&#x27;)</pre></div></div></div></div></div></div></div></div><div class=\"sk-item\"><div class=\"sk-estimator sk-toggleable\"><input class=\"sk-toggleable__control sk-hidden--visually\" id=\"sk-estimator-id-10\" type=\"checkbox\" ><label for=\"sk-estimator-id-10\" class=\"sk-toggleable__label sk-toggleable__label-arrow\">SVC</label><div class=\"sk-toggleable__content\"><pre>SVC(class_weight=&#x27;balanced&#x27;)</pre></div></div></div></div></div></div></div></div></div></div></div></div>"
      ],
      "text/plain": [
       "RandomizedSearchCV(cv=5,\n",
       "                   estimator=Pipeline(steps=[('columntransformer',\n",
       "                                              ColumnTransformer(transformers=[('pipeline',\n",
       "                                                                               Pipeline(steps=[('simpleimputer',\n",
       "                                                                                                SimpleImputer(strategy='median')),\n",
       "                                                                                               ('powertransformer',\n",
       "                                                                                                PowerTransformer()),\n",
       "                                                                                               ('standardscaler',\n",
       "                                                                                                StandardScaler())]),\n",
       "                                                                               ['Age',\n",
       "                                                                                'Number '\n",
       "                                                                                'of '\n",
       "                                                                                'sexual '\n",
       "                                                                                'partners',\n",
       "                                                                                'First '\n",
       "                                                                                'sexual '\n",
       "                                                                                'intercourse',\n",
       "                                                                                'Num '\n",
       "                                                                                'of '\n",
       "                                                                                'pregnancies',...\n",
       "                                                                                'Contraceptives '\n",
       "                                                                                '(years)',\n",
       "                                                                                'IUD '\n",
       "                                                                                '(years)',\n",
       "                                                                                'STDs '\n",
       "                                                                                '(number)']),\n",
       "                                                                              ('simpleimputer',\n",
       "                                                                               SimpleImputer(strategy='most_frequent'),\n",
       "                                                                               ['Dx:Cancer',\n",
       "                                                                                'Dx:CIN',\n",
       "                                                                                'Dx:HPV'])])),\n",
       "                                             ('svc',\n",
       "                                              SVC(class_weight='balanced'))]),\n",
       "                   n_iter=30, n_jobs=-1,\n",
       "                   param_distributions={'svc__C': [0.01, 0.1, 1, 10, 100, 1000,\n",
       "                                                   10000],\n",
       "                                        'svc__gamma': [0.01, 0.1, 1, 10, 100,\n",
       "                                                       1000, 10000]},\n",
       "                   return_train_score=True, scoring='recall')"
      ]
     },
     "execution_count": 18,
     "metadata": {},
     "output_type": "execute_result"
    }
   ],
   "source": [
    "param_dist = {\n",
    "    'svc__C': [ 10**x for x in range( -2, 5)],\n",
    "    'svc__gamma': [ 10**x for x in range( -2, 5)]\n",
    "}\n",
    "\n",
    "random_search = RandomizedSearchCV(\n",
    "    pipe_svc, param_dist, n_iter = 30, cv = 5, scoring = 'recall', n_jobs=-1, return_train_score = True\n",
    ")\n",
    "\n",
    "random_search.fit( X_train, y_train)"
   ]
  },
  {
   "cell_type": "code",
   "execution_count": 19,
   "id": "4b0fae9c-1c58-44fa-8c30-34de20aca40a",
   "metadata": {},
   "outputs": [
    {
     "data": {
      "text/html": [
       "<div>\n",
       "<style scoped>\n",
       "    .dataframe tbody tr th:only-of-type {\n",
       "        vertical-align: middle;\n",
       "    }\n",
       "\n",
       "    .dataframe tbody tr th {\n",
       "        vertical-align: top;\n",
       "    }\n",
       "\n",
       "    .dataframe thead th {\n",
       "        text-align: right;\n",
       "    }\n",
       "</style>\n",
       "<table border=\"1\" class=\"dataframe\">\n",
       "  <thead>\n",
       "    <tr style=\"text-align: right;\">\n",
       "      <th></th>\n",
       "      <th>params</th>\n",
       "      <th>mean_test_score</th>\n",
       "      <th>mean_train_score</th>\n",
       "    </tr>\n",
       "  </thead>\n",
       "  <tbody>\n",
       "    <tr>\n",
       "      <th>17</th>\n",
       "      <td>{'svc__gamma': 0.01, 'svc__C': 1}</td>\n",
       "      <td>0.432727</td>\n",
       "      <td>0.529512</td>\n",
       "    </tr>\n",
       "    <tr>\n",
       "      <th>24</th>\n",
       "      <td>{'svc__gamma': 0.01, 'svc__C': 10}</td>\n",
       "      <td>0.392727</td>\n",
       "      <td>0.686220</td>\n",
       "    </tr>\n",
       "    <tr>\n",
       "      <th>10</th>\n",
       "      <td>{'svc__gamma': 0.01, 'svc__C': 0.1}</td>\n",
       "      <td>0.258182</td>\n",
       "      <td>0.254756</td>\n",
       "    </tr>\n",
       "    <tr>\n",
       "      <th>0</th>\n",
       "      <td>{'svc__gamma': 0.1, 'svc__C': 100}</td>\n",
       "      <td>0.238182</td>\n",
       "      <td>0.985366</td>\n",
       "    </tr>\n",
       "    <tr>\n",
       "      <th>23</th>\n",
       "      <td>{'svc__gamma': 0.01, 'svc__C': 10000}</td>\n",
       "      <td>0.238182</td>\n",
       "      <td>0.897195</td>\n",
       "    </tr>\n",
       "  </tbody>\n",
       "</table>\n",
       "</div>"
      ],
      "text/plain": [
       "                                   params  mean_test_score  mean_train_score\n",
       "17      {'svc__gamma': 0.01, 'svc__C': 1}         0.432727          0.529512\n",
       "24     {'svc__gamma': 0.01, 'svc__C': 10}         0.392727          0.686220\n",
       "10    {'svc__gamma': 0.01, 'svc__C': 0.1}         0.258182          0.254756\n",
       "0      {'svc__gamma': 0.1, 'svc__C': 100}         0.238182          0.985366\n",
       "23  {'svc__gamma': 0.01, 'svc__C': 10000}         0.238182          0.897195"
      ]
     },
     "execution_count": 19,
     "metadata": {},
     "output_type": "execute_result"
    }
   ],
   "source": [
    "results = pd.DataFrame( random_search.cv_results_)\n",
    "results[ ['params', 'mean_test_score', 'mean_train_score']].sort_values( 'mean_test_score', ascending = False).head()"
   ]
  },
  {
   "cell_type": "code",
   "execution_count": 20,
   "id": "b5ec0d01-993b-4dae-9195-d438734ac26e",
   "metadata": {},
   "outputs": [
    {
     "name": "stdout",
     "output_type": "stream",
     "text": [
      "[[278 100]\n",
      " [ 35  16]]\n",
      "              precision    recall  f1-score   support\n",
      "\n",
      "           0       0.89      0.74      0.80       378\n",
      "           1       0.14      0.31      0.19        51\n",
      "\n",
      "    accuracy                           0.69       429\n",
      "   macro avg       0.51      0.52      0.50       429\n",
      "weighted avg       0.80      0.69      0.73       429\n",
      "\n"
     ]
    }
   ],
   "source": [
    "y_hat = random_search.predict( X_test)\n",
    "print( confusion_matrix( y_test, y_hat, labels = [ 0, 1]))\n",
    "print( classification_report( y_test, y_hat))"
   ]
  },
  {
   "cell_type": "markdown",
   "id": "24368d99-d73a-4261-9041-b653a4cd876c",
   "metadata": {},
   "source": [
    "Try a less complex model to reduce overfitting."
   ]
  },
  {
   "cell_type": "code",
   "execution_count": 21,
   "id": "35528b21-606a-45ef-899d-1b037b07774b",
   "metadata": {},
   "outputs": [
    {
     "name": "stdout",
     "output_type": "stream",
     "text": [
      "[[  0 378]\n",
      " [  0  51]]\n",
      "              precision    recall  f1-score   support\n",
      "\n",
      "           0       0.00      0.00      0.00       378\n",
      "           1       0.12      1.00      0.21        51\n",
      "\n",
      "    accuracy                           0.12       429\n",
      "   macro avg       0.06      0.50      0.11       429\n",
      "weighted avg       0.01      0.12      0.03       429\n",
      "\n"
     ]
    },
    {
     "name": "stderr",
     "output_type": "stream",
     "text": [
      "C:\\Users\\User\\miniconda3\\lib\\site-packages\\sklearn\\metrics\\_classification.py:1334: UndefinedMetricWarning: Precision and F-score are ill-defined and being set to 0.0 in labels with no predicted samples. Use `zero_division` parameter to control this behavior.\n",
      "  _warn_prf(average, modifier, msg_start, len(result))\n",
      "C:\\Users\\User\\miniconda3\\lib\\site-packages\\sklearn\\metrics\\_classification.py:1334: UndefinedMetricWarning: Precision and F-score are ill-defined and being set to 0.0 in labels with no predicted samples. Use `zero_division` parameter to control this behavior.\n",
      "  _warn_prf(average, modifier, msg_start, len(result))\n",
      "C:\\Users\\User\\miniconda3\\lib\\site-packages\\sklearn\\metrics\\_classification.py:1334: UndefinedMetricWarning: Precision and F-score are ill-defined and being set to 0.0 in labels with no predicted samples. Use `zero_division` parameter to control this behavior.\n",
      "  _warn_prf(average, modifier, msg_start, len(result))\n"
     ]
    }
   ],
   "source": [
    "pipe_svc_opt = make_pipeline( column_transformer, SVC( class_weight = 'balanced', gamma = 10, C = 0.1))\n",
    "pipe_svc_opt.fit( X_train, y_train)\n",
    "y_hat = pipe_svc_opt.predict( X_test)\n",
    "print( confusion_matrix( y_test, y_hat, labels = [ 0, 1]))\n",
    "print( classification_report( y_test, y_hat))"
   ]
  },
  {
   "cell_type": "code",
   "execution_count": 22,
   "id": "559b0ac2-db12-4df0-855f-c541b21594a5",
   "metadata": {},
   "outputs": [],
   "source": [
    "precision, recall, thresholds = precision_recall_curve( y_test, pipe_svc_opt.decision_function( X_test))"
   ]
  },
  {
   "cell_type": "code",
   "execution_count": 23,
   "id": "6adf519d-c842-4d11-86d1-c17a9277cecb",
   "metadata": {},
   "outputs": [],
   "source": [
    "def pr_curve( precision, recall):\n",
    "    plot_df = pd.DataFrame( {\n",
    "        'precision': precision,\n",
    "        'recall': recall\n",
    "    })\n",
    "\n",
    "    chart = alt.Chart( plot_df).mark_line().encode(\n",
    "        x = 'precision',\n",
    "        y = 'recall'\n",
    "    ).properties( height = 300, width = 300)\n",
    "    return chart"
   ]
  },
  {
   "cell_type": "code",
   "execution_count": 24,
   "id": "22e1669e-117d-46b7-bc96-8c835387e85b",
   "metadata": {},
   "outputs": [
    {
     "data": {
      "application/vnd.vegalite.v4+json": {
       "$schema": "https://vega.github.io/schema/vega-lite/v4.17.0.json",
       "config": {
        "view": {
         "continuousHeight": 300,
         "continuousWidth": 400
        }
       },
       "data": {
        "url": "http://localhost:49772/ee7a795dbc945cced4366363d6e8f4fb.json"
       },
       "encoding": {
        "x": {
         "field": "precision",
         "type": "quantitative"
        },
        "y": {
         "field": "recall",
         "type": "quantitative"
        }
       },
       "height": 300,
       "mark": "line",
       "width": 300
      },
      "image/png": "[encoded data removed]",
      "text/plain": [
       "<VegaLite 4 object>\n",
       "\n",
       "If you see this message, it means the renderer has not been properly enabled\n",
       "for the frontend that you are using. For more information, see\n",
       "https://altair-viz.github.io/user_guide/troubleshooting.html\n"
      ]
     },
     "execution_count": 24,
     "metadata": {},
     "output_type": "execute_result"
    }
   ],
   "source": [
    "pr_curve( precision, recall)"
   ]
  },
  {
   "cell_type": "markdown",
   "id": "a8aec7a8-16a9-4627-ac8d-2d004d92259d",
   "metadata": {},
   "source": [
    "## Random Forest (Let's give it a try :))"
   ]
  },
  {
   "cell_type": "code",
   "execution_count": 25,
   "id": "05a7bf15-2ae2-404f-be04-92eac07f2bac",
   "metadata": {},
   "outputs": [
    {
     "data": {
      "text/html": [
       "<div>\n",
       "<style scoped>\n",
       "    .dataframe tbody tr th:only-of-type {\n",
       "        vertical-align: middle;\n",
       "    }\n",
       "\n",
       "    .dataframe tbody tr th {\n",
       "        vertical-align: top;\n",
       "    }\n",
       "\n",
       "    .dataframe thead th {\n",
       "        text-align: right;\n",
       "    }\n",
       "</style>\n",
       "<table border=\"1\" class=\"dataframe\">\n",
       "  <thead>\n",
       "    <tr style=\"text-align: right;\">\n",
       "      <th></th>\n",
       "      <th>fit_time</th>\n",
       "      <th>score_time</th>\n",
       "      <th>test_score</th>\n",
       "      <th>train_score</th>\n",
       "    </tr>\n",
       "  </thead>\n",
       "  <tbody>\n",
       "    <tr>\n",
       "      <th>0</th>\n",
       "      <td>0.749001</td>\n",
       "      <td>0.060006</td>\n",
       "      <td>0.0</td>\n",
       "      <td>0.95122</td>\n",
       "    </tr>\n",
       "    <tr>\n",
       "      <th>1</th>\n",
       "      <td>0.356002</td>\n",
       "      <td>0.048009</td>\n",
       "      <td>0.2</td>\n",
       "      <td>0.97561</td>\n",
       "    </tr>\n",
       "    <tr>\n",
       "      <th>2</th>\n",
       "      <td>0.339335</td>\n",
       "      <td>0.044000</td>\n",
       "      <td>0.0</td>\n",
       "      <td>0.95122</td>\n",
       "    </tr>\n",
       "    <tr>\n",
       "      <th>3</th>\n",
       "      <td>0.306995</td>\n",
       "      <td>0.031039</td>\n",
       "      <td>0.0</td>\n",
       "      <td>1.00000</td>\n",
       "    </tr>\n",
       "    <tr>\n",
       "      <th>4</th>\n",
       "      <td>0.315999</td>\n",
       "      <td>0.031003</td>\n",
       "      <td>0.2</td>\n",
       "      <td>0.95122</td>\n",
       "    </tr>\n",
       "  </tbody>\n",
       "</table>\n",
       "</div>"
      ],
      "text/plain": [
       "   fit_time  score_time  test_score  train_score\n",
       "0  0.749001    0.060006         0.0      0.95122\n",
       "1  0.356002    0.048009         0.2      0.97561\n",
       "2  0.339335    0.044000         0.0      0.95122\n",
       "3  0.306995    0.031039         0.0      1.00000\n",
       "4  0.315999    0.031003         0.2      0.95122"
      ]
     },
     "execution_count": 25,
     "metadata": {},
     "output_type": "execute_result"
    }
   ],
   "source": [
    "from sklearn.ensemble import RandomForestClassifier\n",
    "pipe_rfc = make_pipeline( column_transformer, RandomForestClassifier( random_state = 123))\n",
    "cv_result = cross_validate( pipe_rfc, X_train, y_train, cv = 5, return_train_score = True, scoring = 'recall')\n",
    "pd.DataFrame( cv_result)"
   ]
  },
  {
   "cell_type": "code",
   "execution_count": 26,
   "id": "f8ebf264-5a2c-4368-9dcc-17bd456566ac",
   "metadata": {},
   "outputs": [
    {
     "data": {
      "text/html": [
       "<div>\n",
       "<style scoped>\n",
       "    .dataframe tbody tr th:only-of-type {\n",
       "        vertical-align: middle;\n",
       "    }\n",
       "\n",
       "    .dataframe tbody tr th {\n",
       "        vertical-align: top;\n",
       "    }\n",
       "\n",
       "    .dataframe thead th {\n",
       "        text-align: right;\n",
       "    }\n",
       "</style>\n",
       "<table border=\"1\" class=\"dataframe\">\n",
       "  <thead>\n",
       "    <tr style=\"text-align: right;\">\n",
       "      <th></th>\n",
       "      <th>params</th>\n",
       "      <th>mean_test_score</th>\n",
       "    </tr>\n",
       "  </thead>\n",
       "  <tbody>\n",
       "    <tr>\n",
       "      <th>15</th>\n",
       "      <td>{'randomforestclassifier__n_estimators': 400, ...</td>\n",
       "      <td>0.1</td>\n",
       "    </tr>\n",
       "    <tr>\n",
       "      <th>27</th>\n",
       "      <td>{'randomforestclassifier__n_estimators': 100, ...</td>\n",
       "      <td>0.1</td>\n",
       "    </tr>\n",
       "    <tr>\n",
       "      <th>17</th>\n",
       "      <td>{'randomforestclassifier__n_estimators': 700, ...</td>\n",
       "      <td>0.1</td>\n",
       "    </tr>\n",
       "    <tr>\n",
       "      <th>22</th>\n",
       "      <td>{'randomforestclassifier__n_estimators': 700, ...</td>\n",
       "      <td>0.1</td>\n",
       "    </tr>\n",
       "    <tr>\n",
       "      <th>23</th>\n",
       "      <td>{'randomforestclassifier__n_estimators': 400, ...</td>\n",
       "      <td>0.1</td>\n",
       "    </tr>\n",
       "  </tbody>\n",
       "</table>\n",
       "</div>"
      ],
      "text/plain": [
       "                                               params  mean_test_score\n",
       "15  {'randomforestclassifier__n_estimators': 400, ...              0.1\n",
       "27  {'randomforestclassifier__n_estimators': 100, ...              0.1\n",
       "17  {'randomforestclassifier__n_estimators': 700, ...              0.1\n",
       "22  {'randomforestclassifier__n_estimators': 700, ...              0.1\n",
       "23  {'randomforestclassifier__n_estimators': 400, ...              0.1"
      ]
     },
     "execution_count": 26,
     "metadata": {},
     "output_type": "execute_result"
    }
   ],
   "source": [
    "param_dist = {\n",
    "    'randomforestclassifier__n_estimators': [ 100*x for x in range( 1, 11)],\n",
    "    'randomforestclassifier__max_depth': [ 10*x for x in range( 1, 11)],\n",
    "    'randomforestclassifier__max_features': [ 'sqrt', 'log2'],\n",
    "    'randomforestclassifier__criterion': [ 'gini', 'entropy', 'log_loss'],\n",
    "    'randomforestclassifier__bootstrap': [ True, False]\n",
    "}\n",
    "\n",
    "random_search = RandomizedSearchCV(\n",
    "    pipe_rfc, param_dist, n_iter = 30, cv = 5, scoring = 'recall', n_jobs=-1, return_train_score = True, random_state = 918\n",
    ")\n",
    "\n",
    "random_search.fit( X_train, y_train)\n",
    "\n",
    "results = pd.DataFrame(random_search.cv_results_)\n",
    "results[ ['params', 'mean_test_score']].sort_values( 'mean_test_score', ascending = False).head()"
   ]
  },
  {
   "cell_type": "code",
   "execution_count": 27,
   "id": "f1d5eabc-4eaf-47a9-940a-8db56e4336f2",
   "metadata": {},
   "outputs": [
    {
     "name": "stdout",
     "output_type": "stream",
     "text": [
      "{'randomforestclassifier__n_estimators': 400, 'randomforestclassifier__max_features': 'sqrt', 'randomforestclassifier__max_depth': 90, 'randomforestclassifier__criterion': 'entropy', 'randomforestclassifier__bootstrap': False}\n",
      "[[364  14]\n",
      " [ 49   2]]\n",
      "              precision    recall  f1-score   support\n",
      "\n",
      "           0       0.88      0.96      0.92       378\n",
      "           1       0.12      0.04      0.06        51\n",
      "\n",
      "    accuracy                           0.85       429\n",
      "   macro avg       0.50      0.50      0.49       429\n",
      "weighted avg       0.79      0.85      0.82       429\n",
      "\n"
     ]
    }
   ],
   "source": [
    "print( results[ ['params', 'mean_test_score']].sort_values( 'mean_test_score', ascending = False).iloc[ 0, 0])\n",
    "y_hat = random_search.predict( X_test)\n",
    "print( confusion_matrix( y_test, y_hat, labels = [ 0, 1]))\n",
    "print( classification_report( y_test, y_hat))"
   ]
  },
  {
   "cell_type": "code",
   "execution_count": 28,
   "id": "c78aa6f0-acfe-4856-91bf-1cc0195c04fa",
   "metadata": {},
   "outputs": [],
   "source": [
    "precision, recall, thresholds = precision_recall_curve( y_test, random_search.predict_proba( X_test)[:,1])"
   ]
  },
  {
   "cell_type": "code",
   "execution_count": 29,
   "id": "4a2525a9-ec40-4a9e-9edb-aab6e6d05521",
   "metadata": {},
   "outputs": [
    {
     "data": {
      "application/vnd.vegalite.v4+json": {
       "$schema": "https://vega.github.io/schema/vega-lite/v4.17.0.json",
       "config": {
        "view": {
         "continuousHeight": 300,
         "continuousWidth": 400
        }
       },
       "data": {
        "url": "http://localhost:49772/bc16c218919324a8061fc7ac70c19b3b.json"
       },
       "encoding": {
        "x": {
         "field": "precision",
         "type": "quantitative"
        },
        "y": {
         "field": "recall",
         "type": "quantitative"
        }
       },
       "height": 300,
       "mark": "line",
       "width": 300
      },
      "image/png": "[encoded data removed]",
      "text/plain": [
       "<VegaLite 4 object>\n",
       "\n",
       "If you see this message, it means the renderer has not been properly enabled\n",
       "for the frontend that you are using. For more information, see\n",
       "https://altair-viz.github.io/user_guide/troubleshooting.html\n"
      ]
     },
     "execution_count": 29,
     "metadata": {},
     "output_type": "execute_result"
    }
   ],
   "source": [
    "pr_curve( precision, recall)"
   ]
  },
  {
   "cell_type": "markdown",
   "id": "e283c871-5d6a-4fac-a9f1-e3ee63c8ea2c",
   "metadata": {},
   "source": [
    "## Naive Bayes"
   ]
  },
  {
   "cell_type": "code",
   "execution_count": 30,
   "id": "6d164625-adff-426c-a063-eb83fc7e852c",
   "metadata": {},
   "outputs": [
    {
     "data": {
      "text/html": [
       "<div>\n",
       "<style scoped>\n",
       "    .dataframe tbody tr th:only-of-type {\n",
       "        vertical-align: middle;\n",
       "    }\n",
       "\n",
       "    .dataframe tbody tr th {\n",
       "        vertical-align: top;\n",
       "    }\n",
       "\n",
       "    .dataframe thead th {\n",
       "        text-align: right;\n",
       "    }\n",
       "</style>\n",
       "<table border=\"1\" class=\"dataframe\">\n",
       "  <thead>\n",
       "    <tr style=\"text-align: right;\">\n",
       "      <th></th>\n",
       "      <th>fit_time</th>\n",
       "      <th>score_time</th>\n",
       "      <th>test_score</th>\n",
       "      <th>train_score</th>\n",
       "    </tr>\n",
       "  </thead>\n",
       "  <tbody>\n",
       "    <tr>\n",
       "      <th>0</th>\n",
       "      <td>0.045002</td>\n",
       "      <td>0.014027</td>\n",
       "      <td>0.200000</td>\n",
       "      <td>0.170732</td>\n",
       "    </tr>\n",
       "    <tr>\n",
       "      <th>1</th>\n",
       "      <td>0.051001</td>\n",
       "      <td>0.009001</td>\n",
       "      <td>0.200000</td>\n",
       "      <td>0.268293</td>\n",
       "    </tr>\n",
       "    <tr>\n",
       "      <th>2</th>\n",
       "      <td>0.040997</td>\n",
       "      <td>0.008001</td>\n",
       "      <td>0.100000</td>\n",
       "      <td>0.219512</td>\n",
       "    </tr>\n",
       "    <tr>\n",
       "      <th>3</th>\n",
       "      <td>0.037996</td>\n",
       "      <td>0.007001</td>\n",
       "      <td>0.181818</td>\n",
       "      <td>0.250000</td>\n",
       "    </tr>\n",
       "    <tr>\n",
       "      <th>4</th>\n",
       "      <td>0.039999</td>\n",
       "      <td>0.011000</td>\n",
       "      <td>0.300000</td>\n",
       "      <td>0.219512</td>\n",
       "    </tr>\n",
       "  </tbody>\n",
       "</table>\n",
       "</div>"
      ],
      "text/plain": [
       "   fit_time  score_time  test_score  train_score\n",
       "0  0.045002    0.014027    0.200000     0.170732\n",
       "1  0.051001    0.009001    0.200000     0.268293\n",
       "2  0.040997    0.008001    0.100000     0.219512\n",
       "3  0.037996    0.007001    0.181818     0.250000\n",
       "4  0.039999    0.011000    0.300000     0.219512"
      ]
     },
     "execution_count": 30,
     "metadata": {},
     "output_type": "execute_result"
    }
   ],
   "source": [
    "from sklearn.naive_bayes import GaussianNB\n",
    "\n",
    "pipe_nb = make_pipeline( column_transformer, GaussianNB())\n",
    "cv_result = cross_validate( pipe_nb, X_train, y_train, cv = 5, return_train_score = True, scoring = 'recall')\n",
    "pd.DataFrame( cv_result)"
   ]
  },
  {
   "cell_type": "code",
   "execution_count": 31,
   "id": "ecdec644-d5c9-4036-8e30-57a16ee74fda",
   "metadata": {},
   "outputs": [
    {
     "name": "stdout",
     "output_type": "stream",
     "text": [
      "[[358  20]\n",
      " [ 40  11]]\n",
      "              precision    recall  f1-score   support\n",
      "\n",
      "           0       0.90      0.95      0.92       378\n",
      "           1       0.35      0.22      0.27        51\n",
      "\n",
      "    accuracy                           0.86       429\n",
      "   macro avg       0.63      0.58      0.60       429\n",
      "weighted avg       0.83      0.86      0.84       429\n",
      "\n"
     ]
    }
   ],
   "source": [
    "pipe_nb.fit( X_train, y_train) # As no hyperparameter optimization for Gaussian naive Bayes\n",
    "y_hat = pipe_nb.predict( X_test)\n",
    "print( confusion_matrix( y_test, y_hat, labels = [ 0, 1]))\n",
    "print( classification_report( y_test, y_hat))"
   ]
  },
  {
   "cell_type": "code",
   "execution_count": 32,
   "id": "44903232-820b-4170-8962-e26cb504edfe",
   "metadata": {},
   "outputs": [
    {
     "data": {
      "application/vnd.vegalite.v4+json": {
       "$schema": "https://vega.github.io/schema/vega-lite/v4.17.0.json",
       "config": {
        "view": {
         "continuousHeight": 300,
         "continuousWidth": 400
        }
       },
       "data": {
        "url": "http://localhost:49772/86d7c081998b2a16aea7f9469d3baad4.json"
       },
       "encoding": {
        "x": {
         "field": "precision",
         "type": "quantitative"
        },
        "y": {
         "field": "recall",
         "type": "quantitative"
        }
       },
       "height": 300,
       "mark": "line",
       "width": 300
      },
      "image/png": "[encoded data removed]",
      "text/plain": [
       "<VegaLite 4 object>\n",
       "\n",
       "If you see this message, it means the renderer has not been properly enabled\n",
       "for the frontend that you are using. For more information, see\n",
       "https://altair-viz.github.io/user_guide/troubleshooting.html\n"
      ]
     },
     "execution_count": 32,
     "metadata": {},
     "output_type": "execute_result"
    }
   ],
   "source": [
    "precision, recall, thresholds = precision_recall_curve( y_test, pipe_nb.predict_proba( X_test)[:,1])\n",
    "pr_curve( precision, recall)"
   ]
  },
  {
   "cell_type": "markdown",
   "id": "38c70c41-0c37-49b5-880f-62a638249e4b",
   "metadata": {},
   "source": [
    "## Logistic Regression"
   ]
  },
  {
   "cell_type": "code",
   "execution_count": 33,
   "id": "08e31cf1-694a-4d9d-b6c7-7e7dda3c572f",
   "metadata": {},
   "outputs": [
    {
     "data": {
      "text/html": [
       "<div>\n",
       "<style scoped>\n",
       "    .dataframe tbody tr th:only-of-type {\n",
       "        vertical-align: middle;\n",
       "    }\n",
       "\n",
       "    .dataframe tbody tr th {\n",
       "        vertical-align: top;\n",
       "    }\n",
       "\n",
       "    .dataframe thead th {\n",
       "        text-align: right;\n",
       "    }\n",
       "</style>\n",
       "<table border=\"1\" class=\"dataframe\">\n",
       "  <thead>\n",
       "    <tr style=\"text-align: right;\">\n",
       "      <th></th>\n",
       "      <th>fit_time</th>\n",
       "      <th>score_time</th>\n",
       "      <th>test_score</th>\n",
       "      <th>train_score</th>\n",
       "    </tr>\n",
       "  </thead>\n",
       "  <tbody>\n",
       "    <tr>\n",
       "      <th>0</th>\n",
       "      <td>0.066033</td>\n",
       "      <td>0.024000</td>\n",
       "      <td>0.600000</td>\n",
       "      <td>0.658537</td>\n",
       "    </tr>\n",
       "    <tr>\n",
       "      <th>1</th>\n",
       "      <td>0.103007</td>\n",
       "      <td>0.018985</td>\n",
       "      <td>0.700000</td>\n",
       "      <td>0.609756</td>\n",
       "    </tr>\n",
       "    <tr>\n",
       "      <th>2</th>\n",
       "      <td>0.055991</td>\n",
       "      <td>0.014002</td>\n",
       "      <td>0.200000</td>\n",
       "      <td>0.658537</td>\n",
       "    </tr>\n",
       "    <tr>\n",
       "      <th>3</th>\n",
       "      <td>0.050002</td>\n",
       "      <td>0.010002</td>\n",
       "      <td>0.545455</td>\n",
       "      <td>0.575000</td>\n",
       "    </tr>\n",
       "    <tr>\n",
       "      <th>4</th>\n",
       "      <td>0.071005</td>\n",
       "      <td>0.017995</td>\n",
       "      <td>0.500000</td>\n",
       "      <td>0.609756</td>\n",
       "    </tr>\n",
       "  </tbody>\n",
       "</table>\n",
       "</div>"
      ],
      "text/plain": [
       "   fit_time  score_time  test_score  train_score\n",
       "0  0.066033    0.024000    0.600000     0.658537\n",
       "1  0.103007    0.018985    0.700000     0.609756\n",
       "2  0.055991    0.014002    0.200000     0.658537\n",
       "3  0.050002    0.010002    0.545455     0.575000\n",
       "4  0.071005    0.017995    0.500000     0.609756"
      ]
     },
     "execution_count": 33,
     "metadata": {},
     "output_type": "execute_result"
    }
   ],
   "source": [
    "from sklearn.linear_model import LogisticRegression\n",
    "pipe_logreg = make_pipeline( column_transformer, LogisticRegression( max_iter = 1000, solver = 'saga', class_weight = 'balanced', random_state = 123))\n",
    "cv_result = cross_validate( pipe_logreg, X_train, y_train, cv = 5, return_train_score = True, scoring = 'recall')\n",
    "pd.DataFrame( cv_result)"
   ]
  },
  {
   "cell_type": "code",
   "execution_count": 34,
   "id": "8f2c7bf7-5bb4-42e4-b06a-6d240de3aabd",
   "metadata": {},
   "outputs": [
    {
     "name": "stderr",
     "output_type": "stream",
     "text": [
      "C:\\Users\\User\\miniconda3\\lib\\site-packages\\sklearn\\linear_model\\_logistic.py:1106: UserWarning: l1_ratio parameter is only used when penalty is 'elasticnet'. Got (penalty=l1)\n",
      "  warnings.warn(\n"
     ]
    },
    {
     "data": {
      "text/html": [
       "<div>\n",
       "<style scoped>\n",
       "    .dataframe tbody tr th:only-of-type {\n",
       "        vertical-align: middle;\n",
       "    }\n",
       "\n",
       "    .dataframe tbody tr th {\n",
       "        vertical-align: top;\n",
       "    }\n",
       "\n",
       "    .dataframe thead th {\n",
       "        text-align: right;\n",
       "    }\n",
       "</style>\n",
       "<table border=\"1\" class=\"dataframe\">\n",
       "  <thead>\n",
       "    <tr style=\"text-align: right;\">\n",
       "      <th></th>\n",
       "      <th>params</th>\n",
       "      <th>mean_test_score</th>\n",
       "    </tr>\n",
       "  </thead>\n",
       "  <tbody>\n",
       "    <tr>\n",
       "      <th>26</th>\n",
       "      <td>{'logisticregression__C': 1, 'logisticregressi...</td>\n",
       "      <td>0.211881</td>\n",
       "    </tr>\n",
       "    <tr>\n",
       "      <th>30</th>\n",
       "      <td>{'logisticregression__C': 1, 'logisticregressi...</td>\n",
       "      <td>0.211881</td>\n",
       "    </tr>\n",
       "    <tr>\n",
       "      <th>34</th>\n",
       "      <td>{'logisticregression__C': 1, 'logisticregressi...</td>\n",
       "      <td>0.211881</td>\n",
       "    </tr>\n",
       "    <tr>\n",
       "      <th>35</th>\n",
       "      <td>{'logisticregression__C': 1, 'logisticregressi...</td>\n",
       "      <td>0.211881</td>\n",
       "    </tr>\n",
       "    <tr>\n",
       "      <th>13</th>\n",
       "      <td>{'logisticregression__C': 0.1, 'logisticregres...</td>\n",
       "      <td>0.198512</td>\n",
       "    </tr>\n",
       "  </tbody>\n",
       "</table>\n",
       "</div>"
      ],
      "text/plain": [
       "                                               params  mean_test_score\n",
       "26  {'logisticregression__C': 1, 'logisticregressi...         0.211881\n",
       "30  {'logisticregression__C': 1, 'logisticregressi...         0.211881\n",
       "34  {'logisticregression__C': 1, 'logisticregressi...         0.211881\n",
       "35  {'logisticregression__C': 1, 'logisticregressi...         0.211881\n",
       "13  {'logisticregression__C': 0.1, 'logisticregres...         0.198512"
      ]
     },
     "execution_count": 34,
     "metadata": {},
     "output_type": "execute_result"
    }
   ],
   "source": [
    "param_dist = {\n",
    "    'logisticregression__C': [ 10**x for x in range( -2, 5)],\n",
    "    'logisticregression__penalty': [ 'none', 'l2', 'l1', 'elasticnet'],\n",
    "    'logisticregression__l1_ratio': [ 0, 0.5, 1]\n",
    "}\n",
    "\n",
    "grid_search = GridSearchCV(\n",
    "    pipe_logreg, param_dist, cv = 5, scoring = 'precision', n_jobs=-1, return_train_score = True\n",
    ")\n",
    "\n",
    "grid_search.fit( X_train, y_train)\n",
    "\n",
    "results = pd.DataFrame( grid_search.cv_results_)\n",
    "results[ ['params', 'mean_test_score']].sort_values( 'mean_test_score', ascending = False).head()"
   ]
  },
  {
   "cell_type": "code",
   "execution_count": 35,
   "id": "8e2fa089-12a6-4e56-88bf-564367ed01f0",
   "metadata": {},
   "outputs": [
    {
     "data": {
      "text/plain": [
       "{'logisticregression__C': 1,\n",
       " 'logisticregression__l1_ratio': 0,\n",
       " 'logisticregression__penalty': 'l1'}"
      ]
     },
     "execution_count": 35,
     "metadata": {},
     "output_type": "execute_result"
    }
   ],
   "source": [
    "results[ ['params', 'mean_test_score']].sort_values( 'mean_test_score', ascending = False).iloc[ 0, 0]"
   ]
  },
  {
   "cell_type": "code",
   "execution_count": 36,
   "id": "d3730b20-841a-4d90-9ac4-e924365449cc",
   "metadata": {},
   "outputs": [
    {
     "name": "stdout",
     "output_type": "stream",
     "text": [
      "[[253 125]\n",
      " [ 29  22]]\n",
      "              precision    recall  f1-score   support\n",
      "\n",
      "           0       0.90      0.67      0.77       378\n",
      "           1       0.15      0.43      0.22        51\n",
      "\n",
      "    accuracy                           0.64       429\n",
      "   macro avg       0.52      0.55      0.49       429\n",
      "weighted avg       0.81      0.64      0.70       429\n",
      "\n"
     ]
    }
   ],
   "source": [
    "y_hat = grid_search.predict( X_test)\n",
    "print( confusion_matrix( y_test, y_hat, labels = [ 0, 1]))\n",
    "print( classification_report( y_test, y_hat))"
   ]
  },
  {
   "cell_type": "code",
   "execution_count": 37,
   "id": "627e1747-bc16-44ad-9096-44890aa1c25e",
   "metadata": {},
   "outputs": [
    {
     "data": {
      "application/vnd.vegalite.v4+json": {
       "$schema": "https://vega.github.io/schema/vega-lite/v4.17.0.json",
       "config": {
        "view": {
         "continuousHeight": 300,
         "continuousWidth": 400
        }
       },
       "data": {
        "url": "http://localhost:49772/25a1538df4d65dd651877cbdbc3e653f.json"
       },
       "encoding": {
        "x": {
         "field": "precision",
         "type": "quantitative"
        },
        "y": {
         "field": "recall",
         "type": "quantitative"
        }
       },
       "height": 300,
       "mark": "line",
       "width": 300
      },
      "image/png": "[encoded data removed]",
      "text/plain": [
       "<VegaLite 4 object>\n",
       "\n",
       "If you see this message, it means the renderer has not been properly enabled\n",
       "for the frontend that you are using. For more information, see\n",
       "https://altair-viz.github.io/user_guide/troubleshooting.html\n"
      ]
     },
     "execution_count": 37,
     "metadata": {},
     "output_type": "execute_result"
    }
   ],
   "source": [
    "precision, recall, thresholds = precision_recall_curve( y_test, grid_search.predict_proba( X_test)[:,1])\n",
    "pr_curve( precision, recall)"
   ]
  },
  {
   "cell_type": "code",
   "execution_count": 47,
   "id": "bdefd4e9-c63b-4159-988b-22ea93e60341",
   "metadata": {},
   "outputs": [],
   "source": [
    "plot_df = pd.DataFrame( {\n",
    "    'precision': precision,\n",
    "    'recall': recall\n",
    "})\n",
    "\n",
    "chart = alt.Chart( plot_df).mark_point().encode(\n",
    "    x = 'precision',\n",
    "    y = 'recall'\n",
    ").properties( height = 300, width = 300)"
   ]
  },
  {
   "cell_type": "code",
   "execution_count": 50,
   "id": "f10dcc2c-755f-4493-99a0-ff864fa306c4",
   "metadata": {},
   "outputs": [
    {
     "data": {
      "text/plain": [
       "(420, 419)"
      ]
     },
     "execution_count": 50,
     "metadata": {},
     "output_type": "execute_result"
    }
   ],
   "source": [
    "len( precision), len( thresholds)"
   ]
  },
  {
   "cell_type": "code",
   "execution_count": 52,
   "id": "6c8aa53f-f48e-4d8e-9ec8-0f51c82f7aec",
   "metadata": {},
   "outputs": [],
   "source": [
    "thresholds = np.append( thresholds, 1)"
   ]
  },
  {
   "cell_type": "code",
   "execution_count": 59,
   "id": "cec5e0fb-e7b8-42e8-8e9f-5f1e6f0a5a7d",
   "metadata": {},
   "outputs": [],
   "source": [
    "plt_df = pd.DataFrame( {\n",
    "    'precision': precision,\n",
    "    'recall': recall,\n",
    "    'thresholds': thresholds\n",
    "})\n",
    "\n",
    "chart = alt.Chart( plt_df).mark_point().encode(\n",
    "    x = 'thresholds',\n",
    "    y = 'recall',\n",
    ").properties( height = 300, width = 300)"
   ]
  },
  {
   "cell_type": "code",
   "execution_count": 60,
   "id": "4ad9deaf-fe85-418e-bf8b-aba2a0c6841b",
   "metadata": {},
   "outputs": [
    {
     "data": {
      "application/vnd.vegalite.v4+json": {
       "$schema": "https://vega.github.io/schema/vega-lite/v4.17.0.json",
       "config": {
        "view": {
         "continuousHeight": 300,
         "continuousWidth": 400
        }
       },
       "data": {
        "url": "http://localhost:49772/8ee350521619da80c1e91fccfeb99a3a.json"
       },
       "encoding": {
        "x": {
         "field": "thresholds",
         "type": "quantitative"
        },
        "y": {
         "field": "recall",
         "type": "quantitative"
        }
       },
       "height": 300,
       "mark": "point",
       "width": 300
      },
      "image/png": "[encoded data removed]",
      "text/plain": [
       "<VegaLite 4 object>\n",
       "\n",
       "If you see this message, it means the renderer has not been properly enabled\n",
       "for the frontend that you are using. For more information, see\n",
       "https://altair-viz.github.io/user_guide/troubleshooting.html\n"
      ]
     },
     "execution_count": 60,
     "metadata": {},
     "output_type": "execute_result"
    }
   ],
   "source": [
    "chart"
   ]
  },
  {
   "cell_type": "code",
   "execution_count": null,
   "id": "823447c7-4582-443f-a669-c1cedd266250",
   "metadata": {},
   "outputs": [],
   "source": []
  }
 ],
 "metadata": {
  "kernelspec": {
   "display_name": "Python 3 (ipykernel)",
   "language": "python",
   "name": "python3"
  },
  "language_info": {
   "codemirror_mode": {
    "name": "ipython",
    "version": 3
   },
   "file_extension": ".py",
   "mimetype": "text/x-python",
   "name": "python",
   "nbconvert_exporter": "python",
   "pygments_lexer": "ipython3",
   "version": "3.9.13"
  }
 },
 "nbformat": 4,
 "nbformat_minor": 5
}
