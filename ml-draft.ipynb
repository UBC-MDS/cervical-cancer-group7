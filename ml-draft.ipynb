{
 "cells": [
  {
   "cell_type": "markdown",
   "id": "67e3f175-8f18-4e0e-8383-cea51a62f6ad",
   "metadata": {},
   "source": [
    "# ML draft"
   ]
  },
  {
   "cell_type": "markdown",
   "id": "99fce30b-959b-457a-a572-0cc64477f924",
   "metadata": {},
   "source": [
    "Method and code is adopted from https://github.com/morrismanfung/yukoproject2022/blob/main/02-model/001-knn.ipynb"
   ]
  },
  {
   "cell_type": "markdown",
   "id": "a7cfddd1-0eff-460e-ae35-3cbcdc6c2800",
   "metadata": {},
   "source": [
    "## General Data Wrangling"
   ]
  },
  {
   "cell_type": "code",
   "execution_count": 1,
   "id": "45a9f5ba-d3b5-47e0-b9a8-99d42c89eb7b",
   "metadata": {},
   "outputs": [
    {
     "data": {
      "text/plain": [
       "DataTransformerRegistry.enable('data_server')"
      ]
     },
     "execution_count": 1,
     "metadata": {},
     "output_type": "execute_result"
    }
   ],
   "source": [
    "import numpy as np\n",
    "import pandas as pd\n",
    "import matplotlib.pyplot as plt\n",
    "import seaborn as sns\n",
    "from sklearn.model_selection import cross_val_score, cross_validate, train_test_split, GridSearchCV, RandomizedSearchCV\n",
    "from sklearn.preprocessing import StandardScaler, FunctionTransformer, PowerTransformer, OneHotEncoder\n",
    "from sklearn.impute import SimpleImputer\n",
    "from sklearn.pipeline import Pipeline, make_pipeline\n",
    "from sklearn.compose import ColumnTransformer, make_column_transformer\n",
    "from sklearn.neighbors import KNeighborsClassifier\n",
    "from sklearn.svm import SVC\n",
    "from sklearn.metrics import classification_report, confusion_matrix, precision_recall_curve, roc_curve\n",
    "\n",
    "import altair as alt\n",
    "alt.renderers.enable('mimetype')\n",
    "alt.data_transformers.enable('data_server')"
   ]
  },
  {
   "cell_type": "code",
   "execution_count": 2,
   "id": "782bdbef-4986-4ac7-896b-9cd3681d4731",
   "metadata": {},
   "outputs": [],
   "source": [
    "data_full = pd.read_csv( 'data/risk_factors_cervical_cancer.csv')"
   ]
  },
  {
   "cell_type": "code",
   "execution_count": 3,
   "id": "9f519a49-671c-4c80-bb52-3c62c54a82eb",
   "metadata": {},
   "outputs": [
    {
     "data": {
      "text/html": [
       "<div>\n",
       "<style scoped>\n",
       "    .dataframe tbody tr th:only-of-type {\n",
       "        vertical-align: middle;\n",
       "    }\n",
       "\n",
       "    .dataframe tbody tr th {\n",
       "        vertical-align: top;\n",
       "    }\n",
       "\n",
       "    .dataframe thead th {\n",
       "        text-align: right;\n",
       "    }\n",
       "</style>\n",
       "<table border=\"1\" class=\"dataframe\">\n",
       "  <thead>\n",
       "    <tr style=\"text-align: right;\">\n",
       "      <th></th>\n",
       "      <th>Age</th>\n",
       "      <th>Number of sexual partners</th>\n",
       "      <th>First sexual intercourse</th>\n",
       "      <th>Num of pregnancies</th>\n",
       "      <th>Smokes</th>\n",
       "      <th>Smokes (years)</th>\n",
       "      <th>Smokes (packs/year)</th>\n",
       "      <th>Hormonal Contraceptives</th>\n",
       "      <th>Hormonal Contraceptives (years)</th>\n",
       "      <th>IUD</th>\n",
       "      <th>...</th>\n",
       "      <th>STDs: Time since first diagnosis</th>\n",
       "      <th>STDs: Time since last diagnosis</th>\n",
       "      <th>Dx:Cancer</th>\n",
       "      <th>Dx:CIN</th>\n",
       "      <th>Dx:HPV</th>\n",
       "      <th>Dx</th>\n",
       "      <th>Hinselmann</th>\n",
       "      <th>Schiller</th>\n",
       "      <th>Citology</th>\n",
       "      <th>Biopsy</th>\n",
       "    </tr>\n",
       "  </thead>\n",
       "  <tbody>\n",
       "    <tr>\n",
       "      <th>0</th>\n",
       "      <td>18</td>\n",
       "      <td>4.0</td>\n",
       "      <td>15.0</td>\n",
       "      <td>1.0</td>\n",
       "      <td>0.0</td>\n",
       "      <td>0.0</td>\n",
       "      <td>0.0</td>\n",
       "      <td>0.0</td>\n",
       "      <td>0.0</td>\n",
       "      <td>0.0</td>\n",
       "      <td>...</td>\n",
       "      <td>?</td>\n",
       "      <td>?</td>\n",
       "      <td>0</td>\n",
       "      <td>0</td>\n",
       "      <td>0</td>\n",
       "      <td>0</td>\n",
       "      <td>0</td>\n",
       "      <td>0</td>\n",
       "      <td>0</td>\n",
       "      <td>0</td>\n",
       "    </tr>\n",
       "    <tr>\n",
       "      <th>1</th>\n",
       "      <td>15</td>\n",
       "      <td>1.0</td>\n",
       "      <td>14.0</td>\n",
       "      <td>1.0</td>\n",
       "      <td>0.0</td>\n",
       "      <td>0.0</td>\n",
       "      <td>0.0</td>\n",
       "      <td>0.0</td>\n",
       "      <td>0.0</td>\n",
       "      <td>0.0</td>\n",
       "      <td>...</td>\n",
       "      <td>?</td>\n",
       "      <td>?</td>\n",
       "      <td>0</td>\n",
       "      <td>0</td>\n",
       "      <td>0</td>\n",
       "      <td>0</td>\n",
       "      <td>0</td>\n",
       "      <td>0</td>\n",
       "      <td>0</td>\n",
       "      <td>0</td>\n",
       "    </tr>\n",
       "    <tr>\n",
       "      <th>2</th>\n",
       "      <td>34</td>\n",
       "      <td>1.0</td>\n",
       "      <td>?</td>\n",
       "      <td>1.0</td>\n",
       "      <td>0.0</td>\n",
       "      <td>0.0</td>\n",
       "      <td>0.0</td>\n",
       "      <td>0.0</td>\n",
       "      <td>0.0</td>\n",
       "      <td>0.0</td>\n",
       "      <td>...</td>\n",
       "      <td>?</td>\n",
       "      <td>?</td>\n",
       "      <td>0</td>\n",
       "      <td>0</td>\n",
       "      <td>0</td>\n",
       "      <td>0</td>\n",
       "      <td>0</td>\n",
       "      <td>0</td>\n",
       "      <td>0</td>\n",
       "      <td>0</td>\n",
       "    </tr>\n",
       "    <tr>\n",
       "      <th>3</th>\n",
       "      <td>52</td>\n",
       "      <td>5.0</td>\n",
       "      <td>16.0</td>\n",
       "      <td>4.0</td>\n",
       "      <td>1.0</td>\n",
       "      <td>37.0</td>\n",
       "      <td>37.0</td>\n",
       "      <td>1.0</td>\n",
       "      <td>3.0</td>\n",
       "      <td>0.0</td>\n",
       "      <td>...</td>\n",
       "      <td>?</td>\n",
       "      <td>?</td>\n",
       "      <td>1</td>\n",
       "      <td>0</td>\n",
       "      <td>1</td>\n",
       "      <td>0</td>\n",
       "      <td>0</td>\n",
       "      <td>0</td>\n",
       "      <td>0</td>\n",
       "      <td>0</td>\n",
       "    </tr>\n",
       "    <tr>\n",
       "      <th>4</th>\n",
       "      <td>46</td>\n",
       "      <td>3.0</td>\n",
       "      <td>21.0</td>\n",
       "      <td>4.0</td>\n",
       "      <td>0.0</td>\n",
       "      <td>0.0</td>\n",
       "      <td>0.0</td>\n",
       "      <td>1.0</td>\n",
       "      <td>15.0</td>\n",
       "      <td>0.0</td>\n",
       "      <td>...</td>\n",
       "      <td>?</td>\n",
       "      <td>?</td>\n",
       "      <td>0</td>\n",
       "      <td>0</td>\n",
       "      <td>0</td>\n",
       "      <td>0</td>\n",
       "      <td>0</td>\n",
       "      <td>0</td>\n",
       "      <td>0</td>\n",
       "      <td>0</td>\n",
       "    </tr>\n",
       "  </tbody>\n",
       "</table>\n",
       "<p>5 rows × 36 columns</p>\n",
       "</div>"
      ],
      "text/plain": [
       "   Age Number of sexual partners First sexual intercourse Num of pregnancies  \\\n",
       "0   18                       4.0                     15.0                1.0   \n",
       "1   15                       1.0                     14.0                1.0   \n",
       "2   34                       1.0                        ?                1.0   \n",
       "3   52                       5.0                     16.0                4.0   \n",
       "4   46                       3.0                     21.0                4.0   \n",
       "\n",
       "  Smokes Smokes (years) Smokes (packs/year) Hormonal Contraceptives  \\\n",
       "0    0.0            0.0                 0.0                     0.0   \n",
       "1    0.0            0.0                 0.0                     0.0   \n",
       "2    0.0            0.0                 0.0                     0.0   \n",
       "3    1.0           37.0                37.0                     1.0   \n",
       "4    0.0            0.0                 0.0                     1.0   \n",
       "\n",
       "  Hormonal Contraceptives (years)  IUD  ... STDs: Time since first diagnosis  \\\n",
       "0                             0.0  0.0  ...                                ?   \n",
       "1                             0.0  0.0  ...                                ?   \n",
       "2                             0.0  0.0  ...                                ?   \n",
       "3                             3.0  0.0  ...                                ?   \n",
       "4                            15.0  0.0  ...                                ?   \n",
       "\n",
       "  STDs: Time since last diagnosis Dx:Cancer Dx:CIN Dx:HPV Dx Hinselmann  \\\n",
       "0                               ?         0      0      0  0          0   \n",
       "1                               ?         0      0      0  0          0   \n",
       "2                               ?         0      0      0  0          0   \n",
       "3                               ?         1      0      1  0          0   \n",
       "4                               ?         0      0      0  0          0   \n",
       "\n",
       "  Schiller Citology Biopsy  \n",
       "0        0        0      0  \n",
       "1        0        0      0  \n",
       "2        0        0      0  \n",
       "3        0        0      0  \n",
       "4        0        0      0  \n",
       "\n",
       "[5 rows x 36 columns]"
      ]
     },
     "execution_count": 3,
     "metadata": {},
     "output_type": "execute_result"
    }
   ],
   "source": [
    "data_full.head()"
   ]
  },
  {
   "cell_type": "code",
   "execution_count": 4,
   "id": "61eff927-225e-417a-8de9-fccbe7fa5217",
   "metadata": {},
   "outputs": [],
   "source": [
    "data_full[ 'target'] = data_full[ 'Hinselmann'] | data_full[ 'Schiller'] | data_full[ 'Citology'] | data_full[ 'Biopsy']\n",
    "data_full = data_full.replace('?', np.nan)"
   ]
  },
  {
   "cell_type": "code",
   "execution_count": 5,
   "id": "00b0557a-d1fb-4fb7-8c35-87e28ee1c78d",
   "metadata": {},
   "outputs": [
    {
     "data": {
      "text/plain": [
       "0    756\n",
       "1    102\n",
       "Name: target, dtype: int64"
      ]
     },
     "execution_count": 5,
     "metadata": {},
     "output_type": "execute_result"
    }
   ],
   "source": [
    "data_full[ 'target'].value_counts()"
   ]
  },
  {
   "cell_type": "code",
   "execution_count": 6,
   "id": "6825e3ce-d1c5-496f-821f-73a8bbc2d77e",
   "metadata": {},
   "outputs": [
    {
     "name": "stdout",
     "output_type": "stream",
     "text": [
      "STDs:condylomatosis\n",
      "0.0    709\n",
      "1.0     44\n",
      "Name: STDs:condylomatosis, dtype: int64\n",
      "\n",
      "STDs:cervical condylomatosis\n",
      "0.0    753\n",
      "Name: STDs:cervical condylomatosis, dtype: int64\n",
      "\n",
      "STDs:vaginal condylomatosis\n",
      "0.0    749\n",
      "1.0      4\n",
      "Name: STDs:vaginal condylomatosis, dtype: int64\n",
      "\n",
      "STDs:vulvo-perineal condylomatosis\n",
      "0.0    710\n",
      "1.0     43\n",
      "Name: STDs:vulvo-perineal condylomatosis, dtype: int64\n",
      "\n",
      "STDs:syphilis\n",
      "0.0    735\n",
      "1.0     18\n",
      "Name: STDs:syphilis, dtype: int64\n",
      "\n",
      "STDs:pelvic inflammatory disease\n",
      "0.0    752\n",
      "1.0      1\n",
      "Name: STDs:pelvic inflammatory disease, dtype: int64\n",
      "\n",
      "STDs:genital herpes\n",
      "0.0    752\n",
      "1.0      1\n",
      "Name: STDs:genital herpes, dtype: int64\n",
      "\n",
      "STDs:molluscum contagiosum\n",
      "0.0    752\n",
      "1.0      1\n",
      "Name: STDs:molluscum contagiosum, dtype: int64\n",
      "\n",
      "STDs:AIDS\n",
      "0.0    753\n",
      "Name: STDs:AIDS, dtype: int64\n",
      "\n",
      "STDs:HIV\n",
      "0.0    735\n",
      "1.0     18\n",
      "Name: STDs:HIV, dtype: int64\n",
      "\n"
     ]
    }
   ],
   "source": [
    "STDs = ['STDs:condylomatosis', 'STDs:cervical condylomatosis', 'STDs:vaginal condylomatosis',\n",
    " 'STDs:vulvo-perineal condylomatosis', 'STDs:syphilis', 'STDs:pelvic inflammatory disease',\n",
    " 'STDs:genital herpes', 'STDs:molluscum contagiosum', 'STDs:AIDS', 'STDs:HIV']\n",
    "\n",
    "for i in STDs:\n",
    "    print( i)\n",
    "    print( data_full[ i].value_counts())\n",
    "    print()"
   ]
  },
  {
   "cell_type": "code",
   "execution_count": 7,
   "id": "e2b6f39b-3312-40c8-9ccf-78f29e534dd2",
   "metadata": {},
   "outputs": [
    {
     "name": "stdout",
     "output_type": "stream",
     "text": [
      "Dx:Cancer\n",
      "0    840\n",
      "1     18\n",
      "Name: Dx:Cancer, dtype: int64\n",
      "\n",
      "Dx:CIN\n",
      "0    849\n",
      "1      9\n",
      "Name: Dx:CIN, dtype: int64\n",
      "\n",
      "Dx:HPV\n",
      "0    840\n",
      "1     18\n",
      "Name: Dx:HPV, dtype: int64\n",
      "\n",
      "Dx\n",
      "0    834\n",
      "1     24\n",
      "Name: Dx, dtype: int64\n",
      "\n"
     ]
    }
   ],
   "source": [
    "Dxs = ['Dx:Cancer', 'Dx:CIN', 'Dx:HPV', 'Dx']\n",
    "for i in Dxs:\n",
    "    print( i)\n",
    "    print( data_full[ i].value_counts())\n",
    "    print()"
   ]
  },
  {
   "cell_type": "code",
   "execution_count": 8,
   "id": "4ea2d5eb-c81c-439b-b955-1a2fe52a2074",
   "metadata": {},
   "outputs": [],
   "source": [
    "numeric_features = [ 'Age', 'Number of sexual partners', 'First sexual intercourse',\n",
    "       'Num of pregnancies', 'Hormonal Contraceptives (years)', 'IUD (years)', 'STDs (number)']\n",
    "\n",
    "binary_features = [ 'STDs:condylomatosis', 'Smokes', 'Dx:Cancer', 'Dx:CIN', 'Dx:HPV', 'Hinselmann']\n",
    "\n",
    "columns_tbc = numeric_features+binary_features\n",
    "\n",
    "column_transformer = make_column_transformer(\n",
    "    ( make_pipeline( SimpleImputer( strategy = 'median'), StandardScaler()), numeric_features),\n",
    "    ( make_pipeline( SimpleImputer( strategy = 'constant', fill_value = '99'), OneHotEncoder( handle_unknown = 'ignore')), binary_features)\n",
    ")"
   ]
  },
  {
   "cell_type": "code",
   "execution_count": 9,
   "id": "54ccee20-4cfb-4451-aabf-6a89fd2a0f50",
   "metadata": {},
   "outputs": [],
   "source": [
    "X = data_full[ columns_tbc]\n",
    "y = data_full[ 'target']"
   ]
  },
  {
   "cell_type": "code",
   "execution_count": 10,
   "id": "2a99a04a-6f03-43a0-8645-e4faa0feb850",
   "metadata": {},
   "outputs": [],
   "source": [
    "X_train, X_test, y_train, y_test = train_test_split( X, y, test_size = 0.5, stratify = y, random_state = 123)"
   ]
  },
  {
   "cell_type": "markdown",
   "id": "e0b48c9a-bd26-49b5-bb3d-93a2b0ee0bfe",
   "metadata": {
    "tags": []
   },
   "source": [
    "## KNN"
   ]
  },
  {
   "cell_type": "code",
   "execution_count": 11,
   "id": "6bf83f6d-a460-4e63-93db-681482486deb",
   "metadata": {},
   "outputs": [],
   "source": [
    "result_dict = {}\n",
    "scoring_metrics = [ 'precision', 'recall', 'f1']"
   ]
  },
  {
   "cell_type": "code",
   "execution_count": 12,
   "id": "d6cf3dfc-b5c9-4a20-981a-14e500871f09",
   "metadata": {},
   "outputs": [
    {
     "data": {
      "text/html": [
       "<div>\n",
       "<style scoped>\n",
       "    .dataframe tbody tr th:only-of-type {\n",
       "        vertical-align: middle;\n",
       "    }\n",
       "\n",
       "    .dataframe tbody tr th {\n",
       "        vertical-align: top;\n",
       "    }\n",
       "\n",
       "    .dataframe thead th {\n",
       "        text-align: right;\n",
       "    }\n",
       "</style>\n",
       "<table border=\"1\" class=\"dataframe\">\n",
       "  <thead>\n",
       "    <tr style=\"text-align: right;\">\n",
       "      <th></th>\n",
       "      <th>mean</th>\n",
       "      <th>std</th>\n",
       "    </tr>\n",
       "  </thead>\n",
       "  <tbody>\n",
       "    <tr>\n",
       "      <th>fit_time</th>\n",
       "      <td>0.013790</td>\n",
       "      <td>0.004319</td>\n",
       "    </tr>\n",
       "    <tr>\n",
       "      <th>score_time</th>\n",
       "      <td>0.052255</td>\n",
       "      <td>0.071590</td>\n",
       "    </tr>\n",
       "    <tr>\n",
       "      <th>test_precision</th>\n",
       "      <td>0.340000</td>\n",
       "      <td>0.421900</td>\n",
       "    </tr>\n",
       "    <tr>\n",
       "      <th>train_precision</th>\n",
       "      <td>0.706984</td>\n",
       "      <td>0.150416</td>\n",
       "    </tr>\n",
       "    <tr>\n",
       "      <th>test_recall</th>\n",
       "      <td>0.058182</td>\n",
       "      <td>0.053242</td>\n",
       "    </tr>\n",
       "    <tr>\n",
       "      <th>train_recall</th>\n",
       "      <td>0.171463</td>\n",
       "      <td>0.072884</td>\n",
       "    </tr>\n",
       "    <tr>\n",
       "      <th>test_f1</th>\n",
       "      <td>0.093800</td>\n",
       "      <td>0.087339</td>\n",
       "    </tr>\n",
       "    <tr>\n",
       "      <th>train_f1</th>\n",
       "      <td>0.272490</td>\n",
       "      <td>0.097502</td>\n",
       "    </tr>\n",
       "  </tbody>\n",
       "</table>\n",
       "</div>"
      ],
      "text/plain": [
       "                     mean       std\n",
       "fit_time         0.013790  0.004319\n",
       "score_time       0.052255  0.071590\n",
       "test_precision   0.340000  0.421900\n",
       "train_precision  0.706984  0.150416\n",
       "test_recall      0.058182  0.053242\n",
       "train_recall     0.171463  0.072884\n",
       "test_f1          0.093800  0.087339\n",
       "train_f1         0.272490  0.097502"
      ]
     },
     "execution_count": 12,
     "metadata": {},
     "output_type": "execute_result"
    }
   ],
   "source": [
    "pipe_knn = make_pipeline( column_transformer, KNeighborsClassifier()) # No class weight in KNN\n",
    "\n",
    "cv_result = cross_validate( pipe_knn, X_train, y_train, cv = 5, return_train_score = True, scoring = scoring_metrics)\n",
    "result_dict[ 'KNN'] = pd.DataFrame( cv_result).agg( [ 'mean', 'std']).T\n",
    "result_dict[ 'KNN']"
   ]
  },
  {
   "cell_type": "code",
   "execution_count": 13,
   "id": "30b7505c-ec34-4e93-9f65-c1ae2c6dfe0f",
   "metadata": {},
   "outputs": [
    {
     "data": {
      "text/html": [
       "<div>\n",
       "<style scoped>\n",
       "    .dataframe tbody tr th:only-of-type {\n",
       "        vertical-align: middle;\n",
       "    }\n",
       "\n",
       "    .dataframe tbody tr th {\n",
       "        vertical-align: top;\n",
       "    }\n",
       "\n",
       "    .dataframe thead th {\n",
       "        text-align: right;\n",
       "    }\n",
       "</style>\n",
       "<table border=\"1\" class=\"dataframe\">\n",
       "  <thead>\n",
       "    <tr style=\"text-align: right;\">\n",
       "      <th></th>\n",
       "      <th>params</th>\n",
       "      <th>mean_test_score</th>\n",
       "    </tr>\n",
       "  </thead>\n",
       "  <tbody>\n",
       "    <tr>\n",
       "      <th>0</th>\n",
       "      <td>{'kneighborsclassifier__n_neighbors': 5}</td>\n",
       "      <td>0.058182</td>\n",
       "    </tr>\n",
       "    <tr>\n",
       "      <th>1</th>\n",
       "      <td>{'kneighborsclassifier__n_neighbors': 10}</td>\n",
       "      <td>0.000000</td>\n",
       "    </tr>\n",
       "    <tr>\n",
       "      <th>2</th>\n",
       "      <td>{'kneighborsclassifier__n_neighbors': 15}</td>\n",
       "      <td>0.000000</td>\n",
       "    </tr>\n",
       "    <tr>\n",
       "      <th>3</th>\n",
       "      <td>{'kneighborsclassifier__n_neighbors': 20}</td>\n",
       "      <td>0.000000</td>\n",
       "    </tr>\n",
       "    <tr>\n",
       "      <th>4</th>\n",
       "      <td>{'kneighborsclassifier__n_neighbors': 25}</td>\n",
       "      <td>0.000000</td>\n",
       "    </tr>\n",
       "    <tr>\n",
       "      <th>5</th>\n",
       "      <td>{'kneighborsclassifier__n_neighbors': 30}</td>\n",
       "      <td>0.000000</td>\n",
       "    </tr>\n",
       "  </tbody>\n",
       "</table>\n",
       "</div>"
      ],
      "text/plain": [
       "                                      params  mean_test_score\n",
       "0   {'kneighborsclassifier__n_neighbors': 5}         0.058182\n",
       "1  {'kneighborsclassifier__n_neighbors': 10}         0.000000\n",
       "2  {'kneighborsclassifier__n_neighbors': 15}         0.000000\n",
       "3  {'kneighborsclassifier__n_neighbors': 20}         0.000000\n",
       "4  {'kneighborsclassifier__n_neighbors': 25}         0.000000\n",
       "5  {'kneighborsclassifier__n_neighbors': 30}         0.000000"
      ]
     },
     "execution_count": 13,
     "metadata": {},
     "output_type": "execute_result"
    }
   ],
   "source": [
    "param_grid = {\n",
    "    \"kneighborsclassifier__n_neighbors\": list( range( 5, 35, 5))\n",
    "}\n",
    "\n",
    "grid_search = GridSearchCV(\n",
    "    pipe_knn, param_grid, cv = 5, scoring = 'recall', n_jobs=-1, return_train_score = True\n",
    ")\n",
    "\n",
    "grid_search.fit( X_train, y_train)\n",
    "\n",
    "results = pd.DataFrame( grid_search.cv_results_)\n",
    "results[ ['params', 'mean_test_score']].sort_values( 'mean_test_score', ascending = False)"
   ]
  },
  {
   "cell_type": "code",
   "execution_count": 14,
   "id": "b83059df-dbfc-46dc-a929-8670701575b9",
   "metadata": {},
   "outputs": [
    {
     "data": {
      "text/html": [
       "<div>\n",
       "<style scoped>\n",
       "    .dataframe tbody tr th:only-of-type {\n",
       "        vertical-align: middle;\n",
       "    }\n",
       "\n",
       "    .dataframe tbody tr th {\n",
       "        vertical-align: top;\n",
       "    }\n",
       "\n",
       "    .dataframe thead th {\n",
       "        text-align: right;\n",
       "    }\n",
       "</style>\n",
       "<table border=\"1\" class=\"dataframe\">\n",
       "  <thead>\n",
       "    <tr style=\"text-align: right;\">\n",
       "      <th></th>\n",
       "      <th>mean</th>\n",
       "      <th>std</th>\n",
       "    </tr>\n",
       "  </thead>\n",
       "  <tbody>\n",
       "    <tr>\n",
       "      <th>fit_time</th>\n",
       "      <td>0.017916</td>\n",
       "      <td>0.007627</td>\n",
       "    </tr>\n",
       "    <tr>\n",
       "      <th>score_time</th>\n",
       "      <td>0.017277</td>\n",
       "      <td>0.005906</td>\n",
       "    </tr>\n",
       "    <tr>\n",
       "      <th>test_precision</th>\n",
       "      <td>0.340000</td>\n",
       "      <td>0.421900</td>\n",
       "    </tr>\n",
       "    <tr>\n",
       "      <th>train_precision</th>\n",
       "      <td>0.706984</td>\n",
       "      <td>0.150416</td>\n",
       "    </tr>\n",
       "    <tr>\n",
       "      <th>test_recall</th>\n",
       "      <td>0.058182</td>\n",
       "      <td>0.053242</td>\n",
       "    </tr>\n",
       "    <tr>\n",
       "      <th>train_recall</th>\n",
       "      <td>0.171463</td>\n",
       "      <td>0.072884</td>\n",
       "    </tr>\n",
       "    <tr>\n",
       "      <th>test_f1</th>\n",
       "      <td>0.093800</td>\n",
       "      <td>0.087339</td>\n",
       "    </tr>\n",
       "    <tr>\n",
       "      <th>train_f1</th>\n",
       "      <td>0.272490</td>\n",
       "      <td>0.097502</td>\n",
       "    </tr>\n",
       "  </tbody>\n",
       "</table>\n",
       "</div>"
      ],
      "text/plain": [
       "                     mean       std\n",
       "fit_time         0.017916  0.007627\n",
       "score_time       0.017277  0.005906\n",
       "test_precision   0.340000  0.421900\n",
       "train_precision  0.706984  0.150416\n",
       "test_recall      0.058182  0.053242\n",
       "train_recall     0.171463  0.072884\n",
       "test_f1          0.093800  0.087339\n",
       "train_f1         0.272490  0.097502"
      ]
     },
     "execution_count": 14,
     "metadata": {},
     "output_type": "execute_result"
    }
   ],
   "source": [
    "pipe_knn_opt = make_pipeline( column_transformer, KNeighborsClassifier( n_neighbors = 5)) # No class weight in KNN\n",
    "\n",
    "cv_result = cross_validate( pipe_knn_opt, X_train, y_train, cv = 5, return_train_score = True, scoring = scoring_metrics)\n",
    "result_dict[ 'KNN_opt'] = pd.DataFrame( cv_result).agg( [ 'mean', 'std']).T\n",
    "result_dict[ 'KNN_opt']"
   ]
  },
  {
   "cell_type": "code",
   "execution_count": 15,
   "id": "1b5677e9-9c71-4be7-b18d-fe5fa8948628",
   "metadata": {},
   "outputs": [],
   "source": [
    "y_hat = grid_search.predict( X_test)"
   ]
  },
  {
   "cell_type": "code",
   "execution_count": 16,
   "id": "c75a73a3-11b4-4e7c-ae41-5d1a9a59fbdb",
   "metadata": {},
   "outputs": [],
   "source": [
    "def better_confusion_matrix( y_test, y_hat, labels = [ 0, 1]):\n",
    "    df = pd.DataFrame( confusion_matrix( y_test, y_hat, labels = labels))\n",
    "    df.columns = labels\n",
    "    df = pd.concat( [ df], axis = 1, keys = ['Predicted'])\n",
    "    df.index = labels\n",
    "    df = pd.concat( [df], axis = 0, keys = ['Actual'])\n",
    "    return df"
   ]
  },
  {
   "cell_type": "code",
   "execution_count": 17,
   "id": "3e040443-b394-4a11-a772-37f4e17ab3a4",
   "metadata": {},
   "outputs": [],
   "source": [
    "from sklearn.metrics import accuracy_score, f1_score, precision_score, recall_score, roc_auc_score"
   ]
  },
  {
   "cell_type": "code",
   "execution_count": 18,
   "id": "1f3bb117-5a9d-45b3-9635-30ec3f15fa04",
   "metadata": {},
   "outputs": [],
   "source": [
    "def better_metrics( y_test, y_hat):\n",
    "    precision = precision_score( y_test, y_hat)\n",
    "    recall = recall_score( y_test, y_hat)\n",
    "    f1 = f1_score( y_test, y_hat)\n",
    "    auc = roc_auc_score( y_test, y_hat)\n",
    "    metrics_dict = {\n",
    "        'precision': precision, 'recall': recall, 'f1': f1, 'auc': auc}\n",
    "    return metrics_dict"
   ]
  },
  {
   "cell_type": "code",
   "execution_count": 19,
   "id": "7ef4c409-48fb-4ee0-907d-9e2bef87d9e7",
   "metadata": {},
   "outputs": [],
   "source": [
    "test_results = {}\n",
    "test_results[ 'KNN_opt'] = better_metrics( y_test, y_hat)"
   ]
  },
  {
   "cell_type": "code",
   "execution_count": 20,
   "id": "9af1ffb6-8906-429e-a73e-34dc685de439",
   "metadata": {},
   "outputs": [
    {
     "name": "stdout",
     "output_type": "stream",
     "text": [
      "         Predicted   \n",
      "                 0  1\n",
      "Actual 0       373  5\n",
      "       1        43  8\n",
      "\n",
      "              precision    recall  f1-score   support\n",
      "\n",
      "           0       0.90      0.99      0.94       378\n",
      "           1       0.62      0.16      0.25        51\n",
      "\n",
      "    accuracy                           0.89       429\n",
      "   macro avg       0.76      0.57      0.59       429\n",
      "weighted avg       0.86      0.89      0.86       429\n",
      "\n"
     ]
    }
   ],
   "source": [
    "print( better_confusion_matrix( y_test, y_hat, labels = [ 0, 1]))\n",
    "print()\n",
    "print( classification_report( y_test, y_hat))"
   ]
  },
  {
   "cell_type": "code",
   "execution_count": null,
   "id": "68e6ae42-5523-453d-8611-738c04f042e3",
   "metadata": {},
   "outputs": [],
   "source": []
  },
  {
   "cell_type": "markdown",
   "id": "4f224d95-5051-448c-a82b-eaeb706ec445",
   "metadata": {},
   "source": [
    "## SVC"
   ]
  },
  {
   "cell_type": "code",
   "execution_count": 21,
   "id": "2caa728b-b940-49ed-aba9-52e32317bf69",
   "metadata": {},
   "outputs": [
    {
     "data": {
      "text/html": [
       "<div>\n",
       "<style scoped>\n",
       "    .dataframe tbody tr th:only-of-type {\n",
       "        vertical-align: middle;\n",
       "    }\n",
       "\n",
       "    .dataframe tbody tr th {\n",
       "        vertical-align: top;\n",
       "    }\n",
       "\n",
       "    .dataframe thead th {\n",
       "        text-align: right;\n",
       "    }\n",
       "</style>\n",
       "<table border=\"1\" class=\"dataframe\">\n",
       "  <thead>\n",
       "    <tr style=\"text-align: right;\">\n",
       "      <th></th>\n",
       "      <th>mean</th>\n",
       "      <th>std</th>\n",
       "    </tr>\n",
       "  </thead>\n",
       "  <tbody>\n",
       "    <tr>\n",
       "      <th>fit_time</th>\n",
       "      <td>0.010615</td>\n",
       "      <td>0.008644</td>\n",
       "    </tr>\n",
       "    <tr>\n",
       "      <th>score_time</th>\n",
       "      <td>0.013466</td>\n",
       "      <td>0.003457</td>\n",
       "    </tr>\n",
       "    <tr>\n",
       "      <th>test_precision</th>\n",
       "      <td>0.379286</td>\n",
       "      <td>0.086058</td>\n",
       "    </tr>\n",
       "    <tr>\n",
       "      <th>train_precision</th>\n",
       "      <td>0.600542</td>\n",
       "      <td>0.148967</td>\n",
       "    </tr>\n",
       "    <tr>\n",
       "      <th>test_recall</th>\n",
       "      <td>0.527273</td>\n",
       "      <td>0.196771</td>\n",
       "    </tr>\n",
       "    <tr>\n",
       "      <th>train_recall</th>\n",
       "      <td>0.779268</td>\n",
       "      <td>0.046518</td>\n",
       "    </tr>\n",
       "    <tr>\n",
       "      <th>test_f1</th>\n",
       "      <td>0.436559</td>\n",
       "      <td>0.115877</td>\n",
       "    </tr>\n",
       "    <tr>\n",
       "      <th>train_f1</th>\n",
       "      <td>0.669204</td>\n",
       "      <td>0.086089</td>\n",
       "    </tr>\n",
       "  </tbody>\n",
       "</table>\n",
       "</div>"
      ],
      "text/plain": [
       "                     mean       std\n",
       "fit_time         0.010615  0.008644\n",
       "score_time       0.013466  0.003457\n",
       "test_precision   0.379286  0.086058\n",
       "train_precision  0.600542  0.148967\n",
       "test_recall      0.527273  0.196771\n",
       "train_recall     0.779268  0.046518\n",
       "test_f1          0.436559  0.115877\n",
       "train_f1         0.669204  0.086089"
      ]
     },
     "execution_count": 21,
     "metadata": {},
     "output_type": "execute_result"
    }
   ],
   "source": [
    "pipe_svc = make_pipeline( column_transformer, SVC( class_weight = 'balanced'))\n",
    "cv_result = cross_validate( pipe_svc, X_train, y_train, cv = 5, return_train_score = True, scoring = scoring_metrics)\n",
    "result_dict[ 'SVC'] = pd.DataFrame( cv_result).agg( [ 'mean', 'std']).T\n",
    "result_dict[ 'SVC']"
   ]
  },
  {
   "cell_type": "code",
   "execution_count": 22,
   "id": "5e1c7526-1516-451d-8985-2766219a3e57",
   "metadata": {},
   "outputs": [
    {
     "data": {
      "text/html": [
       "<style>#sk-container-id-1 {color: black;background-color: white;}#sk-container-id-1 pre{padding: 0;}#sk-container-id-1 div.sk-toggleable {background-color: white;}#sk-container-id-1 label.sk-toggleable__label {cursor: pointer;display: block;width: 100%;margin-bottom: 0;padding: 0.3em;box-sizing: border-box;text-align: center;}#sk-container-id-1 label.sk-toggleable__label-arrow:before {content: \"▸\";float: left;margin-right: 0.25em;color: #696969;}#sk-container-id-1 label.sk-toggleable__label-arrow:hover:before {color: black;}#sk-container-id-1 div.sk-estimator:hover label.sk-toggleable__label-arrow:before {color: black;}#sk-container-id-1 div.sk-toggleable__content {max-height: 0;max-width: 0;overflow: hidden;text-align: left;background-color: #f0f8ff;}#sk-container-id-1 div.sk-toggleable__content pre {margin: 0.2em;color: black;border-radius: 0.25em;background-color: #f0f8ff;}#sk-container-id-1 input.sk-toggleable__control:checked~div.sk-toggleable__content {max-height: 200px;max-width: 100%;overflow: auto;}#sk-container-id-1 input.sk-toggleable__control:checked~label.sk-toggleable__label-arrow:before {content: \"▾\";}#sk-container-id-1 div.sk-estimator input.sk-toggleable__control:checked~label.sk-toggleable__label {background-color: #d4ebff;}#sk-container-id-1 div.sk-label input.sk-toggleable__control:checked~label.sk-toggleable__label {background-color: #d4ebff;}#sk-container-id-1 input.sk-hidden--visually {border: 0;clip: rect(1px 1px 1px 1px);clip: rect(1px, 1px, 1px, 1px);height: 1px;margin: -1px;overflow: hidden;padding: 0;position: absolute;width: 1px;}#sk-container-id-1 div.sk-estimator {font-family: monospace;background-color: #f0f8ff;border: 1px dotted black;border-radius: 0.25em;box-sizing: border-box;margin-bottom: 0.5em;}#sk-container-id-1 div.sk-estimator:hover {background-color: #d4ebff;}#sk-container-id-1 div.sk-parallel-item::after {content: \"\";width: 100%;border-bottom: 1px solid gray;flex-grow: 1;}#sk-container-id-1 div.sk-label:hover label.sk-toggleable__label {background-color: #d4ebff;}#sk-container-id-1 div.sk-serial::before {content: \"\";position: absolute;border-left: 1px solid gray;box-sizing: border-box;top: 0;bottom: 0;left: 50%;z-index: 0;}#sk-container-id-1 div.sk-serial {display: flex;flex-direction: column;align-items: center;background-color: white;padding-right: 0.2em;padding-left: 0.2em;position: relative;}#sk-container-id-1 div.sk-item {position: relative;z-index: 1;}#sk-container-id-1 div.sk-parallel {display: flex;align-items: stretch;justify-content: center;background-color: white;position: relative;}#sk-container-id-1 div.sk-item::before, #sk-container-id-1 div.sk-parallel-item::before {content: \"\";position: absolute;border-left: 1px solid gray;box-sizing: border-box;top: 0;bottom: 0;left: 50%;z-index: -1;}#sk-container-id-1 div.sk-parallel-item {display: flex;flex-direction: column;z-index: 1;position: relative;background-color: white;}#sk-container-id-1 div.sk-parallel-item:first-child::after {align-self: flex-end;width: 50%;}#sk-container-id-1 div.sk-parallel-item:last-child::after {align-self: flex-start;width: 50%;}#sk-container-id-1 div.sk-parallel-item:only-child::after {width: 0;}#sk-container-id-1 div.sk-dashed-wrapped {border: 1px dashed gray;margin: 0 0.4em 0.5em 0.4em;box-sizing: border-box;padding-bottom: 0.4em;background-color: white;}#sk-container-id-1 div.sk-label label {font-family: monospace;font-weight: bold;display: inline-block;line-height: 1.2em;}#sk-container-id-1 div.sk-label-container {text-align: center;}#sk-container-id-1 div.sk-container {/* jupyter's `normalize.less` sets `[hidden] { display: none; }` but bootstrap.min.css set `[hidden] { display: none !important; }` so we also need the `!important` here to be able to override the default hidden behavior on the sphinx rendered scikit-learn.org. See: https://github.com/scikit-learn/scikit-learn/issues/21755 */display: inline-block !important;position: relative;}#sk-container-id-1 div.sk-text-repr-fallback {display: none;}</style><div id=\"sk-container-id-1\" class=\"sk-top-container\"><div class=\"sk-text-repr-fallback\"><pre>RandomizedSearchCV(cv=5,\n",
       "                   estimator=Pipeline(steps=[(&#x27;columntransformer&#x27;,\n",
       "                                              ColumnTransformer(transformers=[(&#x27;pipeline-1&#x27;,\n",
       "                                                                               Pipeline(steps=[(&#x27;simpleimputer&#x27;,\n",
       "                                                                                                SimpleImputer(strategy=&#x27;median&#x27;)),\n",
       "                                                                                               (&#x27;standardscaler&#x27;,\n",
       "                                                                                                StandardScaler())]),\n",
       "                                                                               [&#x27;Age&#x27;,\n",
       "                                                                                &#x27;Number &#x27;\n",
       "                                                                                &#x27;of &#x27;\n",
       "                                                                                &#x27;sexual &#x27;\n",
       "                                                                                &#x27;partners&#x27;,\n",
       "                                                                                &#x27;First &#x27;\n",
       "                                                                                &#x27;sexual &#x27;\n",
       "                                                                                &#x27;intercourse&#x27;,\n",
       "                                                                                &#x27;Num &#x27;\n",
       "                                                                                &#x27;of &#x27;\n",
       "                                                                                &#x27;pregnancies&#x27;,\n",
       "                                                                                &#x27;Hormonal &#x27;\n",
       "                                                                                &#x27;Contraceptives &#x27;\n",
       "                                                                                &#x27;(years)&#x27;,\n",
       "                                                                                &#x27;I...\n",
       "                                                                                                              strategy=&#x27;constant&#x27;)),\n",
       "                                                                                               (&#x27;onehotencoder&#x27;,\n",
       "                                                                                                OneHotEncoder(handle_unknown=&#x27;ignore&#x27;))]),\n",
       "                                                                               [&#x27;STDs:condylomatosis&#x27;,\n",
       "                                                                                &#x27;Smokes&#x27;,\n",
       "                                                                                &#x27;Dx:Cancer&#x27;,\n",
       "                                                                                &#x27;Dx:CIN&#x27;,\n",
       "                                                                                &#x27;Dx:HPV&#x27;,\n",
       "                                                                                &#x27;Hinselmann&#x27;])])),\n",
       "                                             (&#x27;svc&#x27;,\n",
       "                                              SVC(class_weight=&#x27;balanced&#x27;))]),\n",
       "                   n_iter=30, n_jobs=-1,\n",
       "                   param_distributions={&#x27;svc__C&#x27;: [0.01, 0.1, 1, 10, 100, 1000,\n",
       "                                                   10000],\n",
       "                                        &#x27;svc__gamma&#x27;: [0.01, 0.1, 1, 10, 100,\n",
       "                                                       1000, 10000]},\n",
       "                   return_train_score=True, scoring=&#x27;recall&#x27;)</pre><b>In a Jupyter environment, please rerun this cell to show the HTML representation or trust the notebook. <br />On GitHub, the HTML representation is unable to render, please try loading this page with nbviewer.org.</b></div><div class=\"sk-container\" hidden><div class=\"sk-item sk-dashed-wrapped\"><div class=\"sk-label-container\"><div class=\"sk-label sk-toggleable\"><input class=\"sk-toggleable__control sk-hidden--visually\" id=\"sk-estimator-id-1\" type=\"checkbox\" ><label for=\"sk-estimator-id-1\" class=\"sk-toggleable__label sk-toggleable__label-arrow\">RandomizedSearchCV</label><div class=\"sk-toggleable__content\"><pre>RandomizedSearchCV(cv=5,\n",
       "                   estimator=Pipeline(steps=[(&#x27;columntransformer&#x27;,\n",
       "                                              ColumnTransformer(transformers=[(&#x27;pipeline-1&#x27;,\n",
       "                                                                               Pipeline(steps=[(&#x27;simpleimputer&#x27;,\n",
       "                                                                                                SimpleImputer(strategy=&#x27;median&#x27;)),\n",
       "                                                                                               (&#x27;standardscaler&#x27;,\n",
       "                                                                                                StandardScaler())]),\n",
       "                                                                               [&#x27;Age&#x27;,\n",
       "                                                                                &#x27;Number &#x27;\n",
       "                                                                                &#x27;of &#x27;\n",
       "                                                                                &#x27;sexual &#x27;\n",
       "                                                                                &#x27;partners&#x27;,\n",
       "                                                                                &#x27;First &#x27;\n",
       "                                                                                &#x27;sexual &#x27;\n",
       "                                                                                &#x27;intercourse&#x27;,\n",
       "                                                                                &#x27;Num &#x27;\n",
       "                                                                                &#x27;of &#x27;\n",
       "                                                                                &#x27;pregnancies&#x27;,\n",
       "                                                                                &#x27;Hormonal &#x27;\n",
       "                                                                                &#x27;Contraceptives &#x27;\n",
       "                                                                                &#x27;(years)&#x27;,\n",
       "                                                                                &#x27;I...\n",
       "                                                                                                              strategy=&#x27;constant&#x27;)),\n",
       "                                                                                               (&#x27;onehotencoder&#x27;,\n",
       "                                                                                                OneHotEncoder(handle_unknown=&#x27;ignore&#x27;))]),\n",
       "                                                                               [&#x27;STDs:condylomatosis&#x27;,\n",
       "                                                                                &#x27;Smokes&#x27;,\n",
       "                                                                                &#x27;Dx:Cancer&#x27;,\n",
       "                                                                                &#x27;Dx:CIN&#x27;,\n",
       "                                                                                &#x27;Dx:HPV&#x27;,\n",
       "                                                                                &#x27;Hinselmann&#x27;])])),\n",
       "                                             (&#x27;svc&#x27;,\n",
       "                                              SVC(class_weight=&#x27;balanced&#x27;))]),\n",
       "                   n_iter=30, n_jobs=-1,\n",
       "                   param_distributions={&#x27;svc__C&#x27;: [0.01, 0.1, 1, 10, 100, 1000,\n",
       "                                                   10000],\n",
       "                                        &#x27;svc__gamma&#x27;: [0.01, 0.1, 1, 10, 100,\n",
       "                                                       1000, 10000]},\n",
       "                   return_train_score=True, scoring=&#x27;recall&#x27;)</pre></div></div></div><div class=\"sk-parallel\"><div class=\"sk-parallel-item\"><div class=\"sk-item\"><div class=\"sk-label-container\"><div class=\"sk-label sk-toggleable\"><input class=\"sk-toggleable__control sk-hidden--visually\" id=\"sk-estimator-id-2\" type=\"checkbox\" ><label for=\"sk-estimator-id-2\" class=\"sk-toggleable__label sk-toggleable__label-arrow\">estimator: Pipeline</label><div class=\"sk-toggleable__content\"><pre>Pipeline(steps=[(&#x27;columntransformer&#x27;,\n",
       "                 ColumnTransformer(transformers=[(&#x27;pipeline-1&#x27;,\n",
       "                                                  Pipeline(steps=[(&#x27;simpleimputer&#x27;,\n",
       "                                                                   SimpleImputer(strategy=&#x27;median&#x27;)),\n",
       "                                                                  (&#x27;standardscaler&#x27;,\n",
       "                                                                   StandardScaler())]),\n",
       "                                                  [&#x27;Age&#x27;,\n",
       "                                                   &#x27;Number of sexual partners&#x27;,\n",
       "                                                   &#x27;First sexual intercourse&#x27;,\n",
       "                                                   &#x27;Num of pregnancies&#x27;,\n",
       "                                                   &#x27;Hormonal Contraceptives &#x27;\n",
       "                                                   &#x27;(years)&#x27;,\n",
       "                                                   &#x27;IUD (years)&#x27;,\n",
       "                                                   &#x27;STDs (number)&#x27;]),\n",
       "                                                 (&#x27;pipeline-2&#x27;,\n",
       "                                                  Pipeline(steps=[(&#x27;simpleimputer&#x27;,\n",
       "                                                                   SimpleImputer(fill_value=&#x27;99&#x27;,\n",
       "                                                                                 strategy=&#x27;constant&#x27;)),\n",
       "                                                                  (&#x27;onehotencoder&#x27;,\n",
       "                                                                   OneHotEncoder(handle_unknown=&#x27;ignore&#x27;))]),\n",
       "                                                  [&#x27;STDs:condylomatosis&#x27;,\n",
       "                                                   &#x27;Smokes&#x27;, &#x27;Dx:Cancer&#x27;,\n",
       "                                                   &#x27;Dx:CIN&#x27;, &#x27;Dx:HPV&#x27;,\n",
       "                                                   &#x27;Hinselmann&#x27;])])),\n",
       "                (&#x27;svc&#x27;, SVC(class_weight=&#x27;balanced&#x27;))])</pre></div></div></div><div class=\"sk-serial\"><div class=\"sk-item\"><div class=\"sk-serial\"><div class=\"sk-item sk-dashed-wrapped\"><div class=\"sk-label-container\"><div class=\"sk-label sk-toggleable\"><input class=\"sk-toggleable__control sk-hidden--visually\" id=\"sk-estimator-id-3\" type=\"checkbox\" ><label for=\"sk-estimator-id-3\" class=\"sk-toggleable__label sk-toggleable__label-arrow\">columntransformer: ColumnTransformer</label><div class=\"sk-toggleable__content\"><pre>ColumnTransformer(transformers=[(&#x27;pipeline-1&#x27;,\n",
       "                                 Pipeline(steps=[(&#x27;simpleimputer&#x27;,\n",
       "                                                  SimpleImputer(strategy=&#x27;median&#x27;)),\n",
       "                                                 (&#x27;standardscaler&#x27;,\n",
       "                                                  StandardScaler())]),\n",
       "                                 [&#x27;Age&#x27;, &#x27;Number of sexual partners&#x27;,\n",
       "                                  &#x27;First sexual intercourse&#x27;,\n",
       "                                  &#x27;Num of pregnancies&#x27;,\n",
       "                                  &#x27;Hormonal Contraceptives (years)&#x27;,\n",
       "                                  &#x27;IUD (years)&#x27;, &#x27;STDs (number)&#x27;]),\n",
       "                                (&#x27;pipeline-2&#x27;,\n",
       "                                 Pipeline(steps=[(&#x27;simpleimputer&#x27;,\n",
       "                                                  SimpleImputer(fill_value=&#x27;99&#x27;,\n",
       "                                                                strategy=&#x27;constant&#x27;)),\n",
       "                                                 (&#x27;onehotencoder&#x27;,\n",
       "                                                  OneHotEncoder(handle_unknown=&#x27;ignore&#x27;))]),\n",
       "                                 [&#x27;STDs:condylomatosis&#x27;, &#x27;Smokes&#x27;, &#x27;Dx:Cancer&#x27;,\n",
       "                                  &#x27;Dx:CIN&#x27;, &#x27;Dx:HPV&#x27;, &#x27;Hinselmann&#x27;])])</pre></div></div></div><div class=\"sk-parallel\"><div class=\"sk-parallel-item\"><div class=\"sk-item\"><div class=\"sk-label-container\"><div class=\"sk-label sk-toggleable\"><input class=\"sk-toggleable__control sk-hidden--visually\" id=\"sk-estimator-id-4\" type=\"checkbox\" ><label for=\"sk-estimator-id-4\" class=\"sk-toggleable__label sk-toggleable__label-arrow\">pipeline-1</label><div class=\"sk-toggleable__content\"><pre>[&#x27;Age&#x27;, &#x27;Number of sexual partners&#x27;, &#x27;First sexual intercourse&#x27;, &#x27;Num of pregnancies&#x27;, &#x27;Hormonal Contraceptives (years)&#x27;, &#x27;IUD (years)&#x27;, &#x27;STDs (number)&#x27;]</pre></div></div></div><div class=\"sk-serial\"><div class=\"sk-item\"><div class=\"sk-serial\"><div class=\"sk-item\"><div class=\"sk-estimator sk-toggleable\"><input class=\"sk-toggleable__control sk-hidden--visually\" id=\"sk-estimator-id-5\" type=\"checkbox\" ><label for=\"sk-estimator-id-5\" class=\"sk-toggleable__label sk-toggleable__label-arrow\">SimpleImputer</label><div class=\"sk-toggleable__content\"><pre>SimpleImputer(strategy=&#x27;median&#x27;)</pre></div></div></div><div class=\"sk-item\"><div class=\"sk-estimator sk-toggleable\"><input class=\"sk-toggleable__control sk-hidden--visually\" id=\"sk-estimator-id-6\" type=\"checkbox\" ><label for=\"sk-estimator-id-6\" class=\"sk-toggleable__label sk-toggleable__label-arrow\">StandardScaler</label><div class=\"sk-toggleable__content\"><pre>StandardScaler()</pre></div></div></div></div></div></div></div></div><div class=\"sk-parallel-item\"><div class=\"sk-item\"><div class=\"sk-label-container\"><div class=\"sk-label sk-toggleable\"><input class=\"sk-toggleable__control sk-hidden--visually\" id=\"sk-estimator-id-7\" type=\"checkbox\" ><label for=\"sk-estimator-id-7\" class=\"sk-toggleable__label sk-toggleable__label-arrow\">pipeline-2</label><div class=\"sk-toggleable__content\"><pre>[&#x27;STDs:condylomatosis&#x27;, &#x27;Smokes&#x27;, &#x27;Dx:Cancer&#x27;, &#x27;Dx:CIN&#x27;, &#x27;Dx:HPV&#x27;, &#x27;Hinselmann&#x27;]</pre></div></div></div><div class=\"sk-serial\"><div class=\"sk-item\"><div class=\"sk-serial\"><div class=\"sk-item\"><div class=\"sk-estimator sk-toggleable\"><input class=\"sk-toggleable__control sk-hidden--visually\" id=\"sk-estimator-id-8\" type=\"checkbox\" ><label for=\"sk-estimator-id-8\" class=\"sk-toggleable__label sk-toggleable__label-arrow\">SimpleImputer</label><div class=\"sk-toggleable__content\"><pre>SimpleImputer(fill_value=&#x27;99&#x27;, strategy=&#x27;constant&#x27;)</pre></div></div></div><div class=\"sk-item\"><div class=\"sk-estimator sk-toggleable\"><input class=\"sk-toggleable__control sk-hidden--visually\" id=\"sk-estimator-id-9\" type=\"checkbox\" ><label for=\"sk-estimator-id-9\" class=\"sk-toggleable__label sk-toggleable__label-arrow\">OneHotEncoder</label><div class=\"sk-toggleable__content\"><pre>OneHotEncoder(handle_unknown=&#x27;ignore&#x27;)</pre></div></div></div></div></div></div></div></div></div></div><div class=\"sk-item\"><div class=\"sk-estimator sk-toggleable\"><input class=\"sk-toggleable__control sk-hidden--visually\" id=\"sk-estimator-id-10\" type=\"checkbox\" ><label for=\"sk-estimator-id-10\" class=\"sk-toggleable__label sk-toggleable__label-arrow\">SVC</label><div class=\"sk-toggleable__content\"><pre>SVC(class_weight=&#x27;balanced&#x27;)</pre></div></div></div></div></div></div></div></div></div></div></div></div>"
      ],
      "text/plain": [
       "RandomizedSearchCV(cv=5,\n",
       "                   estimator=Pipeline(steps=[('columntransformer',\n",
       "                                              ColumnTransformer(transformers=[('pipeline-1',\n",
       "                                                                               Pipeline(steps=[('simpleimputer',\n",
       "                                                                                                SimpleImputer(strategy='median')),\n",
       "                                                                                               ('standardscaler',\n",
       "                                                                                                StandardScaler())]),\n",
       "                                                                               ['Age',\n",
       "                                                                                'Number '\n",
       "                                                                                'of '\n",
       "                                                                                'sexual '\n",
       "                                                                                'partners',\n",
       "                                                                                'First '\n",
       "                                                                                'sexual '\n",
       "                                                                                'intercourse',\n",
       "                                                                                'Num '\n",
       "                                                                                'of '\n",
       "                                                                                'pregnancies',\n",
       "                                                                                'Hormonal '\n",
       "                                                                                'Contraceptives '\n",
       "                                                                                '(years)',\n",
       "                                                                                'I...\n",
       "                                                                                                              strategy='constant')),\n",
       "                                                                                               ('onehotencoder',\n",
       "                                                                                                OneHotEncoder(handle_unknown='ignore'))]),\n",
       "                                                                               ['STDs:condylomatosis',\n",
       "                                                                                'Smokes',\n",
       "                                                                                'Dx:Cancer',\n",
       "                                                                                'Dx:CIN',\n",
       "                                                                                'Dx:HPV',\n",
       "                                                                                'Hinselmann'])])),\n",
       "                                             ('svc',\n",
       "                                              SVC(class_weight='balanced'))]),\n",
       "                   n_iter=30, n_jobs=-1,\n",
       "                   param_distributions={'svc__C': [0.01, 0.1, 1, 10, 100, 1000,\n",
       "                                                   10000],\n",
       "                                        'svc__gamma': [0.01, 0.1, 1, 10, 100,\n",
       "                                                       1000, 10000]},\n",
       "                   return_train_score=True, scoring='recall')"
      ]
     },
     "execution_count": 22,
     "metadata": {},
     "output_type": "execute_result"
    }
   ],
   "source": [
    "param_dist = {\n",
    "    'svc__C': [ 10**x for x in range( -2, 5)],\n",
    "    'svc__gamma': [ 10**x for x in range( -2, 5)]\n",
    "}\n",
    "\n",
    "random_search = RandomizedSearchCV(\n",
    "    pipe_svc, param_dist, n_iter = 30, cv = 5, scoring = 'recall', n_jobs=-1, return_train_score = True\n",
    ")\n",
    "\n",
    "random_search.fit( X_train, y_train)"
   ]
  },
  {
   "cell_type": "code",
   "execution_count": 23,
   "id": "4b0fae9c-1c58-44fa-8c30-34de20aca40a",
   "metadata": {},
   "outputs": [
    {
     "data": {
      "text/html": [
       "<div>\n",
       "<style scoped>\n",
       "    .dataframe tbody tr th:only-of-type {\n",
       "        vertical-align: middle;\n",
       "    }\n",
       "\n",
       "    .dataframe tbody tr th {\n",
       "        vertical-align: top;\n",
       "    }\n",
       "\n",
       "    .dataframe thead th {\n",
       "        text-align: right;\n",
       "    }\n",
       "</style>\n",
       "<table border=\"1\" class=\"dataframe\">\n",
       "  <thead>\n",
       "    <tr style=\"text-align: right;\">\n",
       "      <th></th>\n",
       "      <th>params</th>\n",
       "      <th>mean_test_score</th>\n",
       "      <th>mean_train_score</th>\n",
       "    </tr>\n",
       "  </thead>\n",
       "  <tbody>\n",
       "    <tr>\n",
       "      <th>27</th>\n",
       "      <td>{'svc__gamma': 1, 'svc__C': 0.1}</td>\n",
       "      <td>0.900000</td>\n",
       "      <td>0.936341</td>\n",
       "    </tr>\n",
       "    <tr>\n",
       "      <th>11</th>\n",
       "      <td>{'svc__gamma': 0.01, 'svc__C': 1}</td>\n",
       "      <td>0.565455</td>\n",
       "      <td>0.617317</td>\n",
       "    </tr>\n",
       "    <tr>\n",
       "      <th>3</th>\n",
       "      <td>{'svc__gamma': 0.01, 'svc__C': 10}</td>\n",
       "      <td>0.565455</td>\n",
       "      <td>0.745000</td>\n",
       "    </tr>\n",
       "    <tr>\n",
       "      <th>16</th>\n",
       "      <td>{'svc__gamma': 0.1, 'svc__C': 0.1}</td>\n",
       "      <td>0.550909</td>\n",
       "      <td>0.676098</td>\n",
       "    </tr>\n",
       "    <tr>\n",
       "      <th>26</th>\n",
       "      <td>{'svc__gamma': 0.01, 'svc__C': 1000}</td>\n",
       "      <td>0.450909</td>\n",
       "      <td>0.911829</td>\n",
       "    </tr>\n",
       "  </tbody>\n",
       "</table>\n",
       "</div>"
      ],
      "text/plain": [
       "                                  params  mean_test_score  mean_train_score\n",
       "27      {'svc__gamma': 1, 'svc__C': 0.1}         0.900000          0.936341\n",
       "11     {'svc__gamma': 0.01, 'svc__C': 1}         0.565455          0.617317\n",
       "3     {'svc__gamma': 0.01, 'svc__C': 10}         0.565455          0.745000\n",
       "16    {'svc__gamma': 0.1, 'svc__C': 0.1}         0.550909          0.676098\n",
       "26  {'svc__gamma': 0.01, 'svc__C': 1000}         0.450909          0.911829"
      ]
     },
     "execution_count": 23,
     "metadata": {},
     "output_type": "execute_result"
    }
   ],
   "source": [
    "results = pd.DataFrame( random_search.cv_results_)\n",
    "results[ ['params', 'mean_test_score', 'mean_train_score']].sort_values( 'mean_test_score', ascending = False).head()"
   ]
  },
  {
   "cell_type": "code",
   "execution_count": 24,
   "id": "7de0e96e-666e-4aec-87cb-94f4218051ba",
   "metadata": {},
   "outputs": [
    {
     "data": {
      "text/html": [
       "<div>\n",
       "<style scoped>\n",
       "    .dataframe tbody tr th:only-of-type {\n",
       "        vertical-align: middle;\n",
       "    }\n",
       "\n",
       "    .dataframe tbody tr th {\n",
       "        vertical-align: top;\n",
       "    }\n",
       "\n",
       "    .dataframe thead th {\n",
       "        text-align: right;\n",
       "    }\n",
       "</style>\n",
       "<table border=\"1\" class=\"dataframe\">\n",
       "  <thead>\n",
       "    <tr style=\"text-align: right;\">\n",
       "      <th></th>\n",
       "      <th>mean</th>\n",
       "      <th>std</th>\n",
       "    </tr>\n",
       "  </thead>\n",
       "  <tbody>\n",
       "    <tr>\n",
       "      <th>fit_time</th>\n",
       "      <td>0.022798</td>\n",
       "      <td>0.004392</td>\n",
       "    </tr>\n",
       "    <tr>\n",
       "      <th>score_time</th>\n",
       "      <td>0.014411</td>\n",
       "      <td>0.002620</td>\n",
       "    </tr>\n",
       "    <tr>\n",
       "      <th>test_precision</th>\n",
       "      <td>0.162378</td>\n",
       "      <td>0.028493</td>\n",
       "    </tr>\n",
       "    <tr>\n",
       "      <th>train_precision</th>\n",
       "      <td>0.181736</td>\n",
       "      <td>0.005795</td>\n",
       "    </tr>\n",
       "    <tr>\n",
       "      <th>test_recall</th>\n",
       "      <td>0.900000</td>\n",
       "      <td>0.100000</td>\n",
       "    </tr>\n",
       "    <tr>\n",
       "      <th>train_recall</th>\n",
       "      <td>0.936341</td>\n",
       "      <td>0.013032</td>\n",
       "    </tr>\n",
       "    <tr>\n",
       "      <th>test_f1</th>\n",
       "      <td>0.274952</td>\n",
       "      <td>0.045373</td>\n",
       "    </tr>\n",
       "    <tr>\n",
       "      <th>train_f1</th>\n",
       "      <td>0.304340</td>\n",
       "      <td>0.007832</td>\n",
       "    </tr>\n",
       "  </tbody>\n",
       "</table>\n",
       "</div>"
      ],
      "text/plain": [
       "                     mean       std\n",
       "fit_time         0.022798  0.004392\n",
       "score_time       0.014411  0.002620\n",
       "test_precision   0.162378  0.028493\n",
       "train_precision  0.181736  0.005795\n",
       "test_recall      0.900000  0.100000\n",
       "train_recall     0.936341  0.013032\n",
       "test_f1          0.274952  0.045373\n",
       "train_f1         0.304340  0.007832"
      ]
     },
     "execution_count": 24,
     "metadata": {},
     "output_type": "execute_result"
    }
   ],
   "source": [
    "pipe_svc_opt = make_pipeline( column_transformer, SVC( gamma = 1, C = 0.1, class_weight = 'balanced'))\n",
    "\n",
    "cv_result = cross_validate( pipe_svc_opt, X_train, y_train, cv = 5, return_train_score = True, scoring = scoring_metrics)\n",
    "result_dict[ 'SVC_opt'] = pd.DataFrame( cv_result).agg( [ 'mean', 'std']).T\n",
    "result_dict[ 'SVC_opt']"
   ]
  },
  {
   "cell_type": "code",
   "execution_count": 25,
   "id": "b5ec0d01-993b-4dae-9195-d438734ac26e",
   "metadata": {},
   "outputs": [
    {
     "name": "stdout",
     "output_type": "stream",
     "text": [
      "         Predicted     \n",
      "                 0    1\n",
      "Actual 0       130  248\n",
      "       1        10   41\n",
      "\n",
      "              precision    recall  f1-score   support\n",
      "\n",
      "           0       0.93      0.34      0.50       378\n",
      "           1       0.14      0.80      0.24        51\n",
      "\n",
      "    accuracy                           0.40       429\n",
      "   macro avg       0.54      0.57      0.37       429\n",
      "weighted avg       0.84      0.40      0.47       429\n",
      "\n"
     ]
    }
   ],
   "source": [
    "y_hat = random_search.predict( X_test)\n",
    "test_results[ 'SVC_opt'] = better_metrics( y_test, y_hat)\n",
    "print( better_confusion_matrix( y_test, y_hat, labels = [ 0, 1]))\n",
    "print()\n",
    "print( classification_report( y_test, y_hat))"
   ]
  },
  {
   "cell_type": "code",
   "execution_count": 26,
   "id": "1d63cd7f-447f-4749-869a-a939c4c2cd55",
   "metadata": {},
   "outputs": [],
   "source": [
    "def pr_curve( precision, recall):\n",
    "    plot_df = pd.DataFrame( {\n",
    "        'precision': precision,\n",
    "        'recall': recall\n",
    "    })\n",
    "\n",
    "    chart = alt.Chart( plot_df).mark_line().encode(\n",
    "        x = 'precision',\n",
    "        y = 'recall'\n",
    "    ).properties( height = 300, width = 300)\n",
    "    return chart"
   ]
  },
  {
   "cell_type": "code",
   "execution_count": 27,
   "id": "5dd3d1e6-d92d-449c-91c3-f3fbd36ec2cb",
   "metadata": {},
   "outputs": [],
   "source": [
    "precision, recall, thresholds = precision_recall_curve( y_test, random_search.decision_function( X_test))"
   ]
  },
  {
   "cell_type": "code",
   "execution_count": 28,
   "id": "2b984c88-6e05-4e56-b9b9-c4d2251f7f8a",
   "metadata": {},
   "outputs": [
    {
     "data": {
      "application/vnd.vegalite.v4+json": {
       "$schema": "https://vega.github.io/schema/vega-lite/v4.17.0.json",
       "config": {
        "view": {
         "continuousHeight": 300,
         "continuousWidth": 400
        }
       },
       "data": {
        "url": "http://localhost:61911/cb52999aa8f536f27c69bd152a5f9651.json"
       },
       "encoding": {
        "x": {
         "field": "precision",
         "type": "quantitative"
        },
        "y": {
         "field": "recall",
         "type": "quantitative"
        }
       },
       "height": 300,
       "mark": "line",
       "width": 300
      },
      "image/png": "[encoded data removed]",
      "text/plain": [
       "<VegaLite 4 object>\n",
       "\n",
       "If you see this message, it means the renderer has not been properly enabled\n",
       "for the frontend that you are using. For more information, see\n",
       "https://altair-viz.github.io/user_guide/troubleshooting.html\n"
      ]
     },
     "execution_count": 28,
     "metadata": {},
     "output_type": "execute_result"
    }
   ],
   "source": [
    "pr_curve( precision, recall)"
   ]
  },
  {
   "cell_type": "code",
   "execution_count": 29,
   "id": "57413674-1128-4dd2-ac06-eaf7e160b2d8",
   "metadata": {},
   "outputs": [],
   "source": [
    "fpr, tpr, thresholds = roc_curve( y_test, random_search.decision_function( X_test))"
   ]
  },
  {
   "cell_type": "code",
   "execution_count": 30,
   "id": "46e85541-17c6-451c-9af5-861d5080ca20",
   "metadata": {},
   "outputs": [],
   "source": [
    "def func_roc_curve( fpr, tpr):\n",
    "    plot_df = pd.DataFrame( {\n",
    "        'fpr': fpr,\n",
    "        'tpr': tpr\n",
    "    })\n",
    "\n",
    "    chart = alt.Chart( plot_df).mark_point().encode(\n",
    "        x = 'fpr',\n",
    "        y = 'tpr'\n",
    "    ).properties( height = 300, width = 300)\n",
    "    return chart"
   ]
  },
  {
   "cell_type": "code",
   "execution_count": 31,
   "id": "161e51e8-16a0-44eb-992a-b6aaa3750447",
   "metadata": {},
   "outputs": [
    {
     "data": {
      "application/vnd.vegalite.v4+json": {
       "$schema": "https://vega.github.io/schema/vega-lite/v4.17.0.json",
       "config": {
        "view": {
         "continuousHeight": 300,
         "continuousWidth": 400
        }
       },
       "data": {
        "url": "http://localhost:61911/aa66d25f355cfb4c4af238770d6f5cdb.json"
       },
       "encoding": {
        "x": {
         "field": "fpr",
         "type": "quantitative"
        },
        "y": {
         "field": "tpr",
         "type": "quantitative"
        }
       },
       "height": 300,
       "mark": "point",
       "width": 300
      },
      "image/png": "[encoded data removed]",
      "text/plain": [
       "<VegaLite 4 object>\n",
       "\n",
       "If you see this message, it means the renderer has not been properly enabled\n",
       "for the frontend that you are using. For more information, see\n",
       "https://altair-viz.github.io/user_guide/troubleshooting.html\n"
      ]
     },
     "execution_count": 31,
     "metadata": {},
     "output_type": "execute_result"
    }
   ],
   "source": [
    "func_roc_curve( fpr, tpr)"
   ]
  },
  {
   "cell_type": "markdown",
   "id": "a8aec7a8-16a9-4627-ac8d-2d004d92259d",
   "metadata": {},
   "source": [
    "## Random Forest (Let's give it a try :))"
   ]
  },
  {
   "cell_type": "code",
   "execution_count": 32,
   "id": "05a7bf15-2ae2-404f-be04-92eac07f2bac",
   "metadata": {},
   "outputs": [
    {
     "data": {
      "text/html": [
       "<div>\n",
       "<style scoped>\n",
       "    .dataframe tbody tr th:only-of-type {\n",
       "        vertical-align: middle;\n",
       "    }\n",
       "\n",
       "    .dataframe tbody tr th {\n",
       "        vertical-align: top;\n",
       "    }\n",
       "\n",
       "    .dataframe thead th {\n",
       "        text-align: right;\n",
       "    }\n",
       "</style>\n",
       "<table border=\"1\" class=\"dataframe\">\n",
       "  <thead>\n",
       "    <tr style=\"text-align: right;\">\n",
       "      <th></th>\n",
       "      <th>mean</th>\n",
       "      <th>std</th>\n",
       "    </tr>\n",
       "  </thead>\n",
       "  <tbody>\n",
       "    <tr>\n",
       "      <th>fit_time</th>\n",
       "      <td>0.194645</td>\n",
       "      <td>0.015059</td>\n",
       "    </tr>\n",
       "    <tr>\n",
       "      <th>score_time</th>\n",
       "      <td>0.028619</td>\n",
       "      <td>0.002619</td>\n",
       "    </tr>\n",
       "    <tr>\n",
       "      <th>test_precision</th>\n",
       "      <td>0.833333</td>\n",
       "      <td>0.288675</td>\n",
       "    </tr>\n",
       "    <tr>\n",
       "      <th>train_precision</th>\n",
       "      <td>1.000000</td>\n",
       "      <td>0.000000</td>\n",
       "    </tr>\n",
       "    <tr>\n",
       "      <th>test_recall</th>\n",
       "      <td>0.330909</td>\n",
       "      <td>0.199441</td>\n",
       "    </tr>\n",
       "    <tr>\n",
       "      <th>train_recall</th>\n",
       "      <td>1.000000</td>\n",
       "      <td>0.000000</td>\n",
       "    </tr>\n",
       "    <tr>\n",
       "      <th>test_f1</th>\n",
       "      <td>0.457391</td>\n",
       "      <td>0.229285</td>\n",
       "    </tr>\n",
       "    <tr>\n",
       "      <th>train_f1</th>\n",
       "      <td>1.000000</td>\n",
       "      <td>0.000000</td>\n",
       "    </tr>\n",
       "  </tbody>\n",
       "</table>\n",
       "</div>"
      ],
      "text/plain": [
       "                     mean       std\n",
       "fit_time         0.194645  0.015059\n",
       "score_time       0.028619  0.002619\n",
       "test_precision   0.833333  0.288675\n",
       "train_precision  1.000000  0.000000\n",
       "test_recall      0.330909  0.199441\n",
       "train_recall     1.000000  0.000000\n",
       "test_f1          0.457391  0.229285\n",
       "train_f1         1.000000  0.000000"
      ]
     },
     "execution_count": 32,
     "metadata": {},
     "output_type": "execute_result"
    }
   ],
   "source": [
    "from sklearn.ensemble import RandomForestClassifier\n",
    "pipe_rfc = make_pipeline( column_transformer, RandomForestClassifier( class_weight = 'balanced', random_state = 123))\n",
    "cv_result = cross_validate( pipe_rfc, X_train, y_train, cv = 5, return_train_score = True, scoring = scoring_metrics)\n",
    "result_dict[ 'RFC'] = pd.DataFrame( cv_result).agg( [ 'mean', 'std']).T\n",
    "result_dict[ 'RFC']"
   ]
  },
  {
   "cell_type": "code",
   "execution_count": 33,
   "id": "f8ebf264-5a2c-4368-9dcc-17bd456566ac",
   "metadata": {},
   "outputs": [
    {
     "data": {
      "text/html": [
       "<div>\n",
       "<style scoped>\n",
       "    .dataframe tbody tr th:only-of-type {\n",
       "        vertical-align: middle;\n",
       "    }\n",
       "\n",
       "    .dataframe tbody tr th {\n",
       "        vertical-align: top;\n",
       "    }\n",
       "\n",
       "    .dataframe thead th {\n",
       "        text-align: right;\n",
       "    }\n",
       "</style>\n",
       "<table border=\"1\" class=\"dataframe\">\n",
       "  <thead>\n",
       "    <tr style=\"text-align: right;\">\n",
       "      <th></th>\n",
       "      <th>params</th>\n",
       "      <th>mean_test_score</th>\n",
       "    </tr>\n",
       "  </thead>\n",
       "  <tbody>\n",
       "    <tr>\n",
       "      <th>15</th>\n",
       "      <td>{'randomforestclassifier__n_estimators': 400, ...</td>\n",
       "      <td>0.410909</td>\n",
       "    </tr>\n",
       "    <tr>\n",
       "      <th>4</th>\n",
       "      <td>{'randomforestclassifier__n_estimators': 400, ...</td>\n",
       "      <td>0.410909</td>\n",
       "    </tr>\n",
       "    <tr>\n",
       "      <th>12</th>\n",
       "      <td>{'randomforestclassifier__n_estimators': 300, ...</td>\n",
       "      <td>0.410909</td>\n",
       "    </tr>\n",
       "    <tr>\n",
       "      <th>7</th>\n",
       "      <td>{'randomforestclassifier__n_estimators': 500, ...</td>\n",
       "      <td>0.410909</td>\n",
       "    </tr>\n",
       "    <tr>\n",
       "      <th>18</th>\n",
       "      <td>{'randomforestclassifier__n_estimators': 900, ...</td>\n",
       "      <td>0.410909</td>\n",
       "    </tr>\n",
       "  </tbody>\n",
       "</table>\n",
       "</div>"
      ],
      "text/plain": [
       "                                               params  mean_test_score\n",
       "15  {'randomforestclassifier__n_estimators': 400, ...         0.410909\n",
       "4   {'randomforestclassifier__n_estimators': 400, ...         0.410909\n",
       "12  {'randomforestclassifier__n_estimators': 300, ...         0.410909\n",
       "7   {'randomforestclassifier__n_estimators': 500, ...         0.410909\n",
       "18  {'randomforestclassifier__n_estimators': 900, ...         0.410909"
      ]
     },
     "execution_count": 33,
     "metadata": {},
     "output_type": "execute_result"
    }
   ],
   "source": [
    "param_dist = {\n",
    "    'randomforestclassifier__n_estimators': [ 100*x for x in range( 1, 11)],\n",
    "    'randomforestclassifier__max_depth': [ 10*x for x in range( 1, 11)],\n",
    "    'randomforestclassifier__max_features': [ 'sqrt', 'log2'],\n",
    "    'randomforestclassifier__criterion': [ 'gini', 'entropy', 'log_loss'],\n",
    "    'randomforestclassifier__bootstrap': [ True, False]\n",
    "}\n",
    "\n",
    "random_search = RandomizedSearchCV(\n",
    "    pipe_rfc, param_dist, n_iter = 30, cv = 5, scoring = 'recall', n_jobs=-1, return_train_score = True, random_state = 918\n",
    ")\n",
    "\n",
    "random_search.fit( X_train, y_train)\n",
    "\n",
    "results = pd.DataFrame(random_search.cv_results_)\n",
    "results[ ['params', 'mean_test_score']].sort_values( 'mean_test_score', ascending = False).head()"
   ]
  },
  {
   "cell_type": "code",
   "execution_count": 34,
   "id": "6e4ea53c-2f05-402b-8213-63323c1354e3",
   "metadata": {},
   "outputs": [
    {
     "name": "stdout",
     "output_type": "stream",
     "text": [
      "{'randomforestclassifier__n_estimators': 400, 'randomforestclassifier__max_features': 'sqrt', 'randomforestclassifier__max_depth': 90, 'randomforestclassifier__criterion': 'entropy', 'randomforestclassifier__bootstrap': False}\n"
     ]
    }
   ],
   "source": [
    "print( results[ ['params', 'mean_test_score']].sort_values( 'mean_test_score', ascending = False).iloc[ 0, 0])"
   ]
  },
  {
   "cell_type": "code",
   "execution_count": 35,
   "id": "07f995a5-864b-4d6f-a3bf-36eca9663b9e",
   "metadata": {},
   "outputs": [
    {
     "data": {
      "text/html": [
       "<div>\n",
       "<style scoped>\n",
       "    .dataframe tbody tr th:only-of-type {\n",
       "        vertical-align: middle;\n",
       "    }\n",
       "\n",
       "    .dataframe tbody tr th {\n",
       "        vertical-align: top;\n",
       "    }\n",
       "\n",
       "    .dataframe thead th {\n",
       "        text-align: right;\n",
       "    }\n",
       "</style>\n",
       "<table border=\"1\" class=\"dataframe\">\n",
       "  <thead>\n",
       "    <tr style=\"text-align: right;\">\n",
       "      <th></th>\n",
       "      <th>mean</th>\n",
       "      <th>std</th>\n",
       "    </tr>\n",
       "  </thead>\n",
       "  <tbody>\n",
       "    <tr>\n",
       "      <th>fit_time</th>\n",
       "      <td>0.598463</td>\n",
       "      <td>0.132745</td>\n",
       "    </tr>\n",
       "    <tr>\n",
       "      <th>score_time</th>\n",
       "      <td>0.049026</td>\n",
       "      <td>0.010200</td>\n",
       "    </tr>\n",
       "    <tr>\n",
       "      <th>test_precision</th>\n",
       "      <td>0.716667</td>\n",
       "      <td>0.280129</td>\n",
       "    </tr>\n",
       "    <tr>\n",
       "      <th>train_precision</th>\n",
       "      <td>1.000000</td>\n",
       "      <td>0.000000</td>\n",
       "    </tr>\n",
       "    <tr>\n",
       "      <th>test_recall</th>\n",
       "      <td>0.410909</td>\n",
       "      <td>0.159985</td>\n",
       "    </tr>\n",
       "    <tr>\n",
       "      <th>train_recall</th>\n",
       "      <td>1.000000</td>\n",
       "      <td>0.000000</td>\n",
       "    </tr>\n",
       "    <tr>\n",
       "      <th>test_f1</th>\n",
       "      <td>0.514472</td>\n",
       "      <td>0.190103</td>\n",
       "    </tr>\n",
       "    <tr>\n",
       "      <th>train_f1</th>\n",
       "      <td>1.000000</td>\n",
       "      <td>0.000000</td>\n",
       "    </tr>\n",
       "  </tbody>\n",
       "</table>\n",
       "</div>"
      ],
      "text/plain": [
       "                     mean       std\n",
       "fit_time         0.598463  0.132745\n",
       "score_time       0.049026  0.010200\n",
       "test_precision   0.716667  0.280129\n",
       "train_precision  1.000000  0.000000\n",
       "test_recall      0.410909  0.159985\n",
       "train_recall     1.000000  0.000000\n",
       "test_f1          0.514472  0.190103\n",
       "train_f1         1.000000  0.000000"
      ]
     },
     "execution_count": 35,
     "metadata": {},
     "output_type": "execute_result"
    }
   ],
   "source": [
    "pipe_rfc_opt = make_pipeline( column_transformer,\n",
    "                              RandomForestClassifier( n_estimators = 400, max_features = 'sqrt', max_depth = 90, criterion = 'entropy',\n",
    "                                                      bootstrap = False, class_weight = 'balanced', random_state = 123))\n",
    "cv_result = cross_validate( pipe_rfc_opt, X_train, y_train, cv = 5, return_train_score = True, scoring = scoring_metrics)\n",
    "result_dict[ 'RFC_opt'] = pd.DataFrame( cv_result).agg( [ 'mean', 'std']).T\n",
    "result_dict[ 'RFC_opt']"
   ]
  },
  {
   "cell_type": "code",
   "execution_count": 36,
   "id": "f1d5eabc-4eaf-47a9-940a-8db56e4336f2",
   "metadata": {},
   "outputs": [
    {
     "name": "stdout",
     "output_type": "stream",
     "text": [
      "         Predicted    \n",
      "                 0   1\n",
      "Actual 0       372   6\n",
      "       1        31  20\n",
      "\n",
      "              precision    recall  f1-score   support\n",
      "\n",
      "           0       0.92      0.98      0.95       378\n",
      "           1       0.77      0.39      0.52        51\n",
      "\n",
      "    accuracy                           0.91       429\n",
      "   macro avg       0.85      0.69      0.74       429\n",
      "weighted avg       0.90      0.91      0.90       429\n",
      "\n"
     ]
    }
   ],
   "source": [
    "y_hat = random_search.predict( X_test)\n",
    "test_results[ 'RFC_opt'] = better_metrics( y_test, y_hat)\n",
    "print( better_confusion_matrix( y_test, y_hat, labels = [ 0, 1]))\n",
    "print()\n",
    "print( classification_report( y_test, y_hat))"
   ]
  },
  {
   "cell_type": "code",
   "execution_count": 37,
   "id": "c78aa6f0-acfe-4856-91bf-1cc0195c04fa",
   "metadata": {},
   "outputs": [],
   "source": [
    "precision, recall, thresholds = precision_recall_curve( y_test, random_search.predict_proba( X_test)[:,1])"
   ]
  },
  {
   "cell_type": "code",
   "execution_count": 38,
   "id": "4a2525a9-ec40-4a9e-9edb-aab6e6d05521",
   "metadata": {},
   "outputs": [
    {
     "data": {
      "application/vnd.vegalite.v4+json": {
       "$schema": "https://vega.github.io/schema/vega-lite/v4.17.0.json",
       "config": {
        "view": {
         "continuousHeight": 300,
         "continuousWidth": 400
        }
       },
       "data": {
        "url": "http://localhost:61911/00302bd41d14684f2bbc930bf00e8aad.json"
       },
       "encoding": {
        "x": {
         "field": "precision",
         "type": "quantitative"
        },
        "y": {
         "field": "recall",
         "type": "quantitative"
        }
       },
       "height": 300,
       "mark": "line",
       "width": 300
      },
      "image/png": "[encoded data removed]",
      "text/plain": [
       "<VegaLite 4 object>\n",
       "\n",
       "If you see this message, it means the renderer has not been properly enabled\n",
       "for the frontend that you are using. For more information, see\n",
       "https://altair-viz.github.io/user_guide/troubleshooting.html\n"
      ]
     },
     "execution_count": 38,
     "metadata": {},
     "output_type": "execute_result"
    }
   ],
   "source": [
    "pr_curve( precision, recall)"
   ]
  },
  {
   "cell_type": "code",
   "execution_count": 39,
   "id": "11c31e56-cfef-45fa-acf6-c049552c6de9",
   "metadata": {},
   "outputs": [
    {
     "data": {
      "application/vnd.vegalite.v4+json": {
       "$schema": "https://vega.github.io/schema/vega-lite/v4.17.0.json",
       "config": {
        "view": {
         "continuousHeight": 300,
         "continuousWidth": 400
        }
       },
       "data": {
        "url": "http://localhost:61911/262cc0aae9dda3327b2585e38d8db33b.json"
       },
       "encoding": {
        "x": {
         "field": "fpr",
         "type": "quantitative"
        },
        "y": {
         "field": "tpr",
         "type": "quantitative"
        }
       },
       "height": 300,
       "mark": "point",
       "width": 300
      },
      "image/png": "[encoded data removed]",
      "text/plain": [
       "<VegaLite 4 object>\n",
       "\n",
       "If you see this message, it means the renderer has not been properly enabled\n",
       "for the frontend that you are using. For more information, see\n",
       "https://altair-viz.github.io/user_guide/troubleshooting.html\n"
      ]
     },
     "execution_count": 39,
     "metadata": {},
     "output_type": "execute_result"
    }
   ],
   "source": [
    "fpr, tpr, thresholds = roc_curve( y_test, random_search.predict_proba( X_test)[:,1])\n",
    "func_roc_curve( fpr, tpr)"
   ]
  },
  {
   "cell_type": "markdown",
   "id": "e283c871-5d6a-4fac-a9f1-e3ee63c8ea2c",
   "metadata": {},
   "source": [
    "## Naive Bayes"
   ]
  },
  {
   "cell_type": "code",
   "execution_count": 40,
   "id": "6d164625-adff-426c-a063-eb83fc7e852c",
   "metadata": {},
   "outputs": [
    {
     "data": {
      "text/html": [
       "<div>\n",
       "<style scoped>\n",
       "    .dataframe tbody tr th:only-of-type {\n",
       "        vertical-align: middle;\n",
       "    }\n",
       "\n",
       "    .dataframe tbody tr th {\n",
       "        vertical-align: top;\n",
       "    }\n",
       "\n",
       "    .dataframe thead th {\n",
       "        text-align: right;\n",
       "    }\n",
       "</style>\n",
       "<table border=\"1\" class=\"dataframe\">\n",
       "  <thead>\n",
       "    <tr style=\"text-align: right;\">\n",
       "      <th></th>\n",
       "      <th>mean</th>\n",
       "      <th>std</th>\n",
       "    </tr>\n",
       "  </thead>\n",
       "  <tbody>\n",
       "    <tr>\n",
       "      <th>fit_time</th>\n",
       "      <td>0.015881</td>\n",
       "      <td>0.001541</td>\n",
       "    </tr>\n",
       "    <tr>\n",
       "      <th>score_time</th>\n",
       "      <td>0.009800</td>\n",
       "      <td>0.001642</td>\n",
       "    </tr>\n",
       "    <tr>\n",
       "      <th>test_precision</th>\n",
       "      <td>0.637143</td>\n",
       "      <td>0.255870</td>\n",
       "    </tr>\n",
       "    <tr>\n",
       "      <th>train_precision</th>\n",
       "      <td>0.683713</td>\n",
       "      <td>0.044721</td>\n",
       "    </tr>\n",
       "    <tr>\n",
       "      <th>test_recall</th>\n",
       "      <td>0.389091</td>\n",
       "      <td>0.223921</td>\n",
       "    </tr>\n",
       "    <tr>\n",
       "      <th>train_recall</th>\n",
       "      <td>0.445854</td>\n",
       "      <td>0.050530</td>\n",
       "    </tr>\n",
       "    <tr>\n",
       "      <th>test_f1</th>\n",
       "      <td>0.448011</td>\n",
       "      <td>0.186705</td>\n",
       "    </tr>\n",
       "    <tr>\n",
       "      <th>train_f1</th>\n",
       "      <td>0.537164</td>\n",
       "      <td>0.031000</td>\n",
       "    </tr>\n",
       "  </tbody>\n",
       "</table>\n",
       "</div>"
      ],
      "text/plain": [
       "                     mean       std\n",
       "fit_time         0.015881  0.001541\n",
       "score_time       0.009800  0.001642\n",
       "test_precision   0.637143  0.255870\n",
       "train_precision  0.683713  0.044721\n",
       "test_recall      0.389091  0.223921\n",
       "train_recall     0.445854  0.050530\n",
       "test_f1          0.448011  0.186705\n",
       "train_f1         0.537164  0.031000"
      ]
     },
     "execution_count": 40,
     "metadata": {},
     "output_type": "execute_result"
    }
   ],
   "source": [
    "from sklearn.naive_bayes import GaussianNB\n",
    "\n",
    "pipe_nb = make_pipeline( column_transformer, GaussianNB())\n",
    "cv_result = cross_validate( pipe_nb, X_train, y_train, cv = 5, return_train_score = True, scoring = scoring_metrics)\n",
    "result_dict[ 'GaussianNB'] = pd.DataFrame( cv_result).agg( [ 'mean', 'std']).T\n",
    "result_dict[ 'GaussianNB']"
   ]
  },
  {
   "cell_type": "code",
   "execution_count": 41,
   "id": "ecdec644-d5c9-4036-8e30-57a16ee74fda",
   "metadata": {},
   "outputs": [
    {
     "name": "stdout",
     "output_type": "stream",
     "text": [
      "         Predicted    \n",
      "                 0   1\n",
      "Actual 0       369   9\n",
      "       1        28  23\n",
      "\n",
      "              precision    recall  f1-score   support\n",
      "\n",
      "           0       0.93      0.98      0.95       378\n",
      "           1       0.72      0.45      0.55        51\n",
      "\n",
      "    accuracy                           0.91       429\n",
      "   macro avg       0.82      0.71      0.75       429\n",
      "weighted avg       0.90      0.91      0.90       429\n",
      "\n"
     ]
    }
   ],
   "source": [
    "pipe_nb.fit( X_train, y_train) # As no hyperparameter optimization for Gaussian naive Bayes\n",
    "y_hat = pipe_nb.predict( X_test)\n",
    "test_results[ 'GaussianNB'] = better_metrics( y_test, y_hat)\n",
    "print( better_confusion_matrix( y_test, y_hat, labels = [ 0, 1]))\n",
    "print()\n",
    "print( classification_report( y_test, y_hat))"
   ]
  },
  {
   "cell_type": "code",
   "execution_count": 42,
   "id": "44903232-820b-4170-8962-e26cb504edfe",
   "metadata": {},
   "outputs": [
    {
     "data": {
      "application/vnd.vegalite.v4+json": {
       "$schema": "https://vega.github.io/schema/vega-lite/v4.17.0.json",
       "config": {
        "view": {
         "continuousHeight": 300,
         "continuousWidth": 400
        }
       },
       "data": {
        "url": "http://localhost:61911/d03751ae61eba85055851a42923db59a.json"
       },
       "encoding": {
        "x": {
         "field": "precision",
         "type": "quantitative"
        },
        "y": {
         "field": "recall",
         "type": "quantitative"
        }
       },
       "height": 300,
       "mark": "line",
       "width": 300
      },
      "image/png": "[encoded data removed]",
      "text/plain": [
       "<VegaLite 4 object>\n",
       "\n",
       "If you see this message, it means the renderer has not been properly enabled\n",
       "for the frontend that you are using. For more information, see\n",
       "https://altair-viz.github.io/user_guide/troubleshooting.html\n"
      ]
     },
     "execution_count": 42,
     "metadata": {},
     "output_type": "execute_result"
    }
   ],
   "source": [
    "precision, recall, thresholds = precision_recall_curve( y_test, pipe_nb.predict_proba( X_test)[:,1])\n",
    "pr_curve( precision, recall)"
   ]
  },
  {
   "cell_type": "markdown",
   "id": "38c70c41-0c37-49b5-880f-62a638249e4b",
   "metadata": {},
   "source": [
    "## Logistic Regression"
   ]
  },
  {
   "cell_type": "code",
   "execution_count": 43,
   "id": "08e31cf1-694a-4d9d-b6c7-7e7dda3c572f",
   "metadata": {},
   "outputs": [
    {
     "name": "stderr",
     "output_type": "stream",
     "text": [
      "C:\\Users\\User\\miniconda3\\lib\\site-packages\\sklearn\\linear_model\\_sag.py:350: ConvergenceWarning: The max_iter was reached which means the coef_ did not converge\n",
      "  warnings.warn(\n",
      "C:\\Users\\User\\miniconda3\\lib\\site-packages\\sklearn\\linear_model\\_sag.py:350: ConvergenceWarning: The max_iter was reached which means the coef_ did not converge\n",
      "  warnings.warn(\n",
      "C:\\Users\\User\\miniconda3\\lib\\site-packages\\sklearn\\linear_model\\_sag.py:350: ConvergenceWarning: The max_iter was reached which means the coef_ did not converge\n",
      "  warnings.warn(\n"
     ]
    },
    {
     "data": {
      "text/html": [
       "<div>\n",
       "<style scoped>\n",
       "    .dataframe tbody tr th:only-of-type {\n",
       "        vertical-align: middle;\n",
       "    }\n",
       "\n",
       "    .dataframe tbody tr th {\n",
       "        vertical-align: top;\n",
       "    }\n",
       "\n",
       "    .dataframe thead th {\n",
       "        text-align: right;\n",
       "    }\n",
       "</style>\n",
       "<table border=\"1\" class=\"dataframe\">\n",
       "  <thead>\n",
       "    <tr style=\"text-align: right;\">\n",
       "      <th></th>\n",
       "      <th>mean</th>\n",
       "      <th>std</th>\n",
       "    </tr>\n",
       "  </thead>\n",
       "  <tbody>\n",
       "    <tr>\n",
       "      <th>fit_time</th>\n",
       "      <td>0.140047</td>\n",
       "      <td>0.065983</td>\n",
       "    </tr>\n",
       "    <tr>\n",
       "      <th>score_time</th>\n",
       "      <td>0.009200</td>\n",
       "      <td>0.009934</td>\n",
       "    </tr>\n",
       "    <tr>\n",
       "      <th>test_precision</th>\n",
       "      <td>0.334590</td>\n",
       "      <td>0.069544</td>\n",
       "    </tr>\n",
       "    <tr>\n",
       "      <th>train_precision</th>\n",
       "      <td>0.368846</td>\n",
       "      <td>0.050524</td>\n",
       "    </tr>\n",
       "    <tr>\n",
       "      <th>test_recall</th>\n",
       "      <td>0.681818</td>\n",
       "      <td>0.194978</td>\n",
       "    </tr>\n",
       "    <tr>\n",
       "      <th>train_recall</th>\n",
       "      <td>0.745000</td>\n",
       "      <td>0.033599</td>\n",
       "    </tr>\n",
       "    <tr>\n",
       "      <th>test_f1</th>\n",
       "      <td>0.443055</td>\n",
       "      <td>0.096582</td>\n",
       "    </tr>\n",
       "    <tr>\n",
       "      <th>train_f1</th>\n",
       "      <td>0.492254</td>\n",
       "      <td>0.051243</td>\n",
       "    </tr>\n",
       "  </tbody>\n",
       "</table>\n",
       "</div>"
      ],
      "text/plain": [
       "                     mean       std\n",
       "fit_time         0.140047  0.065983\n",
       "score_time       0.009200  0.009934\n",
       "test_precision   0.334590  0.069544\n",
       "train_precision  0.368846  0.050524\n",
       "test_recall      0.681818  0.194978\n",
       "train_recall     0.745000  0.033599\n",
       "test_f1          0.443055  0.096582\n",
       "train_f1         0.492254  0.051243"
      ]
     },
     "execution_count": 43,
     "metadata": {},
     "output_type": "execute_result"
    }
   ],
   "source": [
    "from sklearn.linear_model import LogisticRegression\n",
    "pipe_logreg = make_pipeline( column_transformer, LogisticRegression( max_iter = 1000, solver = 'saga', class_weight = 'balanced', random_state = 123))\n",
    "cv_result = cross_validate( pipe_logreg, X_train, y_train, cv = 5, return_train_score = True, scoring = scoring_metrics)\n",
    "result_dict[ 'LogReg'] = pd.DataFrame( cv_result).agg( [ 'mean', 'std']).T\n",
    "result_dict[ 'LogReg']"
   ]
  },
  {
   "cell_type": "code",
   "execution_count": 44,
   "id": "8f2c7bf7-5bb4-42e4-b06a-6d240de3aabd",
   "metadata": {},
   "outputs": [
    {
     "name": "stderr",
     "output_type": "stream",
     "text": [
      "C:\\Users\\User\\miniconda3\\lib\\site-packages\\sklearn\\linear_model\\_sag.py:350: ConvergenceWarning: The max_iter was reached which means the coef_ did not converge\n",
      "  warnings.warn(\n"
     ]
    },
    {
     "data": {
      "text/html": [
       "<div>\n",
       "<style scoped>\n",
       "    .dataframe tbody tr th:only-of-type {\n",
       "        vertical-align: middle;\n",
       "    }\n",
       "\n",
       "    .dataframe tbody tr th {\n",
       "        vertical-align: top;\n",
       "    }\n",
       "\n",
       "    .dataframe thead th {\n",
       "        text-align: right;\n",
       "    }\n",
       "</style>\n",
       "<table border=\"1\" class=\"dataframe\">\n",
       "  <thead>\n",
       "    <tr style=\"text-align: right;\">\n",
       "      <th></th>\n",
       "      <th>params</th>\n",
       "      <th>mean_test_score</th>\n",
       "    </tr>\n",
       "  </thead>\n",
       "  <tbody>\n",
       "    <tr>\n",
       "      <th>31</th>\n",
       "      <td>{'logisticregression__C': 1, 'logisticregressi...</td>\n",
       "      <td>0.342924</td>\n",
       "    </tr>\n",
       "    <tr>\n",
       "      <th>0</th>\n",
       "      <td>{'logisticregression__C': 0.01, 'logisticregre...</td>\n",
       "      <td>0.342251</td>\n",
       "    </tr>\n",
       "    <tr>\n",
       "      <th>61</th>\n",
       "      <td>{'logisticregression__C': 1000, 'logisticregre...</td>\n",
       "      <td>0.342251</td>\n",
       "    </tr>\n",
       "    <tr>\n",
       "      <th>60</th>\n",
       "      <td>{'logisticregression__C': 1000, 'logisticregre...</td>\n",
       "      <td>0.342251</td>\n",
       "    </tr>\n",
       "    <tr>\n",
       "      <th>59</th>\n",
       "      <td>{'logisticregression__C': 100, 'logisticregres...</td>\n",
       "      <td>0.342251</td>\n",
       "    </tr>\n",
       "  </tbody>\n",
       "</table>\n",
       "</div>"
      ],
      "text/plain": [
       "                                               params  mean_test_score\n",
       "31  {'logisticregression__C': 1, 'logisticregressi...         0.342924\n",
       "0   {'logisticregression__C': 0.01, 'logisticregre...         0.342251\n",
       "61  {'logisticregression__C': 1000, 'logisticregre...         0.342251\n",
       "60  {'logisticregression__C': 1000, 'logisticregre...         0.342251\n",
       "59  {'logisticregression__C': 100, 'logisticregres...         0.342251"
      ]
     },
     "execution_count": 44,
     "metadata": {},
     "output_type": "execute_result"
    }
   ],
   "source": [
    "param_dist = {\n",
    "    'logisticregression__C': [ 10**x for x in range( -2, 5)],\n",
    "    'logisticregression__penalty': [ 'none', 'l2', 'l1', 'elasticnet'],\n",
    "    'logisticregression__l1_ratio': [ 0, 0.5, 1]\n",
    "}\n",
    "\n",
    "grid_search = GridSearchCV(\n",
    "    pipe_logreg, param_dist, cv = 5, scoring = 'precision', n_jobs=-1, return_train_score = True\n",
    ")\n",
    "\n",
    "grid_search.fit( X_train, y_train)\n",
    "\n",
    "results = pd.DataFrame( grid_search.cv_results_)\n",
    "results[ ['params', 'mean_test_score']].sort_values( 'mean_test_score', ascending = False).head()"
   ]
  },
  {
   "cell_type": "code",
   "execution_count": 45,
   "id": "8e2fa089-12a6-4e56-88bf-564367ed01f0",
   "metadata": {},
   "outputs": [
    {
     "data": {
      "text/plain": [
       "{'logisticregression__C': 1,\n",
       " 'logisticregression__l1_ratio': 0.5,\n",
       " 'logisticregression__penalty': 'elasticnet'}"
      ]
     },
     "execution_count": 45,
     "metadata": {},
     "output_type": "execute_result"
    }
   ],
   "source": [
    "results[ ['params', 'mean_test_score']].sort_values( 'mean_test_score', ascending = False).iloc[ 0, 0]"
   ]
  },
  {
   "cell_type": "code",
   "execution_count": 46,
   "id": "d2f05fb6-be22-48c0-8f97-e8935b02cae0",
   "metadata": {},
   "outputs": [
    {
     "name": "stderr",
     "output_type": "stream",
     "text": [
      "C:\\Users\\User\\miniconda3\\lib\\site-packages\\sklearn\\linear_model\\_sag.py:350: ConvergenceWarning: The max_iter was reached which means the coef_ did not converge\n",
      "  warnings.warn(\n",
      "C:\\Users\\User\\miniconda3\\lib\\site-packages\\sklearn\\linear_model\\_sag.py:350: ConvergenceWarning: The max_iter was reached which means the coef_ did not converge\n",
      "  warnings.warn(\n",
      "C:\\Users\\User\\miniconda3\\lib\\site-packages\\sklearn\\linear_model\\_sag.py:350: ConvergenceWarning: The max_iter was reached which means the coef_ did not converge\n",
      "  warnings.warn(\n"
     ]
    },
    {
     "data": {
      "text/html": [
       "<div>\n",
       "<style scoped>\n",
       "    .dataframe tbody tr th:only-of-type {\n",
       "        vertical-align: middle;\n",
       "    }\n",
       "\n",
       "    .dataframe tbody tr th {\n",
       "        vertical-align: top;\n",
       "    }\n",
       "\n",
       "    .dataframe thead th {\n",
       "        text-align: right;\n",
       "    }\n",
       "</style>\n",
       "<table border=\"1\" class=\"dataframe\">\n",
       "  <thead>\n",
       "    <tr style=\"text-align: right;\">\n",
       "      <th></th>\n",
       "      <th>mean</th>\n",
       "      <th>std</th>\n",
       "    </tr>\n",
       "  </thead>\n",
       "  <tbody>\n",
       "    <tr>\n",
       "      <th>fit_time</th>\n",
       "      <td>0.094004</td>\n",
       "      <td>0.024651</td>\n",
       "    </tr>\n",
       "    <tr>\n",
       "      <th>score_time</th>\n",
       "      <td>0.010142</td>\n",
       "      <td>0.003096</td>\n",
       "    </tr>\n",
       "    <tr>\n",
       "      <th>test_precision</th>\n",
       "      <td>0.334590</td>\n",
       "      <td>0.069544</td>\n",
       "    </tr>\n",
       "    <tr>\n",
       "      <th>train_precision</th>\n",
       "      <td>0.368846</td>\n",
       "      <td>0.050524</td>\n",
       "    </tr>\n",
       "    <tr>\n",
       "      <th>test_recall</th>\n",
       "      <td>0.681818</td>\n",
       "      <td>0.194978</td>\n",
       "    </tr>\n",
       "    <tr>\n",
       "      <th>train_recall</th>\n",
       "      <td>0.745000</td>\n",
       "      <td>0.033599</td>\n",
       "    </tr>\n",
       "    <tr>\n",
       "      <th>test_f1</th>\n",
       "      <td>0.443055</td>\n",
       "      <td>0.096582</td>\n",
       "    </tr>\n",
       "    <tr>\n",
       "      <th>train_f1</th>\n",
       "      <td>0.492254</td>\n",
       "      <td>0.051243</td>\n",
       "    </tr>\n",
       "  </tbody>\n",
       "</table>\n",
       "</div>"
      ],
      "text/plain": [
       "                     mean       std\n",
       "fit_time         0.094004  0.024651\n",
       "score_time       0.010142  0.003096\n",
       "test_precision   0.334590  0.069544\n",
       "train_precision  0.368846  0.050524\n",
       "test_recall      0.681818  0.194978\n",
       "train_recall     0.745000  0.033599\n",
       "test_f1          0.443055  0.096582\n",
       "train_f1         0.492254  0.051243"
      ]
     },
     "execution_count": 46,
     "metadata": {},
     "output_type": "execute_result"
    }
   ],
   "source": [
    "pipe_logreg = make_pipeline( column_transformer, LogisticRegression( max_iter = 1000, solver = 'saga', class_weight = 'balanced', random_state = 123))\n",
    "cv_result = cross_validate( pipe_logreg, X_train, y_train, cv = 5, return_train_score = True, scoring = scoring_metrics)\n",
    "result_dict[ 'LogReg_opt'] = pd.DataFrame( cv_result).agg( [ 'mean', 'std']).T\n",
    "result_dict[ 'LogReg_opt']"
   ]
  },
  {
   "cell_type": "code",
   "execution_count": 47,
   "id": "d3730b20-841a-4d90-9ac4-e924365449cc",
   "metadata": {},
   "outputs": [
    {
     "name": "stdout",
     "output_type": "stream",
     "text": [
      "         Predicted    \n",
      "                 0   1\n",
      "Actual 0       290  88\n",
      "       1        22  29\n",
      "\n",
      "              precision    recall  f1-score   support\n",
      "\n",
      "           0       0.93      0.77      0.84       378\n",
      "           1       0.25      0.57      0.35        51\n",
      "\n",
      "    accuracy                           0.74       429\n",
      "   macro avg       0.59      0.67      0.59       429\n",
      "weighted avg       0.85      0.74      0.78       429\n",
      "\n"
     ]
    }
   ],
   "source": [
    "y_hat = grid_search.predict( X_test)\n",
    "test_results[ 'LogReg_opt'] = better_metrics( y_test, y_hat)\n",
    "print( better_confusion_matrix( y_test, y_hat, labels = [ 0, 1]))\n",
    "print()\n",
    "print( classification_report( y_test, y_hat))"
   ]
  },
  {
   "cell_type": "code",
   "execution_count": 48,
   "id": "8e7f1c04-9d16-49da-b68d-35e75e6bdfd4",
   "metadata": {},
   "outputs": [
    {
     "data": {
      "application/vnd.vegalite.v4+json": {
       "$schema": "https://vega.github.io/schema/vega-lite/v4.17.0.json",
       "config": {
        "view": {
         "continuousHeight": 300,
         "continuousWidth": 400
        }
       },
       "data": {
        "url": "http://localhost:61911/b3e0f2e0777c5b1ebb6f86cd95779dca.json"
       },
       "encoding": {
        "x": {
         "field": "precision",
         "type": "quantitative"
        },
        "y": {
         "field": "recall",
         "type": "quantitative"
        }
       },
       "height": 300,
       "mark": "line",
       "width": 300
      },
      "image/png": "[encoded data removed]",
      "text/plain": [
       "<VegaLite 4 object>\n",
       "\n",
       "If you see this message, it means the renderer has not been properly enabled\n",
       "for the frontend that you are using. For more information, see\n",
       "https://altair-viz.github.io/user_guide/troubleshooting.html\n"
      ]
     },
     "execution_count": 48,
     "metadata": {},
     "output_type": "execute_result"
    }
   ],
   "source": [
    "precision, recall, thresholds = precision_recall_curve( y_test, grid_search.predict_proba( X_test)[:,1])\n",
    "pr_curve( precision, recall)"
   ]
  },
  {
   "cell_type": "markdown",
   "id": "286dc5dd-b633-4980-a967-c53a50c8693d",
   "metadata": {},
   "source": [
    "## Overall"
   ]
  },
  {
   "cell_type": "code",
   "execution_count": 49,
   "id": "8b7e0a2e-a638-401a-b1d9-f7e0339ad299",
   "metadata": {},
   "outputs": [
    {
     "data": {
      "text/html": [
       "<div>\n",
       "<style scoped>\n",
       "    .dataframe tbody tr th:only-of-type {\n",
       "        vertical-align: middle;\n",
       "    }\n",
       "\n",
       "    .dataframe tbody tr th {\n",
       "        vertical-align: top;\n",
       "    }\n",
       "\n",
       "    .dataframe thead tr th {\n",
       "        text-align: left;\n",
       "    }\n",
       "</style>\n",
       "<table border=\"1\" class=\"dataframe\">\n",
       "  <thead>\n",
       "    <tr>\n",
       "      <th></th>\n",
       "      <th colspan=\"2\" halign=\"left\">KNN</th>\n",
       "      <th colspan=\"2\" halign=\"left\">KNN_opt</th>\n",
       "      <th colspan=\"2\" halign=\"left\">SVC</th>\n",
       "      <th colspan=\"2\" halign=\"left\">SVC_opt</th>\n",
       "      <th colspan=\"2\" halign=\"left\">RFC</th>\n",
       "      <th colspan=\"2\" halign=\"left\">RFC_opt</th>\n",
       "      <th colspan=\"2\" halign=\"left\">GaussianNB</th>\n",
       "      <th colspan=\"2\" halign=\"left\">LogReg</th>\n",
       "      <th colspan=\"2\" halign=\"left\">LogReg_opt</th>\n",
       "    </tr>\n",
       "    <tr>\n",
       "      <th></th>\n",
       "      <th>mean</th>\n",
       "      <th>std</th>\n",
       "      <th>mean</th>\n",
       "      <th>std</th>\n",
       "      <th>mean</th>\n",
       "      <th>std</th>\n",
       "      <th>mean</th>\n",
       "      <th>std</th>\n",
       "      <th>mean</th>\n",
       "      <th>std</th>\n",
       "      <th>mean</th>\n",
       "      <th>std</th>\n",
       "      <th>mean</th>\n",
       "      <th>std</th>\n",
       "      <th>mean</th>\n",
       "      <th>std</th>\n",
       "      <th>mean</th>\n",
       "      <th>std</th>\n",
       "    </tr>\n",
       "  </thead>\n",
       "  <tbody>\n",
       "    <tr>\n",
       "      <th>fit_time</th>\n",
       "      <td>0.013790</td>\n",
       "      <td>0.004319</td>\n",
       "      <td>0.017916</td>\n",
       "      <td>0.007627</td>\n",
       "      <td>0.010615</td>\n",
       "      <td>0.008644</td>\n",
       "      <td>0.022798</td>\n",
       "      <td>0.004392</td>\n",
       "      <td>0.194645</td>\n",
       "      <td>0.015059</td>\n",
       "      <td>0.598463</td>\n",
       "      <td>0.132745</td>\n",
       "      <td>0.015881</td>\n",
       "      <td>0.001541</td>\n",
       "      <td>0.140047</td>\n",
       "      <td>0.065983</td>\n",
       "      <td>0.094004</td>\n",
       "      <td>0.024651</td>\n",
       "    </tr>\n",
       "    <tr>\n",
       "      <th>score_time</th>\n",
       "      <td>0.052255</td>\n",
       "      <td>0.071590</td>\n",
       "      <td>0.017277</td>\n",
       "      <td>0.005906</td>\n",
       "      <td>0.013466</td>\n",
       "      <td>0.003457</td>\n",
       "      <td>0.014411</td>\n",
       "      <td>0.002620</td>\n",
       "      <td>0.028619</td>\n",
       "      <td>0.002619</td>\n",
       "      <td>0.049026</td>\n",
       "      <td>0.010200</td>\n",
       "      <td>0.009800</td>\n",
       "      <td>0.001642</td>\n",
       "      <td>0.009200</td>\n",
       "      <td>0.009934</td>\n",
       "      <td>0.010142</td>\n",
       "      <td>0.003096</td>\n",
       "    </tr>\n",
       "    <tr>\n",
       "      <th>test_precision</th>\n",
       "      <td>0.340000</td>\n",
       "      <td>0.421900</td>\n",
       "      <td>0.340000</td>\n",
       "      <td>0.421900</td>\n",
       "      <td>0.379286</td>\n",
       "      <td>0.086058</td>\n",
       "      <td>0.162378</td>\n",
       "      <td>0.028493</td>\n",
       "      <td>0.833333</td>\n",
       "      <td>0.288675</td>\n",
       "      <td>0.716667</td>\n",
       "      <td>0.280129</td>\n",
       "      <td>0.637143</td>\n",
       "      <td>0.255870</td>\n",
       "      <td>0.334590</td>\n",
       "      <td>0.069544</td>\n",
       "      <td>0.334590</td>\n",
       "      <td>0.069544</td>\n",
       "    </tr>\n",
       "    <tr>\n",
       "      <th>train_precision</th>\n",
       "      <td>0.706984</td>\n",
       "      <td>0.150416</td>\n",
       "      <td>0.706984</td>\n",
       "      <td>0.150416</td>\n",
       "      <td>0.600542</td>\n",
       "      <td>0.148967</td>\n",
       "      <td>0.181736</td>\n",
       "      <td>0.005795</td>\n",
       "      <td>1.000000</td>\n",
       "      <td>0.000000</td>\n",
       "      <td>1.000000</td>\n",
       "      <td>0.000000</td>\n",
       "      <td>0.683713</td>\n",
       "      <td>0.044721</td>\n",
       "      <td>0.368846</td>\n",
       "      <td>0.050524</td>\n",
       "      <td>0.368846</td>\n",
       "      <td>0.050524</td>\n",
       "    </tr>\n",
       "    <tr>\n",
       "      <th>test_recall</th>\n",
       "      <td>0.058182</td>\n",
       "      <td>0.053242</td>\n",
       "      <td>0.058182</td>\n",
       "      <td>0.053242</td>\n",
       "      <td>0.527273</td>\n",
       "      <td>0.196771</td>\n",
       "      <td>0.900000</td>\n",
       "      <td>0.100000</td>\n",
       "      <td>0.330909</td>\n",
       "      <td>0.199441</td>\n",
       "      <td>0.410909</td>\n",
       "      <td>0.159985</td>\n",
       "      <td>0.389091</td>\n",
       "      <td>0.223921</td>\n",
       "      <td>0.681818</td>\n",
       "      <td>0.194978</td>\n",
       "      <td>0.681818</td>\n",
       "      <td>0.194978</td>\n",
       "    </tr>\n",
       "    <tr>\n",
       "      <th>train_recall</th>\n",
       "      <td>0.171463</td>\n",
       "      <td>0.072884</td>\n",
       "      <td>0.171463</td>\n",
       "      <td>0.072884</td>\n",
       "      <td>0.779268</td>\n",
       "      <td>0.046518</td>\n",
       "      <td>0.936341</td>\n",
       "      <td>0.013032</td>\n",
       "      <td>1.000000</td>\n",
       "      <td>0.000000</td>\n",
       "      <td>1.000000</td>\n",
       "      <td>0.000000</td>\n",
       "      <td>0.445854</td>\n",
       "      <td>0.050530</td>\n",
       "      <td>0.745000</td>\n",
       "      <td>0.033599</td>\n",
       "      <td>0.745000</td>\n",
       "      <td>0.033599</td>\n",
       "    </tr>\n",
       "    <tr>\n",
       "      <th>test_f1</th>\n",
       "      <td>0.093800</td>\n",
       "      <td>0.087339</td>\n",
       "      <td>0.093800</td>\n",
       "      <td>0.087339</td>\n",
       "      <td>0.436559</td>\n",
       "      <td>0.115877</td>\n",
       "      <td>0.274952</td>\n",
       "      <td>0.045373</td>\n",
       "      <td>0.457391</td>\n",
       "      <td>0.229285</td>\n",
       "      <td>0.514472</td>\n",
       "      <td>0.190103</td>\n",
       "      <td>0.448011</td>\n",
       "      <td>0.186705</td>\n",
       "      <td>0.443055</td>\n",
       "      <td>0.096582</td>\n",
       "      <td>0.443055</td>\n",
       "      <td>0.096582</td>\n",
       "    </tr>\n",
       "    <tr>\n",
       "      <th>train_f1</th>\n",
       "      <td>0.272490</td>\n",
       "      <td>0.097502</td>\n",
       "      <td>0.272490</td>\n",
       "      <td>0.097502</td>\n",
       "      <td>0.669204</td>\n",
       "      <td>0.086089</td>\n",
       "      <td>0.304340</td>\n",
       "      <td>0.007832</td>\n",
       "      <td>1.000000</td>\n",
       "      <td>0.000000</td>\n",
       "      <td>1.000000</td>\n",
       "      <td>0.000000</td>\n",
       "      <td>0.537164</td>\n",
       "      <td>0.031000</td>\n",
       "      <td>0.492254</td>\n",
       "      <td>0.051243</td>\n",
       "      <td>0.492254</td>\n",
       "      <td>0.051243</td>\n",
       "    </tr>\n",
       "  </tbody>\n",
       "</table>\n",
       "</div>"
      ],
      "text/plain": [
       "                      KNN             KNN_opt                 SVC            \\\n",
       "                     mean       std      mean       std      mean       std   \n",
       "fit_time         0.013790  0.004319  0.017916  0.007627  0.010615  0.008644   \n",
       "score_time       0.052255  0.071590  0.017277  0.005906  0.013466  0.003457   \n",
       "test_precision   0.340000  0.421900  0.340000  0.421900  0.379286  0.086058   \n",
       "train_precision  0.706984  0.150416  0.706984  0.150416  0.600542  0.148967   \n",
       "test_recall      0.058182  0.053242  0.058182  0.053242  0.527273  0.196771   \n",
       "train_recall     0.171463  0.072884  0.171463  0.072884  0.779268  0.046518   \n",
       "test_f1          0.093800  0.087339  0.093800  0.087339  0.436559  0.115877   \n",
       "train_f1         0.272490  0.097502  0.272490  0.097502  0.669204  0.086089   \n",
       "\n",
       "                  SVC_opt                 RFC             RFC_opt            \\\n",
       "                     mean       std      mean       std      mean       std   \n",
       "fit_time         0.022798  0.004392  0.194645  0.015059  0.598463  0.132745   \n",
       "score_time       0.014411  0.002620  0.028619  0.002619  0.049026  0.010200   \n",
       "test_precision   0.162378  0.028493  0.833333  0.288675  0.716667  0.280129   \n",
       "train_precision  0.181736  0.005795  1.000000  0.000000  1.000000  0.000000   \n",
       "test_recall      0.900000  0.100000  0.330909  0.199441  0.410909  0.159985   \n",
       "train_recall     0.936341  0.013032  1.000000  0.000000  1.000000  0.000000   \n",
       "test_f1          0.274952  0.045373  0.457391  0.229285  0.514472  0.190103   \n",
       "train_f1         0.304340  0.007832  1.000000  0.000000  1.000000  0.000000   \n",
       "\n",
       "                GaussianNB              LogReg           LogReg_opt            \n",
       "                      mean       std      mean       std       mean       std  \n",
       "fit_time          0.015881  0.001541  0.140047  0.065983   0.094004  0.024651  \n",
       "score_time        0.009800  0.001642  0.009200  0.009934   0.010142  0.003096  \n",
       "test_precision    0.637143  0.255870  0.334590  0.069544   0.334590  0.069544  \n",
       "train_precision   0.683713  0.044721  0.368846  0.050524   0.368846  0.050524  \n",
       "test_recall       0.389091  0.223921  0.681818  0.194978   0.681818  0.194978  \n",
       "train_recall      0.445854  0.050530  0.745000  0.033599   0.745000  0.033599  \n",
       "test_f1           0.448011  0.186705  0.443055  0.096582   0.443055  0.096582  \n",
       "train_f1          0.537164  0.031000  0.492254  0.051243   0.492254  0.051243  "
      ]
     },
     "execution_count": 49,
     "metadata": {},
     "output_type": "execute_result"
    }
   ],
   "source": [
    "overall = pd.concat( result_dict, axis = 1)\n",
    "overall"
   ]
  },
  {
   "cell_type": "code",
   "execution_count": 50,
   "id": "cf2b8d4c-41cb-4b79-8666-937e5f7f5eaa",
   "metadata": {},
   "outputs": [
    {
     "data": {
      "text/html": [
       "<div>\n",
       "<style scoped>\n",
       "    .dataframe tbody tr th:only-of-type {\n",
       "        vertical-align: middle;\n",
       "    }\n",
       "\n",
       "    .dataframe tbody tr th {\n",
       "        vertical-align: top;\n",
       "    }\n",
       "\n",
       "    .dataframe thead th {\n",
       "        text-align: right;\n",
       "    }\n",
       "</style>\n",
       "<table border=\"1\" class=\"dataframe\">\n",
       "  <thead>\n",
       "    <tr style=\"text-align: right;\">\n",
       "      <th></th>\n",
       "      <th>KNN</th>\n",
       "      <th>KNN_opt</th>\n",
       "      <th>SVC</th>\n",
       "      <th>SVC_opt</th>\n",
       "      <th>RFC</th>\n",
       "      <th>RFC_opt</th>\n",
       "      <th>GaussianNB</th>\n",
       "      <th>LogReg</th>\n",
       "      <th>LogReg_opt</th>\n",
       "    </tr>\n",
       "  </thead>\n",
       "  <tbody>\n",
       "    <tr>\n",
       "      <th>fit_time</th>\n",
       "      <td>0.013790</td>\n",
       "      <td>0.017916</td>\n",
       "      <td>0.010615</td>\n",
       "      <td>0.022798</td>\n",
       "      <td>0.194645</td>\n",
       "      <td>0.598463</td>\n",
       "      <td>0.015881</td>\n",
       "      <td>0.140047</td>\n",
       "      <td>0.094004</td>\n",
       "    </tr>\n",
       "    <tr>\n",
       "      <th>score_time</th>\n",
       "      <td>0.052255</td>\n",
       "      <td>0.017277</td>\n",
       "      <td>0.013466</td>\n",
       "      <td>0.014411</td>\n",
       "      <td>0.028619</td>\n",
       "      <td>0.049026</td>\n",
       "      <td>0.009800</td>\n",
       "      <td>0.009200</td>\n",
       "      <td>0.010142</td>\n",
       "    </tr>\n",
       "    <tr>\n",
       "      <th>test_precision</th>\n",
       "      <td>0.340000</td>\n",
       "      <td>0.340000</td>\n",
       "      <td>0.379286</td>\n",
       "      <td>0.162378</td>\n",
       "      <td>0.833333</td>\n",
       "      <td>0.716667</td>\n",
       "      <td>0.637143</td>\n",
       "      <td>0.334590</td>\n",
       "      <td>0.334590</td>\n",
       "    </tr>\n",
       "    <tr>\n",
       "      <th>train_precision</th>\n",
       "      <td>0.706984</td>\n",
       "      <td>0.706984</td>\n",
       "      <td>0.600542</td>\n",
       "      <td>0.181736</td>\n",
       "      <td>1.000000</td>\n",
       "      <td>1.000000</td>\n",
       "      <td>0.683713</td>\n",
       "      <td>0.368846</td>\n",
       "      <td>0.368846</td>\n",
       "    </tr>\n",
       "    <tr>\n",
       "      <th>test_recall</th>\n",
       "      <td>0.058182</td>\n",
       "      <td>0.058182</td>\n",
       "      <td>0.527273</td>\n",
       "      <td>0.900000</td>\n",
       "      <td>0.330909</td>\n",
       "      <td>0.410909</td>\n",
       "      <td>0.389091</td>\n",
       "      <td>0.681818</td>\n",
       "      <td>0.681818</td>\n",
       "    </tr>\n",
       "    <tr>\n",
       "      <th>train_recall</th>\n",
       "      <td>0.171463</td>\n",
       "      <td>0.171463</td>\n",
       "      <td>0.779268</td>\n",
       "      <td>0.936341</td>\n",
       "      <td>1.000000</td>\n",
       "      <td>1.000000</td>\n",
       "      <td>0.445854</td>\n",
       "      <td>0.745000</td>\n",
       "      <td>0.745000</td>\n",
       "    </tr>\n",
       "    <tr>\n",
       "      <th>test_f1</th>\n",
       "      <td>0.093800</td>\n",
       "      <td>0.093800</td>\n",
       "      <td>0.436559</td>\n",
       "      <td>0.274952</td>\n",
       "      <td>0.457391</td>\n",
       "      <td>0.514472</td>\n",
       "      <td>0.448011</td>\n",
       "      <td>0.443055</td>\n",
       "      <td>0.443055</td>\n",
       "    </tr>\n",
       "    <tr>\n",
       "      <th>train_f1</th>\n",
       "      <td>0.272490</td>\n",
       "      <td>0.272490</td>\n",
       "      <td>0.669204</td>\n",
       "      <td>0.304340</td>\n",
       "      <td>1.000000</td>\n",
       "      <td>1.000000</td>\n",
       "      <td>0.537164</td>\n",
       "      <td>0.492254</td>\n",
       "      <td>0.492254</td>\n",
       "    </tr>\n",
       "  </tbody>\n",
       "</table>\n",
       "</div>"
      ],
      "text/plain": [
       "                      KNN   KNN_opt       SVC   SVC_opt       RFC   RFC_opt  \\\n",
       "fit_time         0.013790  0.017916  0.010615  0.022798  0.194645  0.598463   \n",
       "score_time       0.052255  0.017277  0.013466  0.014411  0.028619  0.049026   \n",
       "test_precision   0.340000  0.340000  0.379286  0.162378  0.833333  0.716667   \n",
       "train_precision  0.706984  0.706984  0.600542  0.181736  1.000000  1.000000   \n",
       "test_recall      0.058182  0.058182  0.527273  0.900000  0.330909  0.410909   \n",
       "train_recall     0.171463  0.171463  0.779268  0.936341  1.000000  1.000000   \n",
       "test_f1          0.093800  0.093800  0.436559  0.274952  0.457391  0.514472   \n",
       "train_f1         0.272490  0.272490  0.669204  0.304340  1.000000  1.000000   \n",
       "\n",
       "                 GaussianNB    LogReg  LogReg_opt  \n",
       "fit_time           0.015881  0.140047    0.094004  \n",
       "score_time         0.009800  0.009200    0.010142  \n",
       "test_precision     0.637143  0.334590    0.334590  \n",
       "train_precision    0.683713  0.368846    0.368846  \n",
       "test_recall        0.389091  0.681818    0.681818  \n",
       "train_recall       0.445854  0.745000    0.745000  \n",
       "test_f1            0.448011  0.443055    0.443055  \n",
       "train_f1           0.537164  0.492254    0.492254  "
      ]
     },
     "execution_count": 50,
     "metadata": {},
     "output_type": "execute_result"
    }
   ],
   "source": [
    "overall_mean = overall.T.xs( 'mean', level = 1).T # Probably not the most elegant way to do that.\n",
    "overall_mean"
   ]
  },
  {
   "cell_type": "code",
   "execution_count": 51,
   "id": "fd764d35-e794-4e59-ab66-1d2750dbd954",
   "metadata": {},
   "outputs": [
    {
     "data": {
      "text/html": [
       "<div>\n",
       "<style scoped>\n",
       "    .dataframe tbody tr th:only-of-type {\n",
       "        vertical-align: middle;\n",
       "    }\n",
       "\n",
       "    .dataframe tbody tr th {\n",
       "        vertical-align: top;\n",
       "    }\n",
       "\n",
       "    .dataframe thead th {\n",
       "        text-align: right;\n",
       "    }\n",
       "</style>\n",
       "<table border=\"1\" class=\"dataframe\">\n",
       "  <thead>\n",
       "    <tr style=\"text-align: right;\">\n",
       "      <th></th>\n",
       "      <th>KNN_opt</th>\n",
       "      <th>SVC_opt</th>\n",
       "      <th>RFC_opt</th>\n",
       "      <th>GaussianNB</th>\n",
       "      <th>LogReg_opt</th>\n",
       "    </tr>\n",
       "  </thead>\n",
       "  <tbody>\n",
       "    <tr>\n",
       "      <th>precision</th>\n",
       "      <td>0.615385</td>\n",
       "      <td>0.141869</td>\n",
       "      <td>0.769231</td>\n",
       "      <td>0.718750</td>\n",
       "      <td>0.247863</td>\n",
       "    </tr>\n",
       "    <tr>\n",
       "      <th>recall</th>\n",
       "      <td>0.156863</td>\n",
       "      <td>0.803922</td>\n",
       "      <td>0.392157</td>\n",
       "      <td>0.450980</td>\n",
       "      <td>0.568627</td>\n",
       "    </tr>\n",
       "    <tr>\n",
       "      <th>f1</th>\n",
       "      <td>0.250000</td>\n",
       "      <td>0.241176</td>\n",
       "      <td>0.519481</td>\n",
       "      <td>0.554217</td>\n",
       "      <td>0.345238</td>\n",
       "    </tr>\n",
       "    <tr>\n",
       "      <th>auc</th>\n",
       "      <td>0.571818</td>\n",
       "      <td>0.573918</td>\n",
       "      <td>0.688142</td>\n",
       "      <td>0.713585</td>\n",
       "      <td>0.667912</td>\n",
       "    </tr>\n",
       "  </tbody>\n",
       "</table>\n",
       "</div>"
      ],
      "text/plain": [
       "            KNN_opt   SVC_opt   RFC_opt  GaussianNB  LogReg_opt\n",
       "precision  0.615385  0.141869  0.769231    0.718750    0.247863\n",
       "recall     0.156863  0.803922  0.392157    0.450980    0.568627\n",
       "f1         0.250000  0.241176  0.519481    0.554217    0.345238\n",
       "auc        0.571818  0.573918  0.688142    0.713585    0.667912"
      ]
     },
     "execution_count": 51,
     "metadata": {},
     "output_type": "execute_result"
    }
   ],
   "source": [
    "pd.DataFrame( test_results)"
   ]
  }
 ],
 "metadata": {
  "kernelspec": {
   "display_name": "Python 3 (ipykernel)",
   "language": "python",
   "name": "python3"
  },
  "language_info": {
   "codemirror_mode": {
    "name": "ipython",
    "version": 3
   },
   "file_extension": ".py",
   "mimetype": "text/x-python",
   "name": "python",
   "nbconvert_exporter": "python",
   "pygments_lexer": "ipython3",
   "version": "3.9.13"
  }
 },
 "nbformat": 4,
 "nbformat_minor": 5
}
