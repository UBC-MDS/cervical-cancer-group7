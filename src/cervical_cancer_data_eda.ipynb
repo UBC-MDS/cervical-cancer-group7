{
 "cells": [
  {
   "cell_type": "markdown",
   "id": "77f5510c-a36e-4553-ac81-7329920e5a94",
   "metadata": {},
   "source": [
    "# Exploratory data analysis of the Cervical cancer (Risk factors) Data set"
   ]
  },
  {
   "cell_type": "code",
   "execution_count": 1,
   "id": "d842425e-2d28-4fa9-902d-38c8e909f0aa",
   "metadata": {},
   "outputs": [
    {
     "data": {
      "text/plain": [
       "RendererRegistry.enable('mimetype')"
      ]
     },
     "execution_count": 1,
     "metadata": {},
     "output_type": "execute_result"
    }
   ],
   "source": [
    "import numpy as np\n",
    "import pandas as pd\n",
    "import altair as alt\n",
    "from sklearn.model_selection import train_test_split, StratifiedKFold\n",
    "\n",
    "alt.data_transformers.enable('data_server')\n",
    "alt.renderers.enable('mimetype')"
   ]
  },
  {
   "cell_type": "markdown",
   "id": "b7f79689-66db-41e4-af91-bd96d582e65f",
   "metadata": {},
   "source": [
    "# Summary of the data set\n",
    "---\n",
    "The data set was collected at 'Hospital Universitario de Caracas' in Caracas, Venezuela. The data set comprises demographic information, habits, and historic medical records of 858 patients. Several patients decided not to answer some of the questions because of privacy concerns (missing values). This data set was sourced from the [UCI Machine Learning Repository](https://archive.ics.uci.edu/ml/index.php) and can be found [here](https://archive.ics.uci.edu/ml/datasets/Cervical+cancer+%28Risk+Factors%29#).\n",
    "\n",
    "The data set was used in Kelwin Fernandes, Jaime S. Cardoso, and Jessica Fernandes. 'Transfer Learning with Partial Observability Applied to Cervical Cancer Screening.' Iberian Conference on Pattern Recognition and Image Analysis. Springer International Publishing, 2017, available [here](https://www.semanticscholar.org/paper/Transfer-Learning-with-Partial-Observability-to-Fernandes-Cardoso/1c02438ba4dfa775399ba414508e9cd335b69012).\n",
    "\n",
    "The data set has 4 different target variables each having a value of 0(tested negative for that specific medical test) or 1(tested positive for that specific medical test). For the purpose of this project, these binary class variables will be combined into a single binary target variable which will be 1(True) if any medical test is positive and 0(False) if no test was positive.\n"
   ]
  },
  {
   "cell_type": "code",
   "execution_count": 2,
   "id": "d96ab586-550b-48f8-9a6f-b9efaa289530",
   "metadata": {},
   "outputs": [
    {
     "data": {
      "text/html": [
       "<style type=\"text/css\">\n",
       "</style>\n",
       "<table id=\"T_a91b2\">\n",
       "  <caption>Table 1. Counts of observation for each class</caption>\n",
       "  <thead>\n",
       "    <tr>\n",
       "      <th class=\"blank level0\" >&nbsp;</th>\n",
       "      <th id=\"T_a91b2_level0_col0\" class=\"col_heading level0 col0\" >Target</th>\n",
       "    </tr>\n",
       "  </thead>\n",
       "  <tbody>\n",
       "    <tr>\n",
       "      <th id=\"T_a91b2_level0_row0\" class=\"row_heading level0 row0\" >No risk of cervical cancer</th>\n",
       "      <td id=\"T_a91b2_row0_col0\" class=\"data row0 col0\" >756</td>\n",
       "    </tr>\n",
       "    <tr>\n",
       "      <th id=\"T_a91b2_level0_row1\" class=\"row_heading level0 row1\" >Risk of cervical cancer</th>\n",
       "      <td id=\"T_a91b2_row1_col0\" class=\"data row1 col0\" >102</td>\n",
       "    </tr>\n",
       "  </tbody>\n",
       "</table>\n"
      ],
      "text/plain": [
       "<pandas.io.formats.style.Styler at 0x186f5b14250>"
      ]
     },
     "execution_count": 2,
     "metadata": {},
     "output_type": "execute_result"
    }
   ],
   "source": [
    "# load dataset into pandas dataframe\n",
    "cervical_raw = pd.read_csv('../data/raw/risk_factors_cervical_cancer.csv', header=1)\n",
    "\n",
    "# create target variable 'risk'\n",
    "risk = []\n",
    "for row in range(len(cervical_raw)):\n",
    "    risk.append(\n",
    "        cervical_raw.loc[cervical_raw.index[row], 'Hinselmann'] or\n",
    "        cervical_raw.loc[cervical_raw.index[row], 'Schiller'] or\n",
    "        cervical_raw.loc[cervical_raw.index[row], 'Citology'] or\n",
    "        cervical_raw.loc[cervical_raw.index[row], 'Biopsy']         \n",
    "    )\n",
    "cervical_modified = cervical_raw.copy()\n",
    "cervical_modified['risk'] = risk\n",
    "\n",
    "# drop the previous target variables\n",
    "cervical_modified = cervical_modified.drop(columns=['Hinselmann', 'Schiller', 'Citology', 'Biopsy'])\n",
    "\n",
    "# create dataframe with counts of each class\n",
    "class_counts = pd.DataFrame(cervical_modified['risk'].value_counts()).rename(index={0:'No risk of cervical cancer',\n",
    "                                                                                    1:'Risk of cervical cancer'},\n",
    "                                                                             columns={'risk':'Target'})\n",
    "# set caption for Table 1                                                                             \n",
    "class_counts.style.set_caption('Table 1. Counts of observation for each class')"
   ]
  },
  {
   "cell_type": "markdown",
   "id": "7418dfbb-c2a6-4092-b231-8ead05920c6c",
   "metadata": {},
   "source": [
    "# Split data set into training and test splits\n",
    "---"
   ]
  },
  {
   "cell_type": "markdown",
   "id": "3eba3811-36b9-4f5c-8139-cd74baa0d367",
   "metadata": {},
   "source": [
    "before splitting the dataset, we replace all occurences of '?' in the data with `np.nan` so that it is easier to work with the missing values. We also change the data types of columns to match the data stored in them."
   ]
  },
  {
   "cell_type": "code",
   "execution_count": 3,
   "id": "6a85acf5-83df-4412-8891-3ea540e427bc",
   "metadata": {},
   "outputs": [],
   "source": [
    "# replace the ? values with NaN\n",
    "cervical_clean = cervical_modified.replace('?', np.nan)\n",
    "\n",
    "# convert columns to relevant data types\n",
    "for col_name in cervical_clean.columns:\n",
    "    if cervical_clean[col_name].dtype == 'object':\n",
    "        cervical_clean[col_name] = cervical_clean[col_name].astype(float)"
   ]
  },
  {
   "cell_type": "markdown",
   "id": "058ddf01-70f2-4a46-9dcb-899edc176618",
   "metadata": {},
   "source": [
    "We now split our data so that 80% of the examples are in the training set while 20% are in the test set."
   ]
  },
  {
   "cell_type": "code",
   "execution_count": 4,
   "id": "67fd2b40-e8b3-4e7b-ad17-40d7bb1de451",
   "metadata": {},
   "outputs": [],
   "source": [
    "# split data into training and test sets\n",
    "train_df, test_df = train_test_split(cervical_clean, test_size=0.2, random_state=123)\n"
   ]
  },
  {
   "cell_type": "code",
   "execution_count": 5,
   "id": "45feb132-3b38-4b9e-bce5-022ef2aa976c",
   "metadata": {},
   "outputs": [
    {
     "data": {
      "text/html": [
       "<style type=\"text/css\">\n",
       "</style>\n",
       "<table id=\"T_a327a\">\n",
       "  <caption>Table 2. Counts of observations for each class and partition</caption>\n",
       "  <thead>\n",
       "    <tr>\n",
       "      <th class=\"blank level0\" >&nbsp;</th>\n",
       "      <th id=\"T_a327a_level0_col0\" class=\"col_heading level0 col0\" >Train</th>\n",
       "      <th id=\"T_a327a_level0_col1\" class=\"col_heading level0 col1\" >Test</th>\n",
       "    </tr>\n",
       "  </thead>\n",
       "  <tbody>\n",
       "    <tr>\n",
       "      <th id=\"T_a327a_level0_row0\" class=\"row_heading level0 row0\" >No risk of cervical cancer</th>\n",
       "      <td id=\"T_a327a_row0_col0\" class=\"data row0 col0\" >608</td>\n",
       "      <td id=\"T_a327a_row0_col1\" class=\"data row0 col1\" >148</td>\n",
       "    </tr>\n",
       "    <tr>\n",
       "      <th id=\"T_a327a_level0_row1\" class=\"row_heading level0 row1\" >Risk of cervical cancer</th>\n",
       "      <td id=\"T_a327a_row1_col0\" class=\"data row1 col0\" >78</td>\n",
       "      <td id=\"T_a327a_row1_col1\" class=\"data row1 col1\" >24</td>\n",
       "    </tr>\n",
       "  </tbody>\n",
       "</table>\n"
      ],
      "text/plain": [
       "<pandas.io.formats.style.Styler at 0x186f9c9b070>"
      ]
     },
     "execution_count": 5,
     "metadata": {},
     "output_type": "execute_result"
    }
   ],
   "source": [
    "# create dataframe with counts of each class and for both train and test set\n",
    "train_class_counts = pd.DataFrame(train_df['risk'].value_counts())\n",
    "test_class_counts = pd.DataFrame(test_df['risk'].value_counts())\n",
    "\n",
    "train_test_class_counts = pd.concat([train_class_counts, test_class_counts], axis=1).rename(\n",
    "    index={0:'No risk of cervical cancer',\n",
    "           1:'Risk of cervical cancer'}\n",
    ")\n",
    "train_test_class_counts.columns = ['Train', 'Test']\n",
    "\n",
    "# set caption for Table 2\n",
    "train_test_class_counts.style.set_caption('Table 2. Counts of observations for each class and partition')"
   ]
  },
  {
   "cell_type": "markdown",
   "id": "cc2daca9-ddaf-41f7-a8d7-34d9f1856a91",
   "metadata": {},
   "source": [
    "There is quite a bit of class imbalance in this dataset. We won't try and use under-sampling or over-sampling to remedy this since our data set is quite small. We will deal with this after the inital model building and tuning phase in the case that the model is performing poorly. We can evaluate whether class imbalance is a major issue based on the confusion matrix (if the False Negative rate is high)."
   ]
  },
  {
   "cell_type": "markdown",
   "id": "4b3dc9b8-915c-4fc1-a99c-6dc0a4ab0780",
   "metadata": {},
   "source": [
    "# Exploratory analysis on the training set\n",
    "---"
   ]
  },
  {
   "cell_type": "markdown",
   "id": "a22288aa-552c-4111-aaa6-d3c6701460b8",
   "metadata": {},
   "source": [
    "We plotted the distributions of each explanatory variable in the training data set to see whether or not it will be useful for predicting the target variable.\n",
    "\n",
    "Most of the numeric features are extremely skewed. This can have a negative impact on the model as machine learning models generally perform better on normalized data. As such, we might experiment with some transformations (eg: log transformation) to try and normalize the data.\n",
    "A bunch of our feature variables have a either all or atleast a significant amount of missing values. These features will likely be omitted from the final model. Taking a look at correlations between certain columns, we can see that some features are almost colinear. This means they can be safely removed as they do not add to model performance. This should reduce complexity in the model as well.\n"
   ]
  },
  {
   "cell_type": "code",
   "execution_count": 6,
   "id": "b5834d02-1158-4928-b83b-46dd61a79c66",
   "metadata": {},
   "outputs": [],
   "source": [
    "def hist( feat = None, feat_list = None, repeat = False):\n",
    "    if repeat == False:\n",
    "        chart = alt.Chart( train_df).mark_bar().encode(\n",
    "            alt.X( 'Age', type='quantitative'),\n",
    "            alt.Y( 'count()', stack=False, title=''),\n",
    "            alt.Color( 'risk', type='ordinal', scale=alt.Scale(scheme='category10'))\n",
    "        ).properties(\n",
    "            height=100,\n",
    "            width=150\n",
    "        ).facet( 'risk', columns = 1)\n",
    "        return chart\n",
    "    if repeat == True:\n",
    "        chart_list_0 = []\n",
    "        chart_list_1 = []\n",
    "        chart_list_concat = []\n",
    "        for feat in feat_list:\n",
    "            chart_tmp_0 = alt.Chart( train_df.query('risk==0')).mark_bar().encode(\n",
    "                alt.X( feat, type='quantitative', scale = alt.Scale( domain = ( 0, train_df[ feat].max()+1))),\n",
    "                alt.Y( 'count()', stack=False, title=''),\n",
    "                alt.Color( 'risk', type='ordinal', scale=alt.Scale(scheme='category10'))\n",
    "            ).properties(\n",
    "                height=100,\n",
    "                width=150\n",
    "            )\n",
    "            chart_tmp_1 = alt.Chart( train_df.query('risk==1')).mark_bar().encode(\n",
    "                alt.X( feat, type='quantitative', scale = alt.Scale( domain = ( 0, train_df[ feat].max()+1))),\n",
    "                alt.Y( 'count()', stack=False, title=''),\n",
    "                alt.Color( 'risk', type='ordinal', scale=alt.Scale(scheme='category10'))\n",
    "            ).properties(\n",
    "                height=100,\n",
    "                width=150\n",
    "            )\n",
    "            chart_list_0.append( chart_tmp_0)\n",
    "            chart_list_1.append( chart_tmp_1)\n",
    "            chart_concat = chart_tmp_0 | chart_tmp_1\n",
    "            chart_list_concat.append( chart_concat)\n",
    "        return alt.vconcat( *chart_list_concat)"
   ]
  },
  {
   "cell_type": "code",
   "execution_count": 7,
   "id": "211b454b-24d5-476a-b5ad-2bbd6f4f0c8c",
   "metadata": {},
   "outputs": [
    {
     "name": "stdout",
     "output_type": "stream",
     "text": [
      "Figure 2: EDA for Numeric Features\n"
     ]
    },
    {
     "data": {
      "application/vnd.vegalite.v4+json": {
       "$schema": "https://vega.github.io/schema/vega-lite/v4.17.0.json",
       "config": {
        "view": {
         "continuousHeight": 300,
         "continuousWidth": 400
        }
       },
       "vconcat": [
        {
         "hconcat": [
          {
           "data": {
            "url": "http://localhost:56187/00d4dcaf40641bb1c8ca1ac3a853cc63.json"
           },
           "encoding": {
            "color": {
             "field": "risk",
             "scale": {
              "scheme": "category10"
             },
             "type": "ordinal"
            },
            "x": {
             "field": "Age",
             "scale": {
              "domain": [
               0,
               85
              ]
             },
             "type": "quantitative"
            },
            "y": {
             "aggregate": "count",
             "stack": false,
             "title": "",
             "type": "quantitative"
            }
           },
           "height": 100,
           "mark": "bar",
           "width": 150
          },
          {
           "data": {
            "url": "http://localhost:56187/987d43c4838a2fa26bfe3f42e0362833.json"
           },
           "encoding": {
            "color": {
             "field": "risk",
             "scale": {
              "scheme": "category10"
             },
             "type": "ordinal"
            },
            "x": {
             "field": "Age",
             "scale": {
              "domain": [
               0,
               85
              ]
             },
             "type": "quantitative"
            },
            "y": {
             "aggregate": "count",
             "stack": false,
             "title": "",
             "type": "quantitative"
            }
           },
           "height": 100,
           "mark": "bar",
           "width": 150
          }
         ]
        },
        {
         "hconcat": [
          {
           "data": {
            "url": "http://localhost:56187/00d4dcaf40641bb1c8ca1ac3a853cc63.json"
           },
           "encoding": {
            "color": {
             "field": "risk",
             "scale": {
              "scheme": "category10"
             },
             "type": "ordinal"
            },
            "x": {
             "field": "Smokes (years)",
             "scale": {
              "domain": [
               0,
               38
              ]
             },
             "type": "quantitative"
            },
            "y": {
             "aggregate": "count",
             "stack": false,
             "title": "",
             "type": "quantitative"
            }
           },
           "height": 100,
           "mark": "bar",
           "width": 150
          },
          {
           "data": {
            "url": "http://localhost:56187/987d43c4838a2fa26bfe3f42e0362833.json"
           },
           "encoding": {
            "color": {
             "field": "risk",
             "scale": {
              "scheme": "category10"
             },
             "type": "ordinal"
            },
            "x": {
             "field": "Smokes (years)",
             "scale": {
              "domain": [
               0,
               38
              ]
             },
             "type": "quantitative"
            },
            "y": {
             "aggregate": "count",
             "stack": false,
             "title": "",
             "type": "quantitative"
            }
           },
           "height": 100,
           "mark": "bar",
           "width": 150
          }
         ]
        },
        {
         "hconcat": [
          {
           "data": {
            "url": "http://localhost:56187/00d4dcaf40641bb1c8ca1ac3a853cc63.json"
           },
           "encoding": {
            "color": {
             "field": "risk",
             "scale": {
              "scheme": "category10"
             },
             "type": "ordinal"
            },
            "x": {
             "field": "Smokes (packs/year)",
             "scale": {
              "domain": [
               0,
               38
              ]
             },
             "type": "quantitative"
            },
            "y": {
             "aggregate": "count",
             "stack": false,
             "title": "",
             "type": "quantitative"
            }
           },
           "height": 100,
           "mark": "bar",
           "width": 150
          },
          {
           "data": {
            "url": "http://localhost:56187/987d43c4838a2fa26bfe3f42e0362833.json"
           },
           "encoding": {
            "color": {
             "field": "risk",
             "scale": {
              "scheme": "category10"
             },
             "type": "ordinal"
            },
            "x": {
             "field": "Smokes (packs/year)",
             "scale": {
              "domain": [
               0,
               38
              ]
             },
             "type": "quantitative"
            },
            "y": {
             "aggregate": "count",
             "stack": false,
             "title": "",
             "type": "quantitative"
            }
           },
           "height": 100,
           "mark": "bar",
           "width": 150
          }
         ]
        },
        {
         "hconcat": [
          {
           "data": {
            "url": "http://localhost:56187/00d4dcaf40641bb1c8ca1ac3a853cc63.json"
           },
           "encoding": {
            "color": {
             "field": "risk",
             "scale": {
              "scheme": "category10"
             },
             "type": "ordinal"
            },
            "x": {
             "field": "Number of sexual partners",
             "scale": {
              "domain": [
               0,
               29
              ]
             },
             "type": "quantitative"
            },
            "y": {
             "aggregate": "count",
             "stack": false,
             "title": "",
             "type": "quantitative"
            }
           },
           "height": 100,
           "mark": "bar",
           "width": 150
          },
          {
           "data": {
            "url": "http://localhost:56187/987d43c4838a2fa26bfe3f42e0362833.json"
           },
           "encoding": {
            "color": {
             "field": "risk",
             "scale": {
              "scheme": "category10"
             },
             "type": "ordinal"
            },
            "x": {
             "field": "Number of sexual partners",
             "scale": {
              "domain": [
               0,
               29
              ]
             },
             "type": "quantitative"
            },
            "y": {
             "aggregate": "count",
             "stack": false,
             "title": "",
             "type": "quantitative"
            }
           },
           "height": 100,
           "mark": "bar",
           "width": 150
          }
         ]
        },
        {
         "hconcat": [
          {
           "data": {
            "url": "http://localhost:56187/00d4dcaf40641bb1c8ca1ac3a853cc63.json"
           },
           "encoding": {
            "color": {
             "field": "risk",
             "scale": {
              "scheme": "category10"
             },
             "type": "ordinal"
            },
            "x": {
             "field": "First sexual intercourse",
             "scale": {
              "domain": [
               0,
               33
              ]
             },
             "type": "quantitative"
            },
            "y": {
             "aggregate": "count",
             "stack": false,
             "title": "",
             "type": "quantitative"
            }
           },
           "height": 100,
           "mark": "bar",
           "width": 150
          },
          {
           "data": {
            "url": "http://localhost:56187/987d43c4838a2fa26bfe3f42e0362833.json"
           },
           "encoding": {
            "color": {
             "field": "risk",
             "scale": {
              "scheme": "category10"
             },
             "type": "ordinal"
            },
            "x": {
             "field": "First sexual intercourse",
             "scale": {
              "domain": [
               0,
               33
              ]
             },
             "type": "quantitative"
            },
            "y": {
             "aggregate": "count",
             "stack": false,
             "title": "",
             "type": "quantitative"
            }
           },
           "height": 100,
           "mark": "bar",
           "width": 150
          }
         ]
        },
        {
         "hconcat": [
          {
           "data": {
            "url": "http://localhost:56187/00d4dcaf40641bb1c8ca1ac3a853cc63.json"
           },
           "encoding": {
            "color": {
             "field": "risk",
             "scale": {
              "scheme": "category10"
             },
             "type": "ordinal"
            },
            "x": {
             "field": "Num of pregnancies",
             "scale": {
              "domain": [
               0,
               12
              ]
             },
             "type": "quantitative"
            },
            "y": {
             "aggregate": "count",
             "stack": false,
             "title": "",
             "type": "quantitative"
            }
           },
           "height": 100,
           "mark": "bar",
           "width": 150
          },
          {
           "data": {
            "url": "http://localhost:56187/987d43c4838a2fa26bfe3f42e0362833.json"
           },
           "encoding": {
            "color": {
             "field": "risk",
             "scale": {
              "scheme": "category10"
             },
             "type": "ordinal"
            },
            "x": {
             "field": "Num of pregnancies",
             "scale": {
              "domain": [
               0,
               12
              ]
             },
             "type": "quantitative"
            },
            "y": {
             "aggregate": "count",
             "stack": false,
             "title": "",
             "type": "quantitative"
            }
           },
           "height": 100,
           "mark": "bar",
           "width": 150
          }
         ]
        },
        {
         "hconcat": [
          {
           "data": {
            "url": "http://localhost:56187/00d4dcaf40641bb1c8ca1ac3a853cc63.json"
           },
           "encoding": {
            "color": {
             "field": "risk",
             "scale": {
              "scheme": "category10"
             },
             "type": "ordinal"
            },
            "x": {
             "field": "Hormonal Contraceptives (years)",
             "scale": {
              "domain": [
               0,
               31
              ]
             },
             "type": "quantitative"
            },
            "y": {
             "aggregate": "count",
             "stack": false,
             "title": "",
             "type": "quantitative"
            }
           },
           "height": 100,
           "mark": "bar",
           "width": 150
          },
          {
           "data": {
            "url": "http://localhost:56187/987d43c4838a2fa26bfe3f42e0362833.json"
           },
           "encoding": {
            "color": {
             "field": "risk",
             "scale": {
              "scheme": "category10"
             },
             "type": "ordinal"
            },
            "x": {
             "field": "Hormonal Contraceptives (years)",
             "scale": {
              "domain": [
               0,
               31
              ]
             },
             "type": "quantitative"
            },
            "y": {
             "aggregate": "count",
             "stack": false,
             "title": "",
             "type": "quantitative"
            }
           },
           "height": 100,
           "mark": "bar",
           "width": 150
          }
         ]
        },
        {
         "hconcat": [
          {
           "data": {
            "url": "http://localhost:56187/00d4dcaf40641bb1c8ca1ac3a853cc63.json"
           },
           "encoding": {
            "color": {
             "field": "risk",
             "scale": {
              "scheme": "category10"
             },
             "type": "ordinal"
            },
            "x": {
             "field": "IUD (years)",
             "scale": {
              "domain": [
               0,
               20
              ]
             },
             "type": "quantitative"
            },
            "y": {
             "aggregate": "count",
             "stack": false,
             "title": "",
             "type": "quantitative"
            }
           },
           "height": 100,
           "mark": "bar",
           "width": 150
          },
          {
           "data": {
            "url": "http://localhost:56187/987d43c4838a2fa26bfe3f42e0362833.json"
           },
           "encoding": {
            "color": {
             "field": "risk",
             "scale": {
              "scheme": "category10"
             },
             "type": "ordinal"
            },
            "x": {
             "field": "IUD (years)",
             "scale": {
              "domain": [
               0,
               20
              ]
             },
             "type": "quantitative"
            },
            "y": {
             "aggregate": "count",
             "stack": false,
             "title": "",
             "type": "quantitative"
            }
           },
           "height": 100,
           "mark": "bar",
           "width": 150
          }
         ]
        },
        {
         "hconcat": [
          {
           "data": {
            "url": "http://localhost:56187/00d4dcaf40641bb1c8ca1ac3a853cc63.json"
           },
           "encoding": {
            "color": {
             "field": "risk",
             "scale": {
              "scheme": "category10"
             },
             "type": "ordinal"
            },
            "x": {
             "field": "STDs (number)",
             "scale": {
              "domain": [
               0,
               5
              ]
             },
             "type": "quantitative"
            },
            "y": {
             "aggregate": "count",
             "stack": false,
             "title": "",
             "type": "quantitative"
            }
           },
           "height": 100,
           "mark": "bar",
           "width": 150
          },
          {
           "data": {
            "url": "http://localhost:56187/987d43c4838a2fa26bfe3f42e0362833.json"
           },
           "encoding": {
            "color": {
             "field": "risk",
             "scale": {
              "scheme": "category10"
             },
             "type": "ordinal"
            },
            "x": {
             "field": "STDs (number)",
             "scale": {
              "domain": [
               0,
               5
              ]
             },
             "type": "quantitative"
            },
            "y": {
             "aggregate": "count",
             "stack": false,
             "title": "",
             "type": "quantitative"
            }
           },
           "height": 100,
           "mark": "bar",
           "width": 150
          }
         ]
        },
        {
         "hconcat": [
          {
           "data": {
            "url": "http://localhost:56187/00d4dcaf40641bb1c8ca1ac3a853cc63.json"
           },
           "encoding": {
            "color": {
             "field": "risk",
             "scale": {
              "scheme": "category10"
             },
             "type": "ordinal"
            },
            "x": {
             "field": "STDs: Number of diagnosis",
             "scale": {
              "domain": [
               0,
               4
              ]
             },
             "type": "quantitative"
            },
            "y": {
             "aggregate": "count",
             "stack": false,
             "title": "",
             "type": "quantitative"
            }
           },
           "height": 100,
           "mark": "bar",
           "width": 150
          },
          {
           "data": {
            "url": "http://localhost:56187/987d43c4838a2fa26bfe3f42e0362833.json"
           },
           "encoding": {
            "color": {
             "field": "risk",
             "scale": {
              "scheme": "category10"
             },
             "type": "ordinal"
            },
            "x": {
             "field": "STDs: Number of diagnosis",
             "scale": {
              "domain": [
               0,
               4
              ]
             },
             "type": "quantitative"
            },
            "y": {
             "aggregate": "count",
             "stack": false,
             "title": "",
             "type": "quantitative"
            }
           },
           "height": 100,
           "mark": "bar",
           "width": 150
          }
         ]
        },
        {
         "hconcat": [
          {
           "data": {
            "url": "http://localhost:56187/00d4dcaf40641bb1c8ca1ac3a853cc63.json"
           },
           "encoding": {
            "color": {
             "field": "risk",
             "scale": {
              "scheme": "category10"
             },
             "type": "ordinal"
            },
            "x": {
             "field": "STDs: Time since first diagnosis",
             "scale": {
              "domain": [
               0,
               23
              ]
             },
             "type": "quantitative"
            },
            "y": {
             "aggregate": "count",
             "stack": false,
             "title": "",
             "type": "quantitative"
            }
           },
           "height": 100,
           "mark": "bar",
           "width": 150
          },
          {
           "data": {
            "url": "http://localhost:56187/987d43c4838a2fa26bfe3f42e0362833.json"
           },
           "encoding": {
            "color": {
             "field": "risk",
             "scale": {
              "scheme": "category10"
             },
             "type": "ordinal"
            },
            "x": {
             "field": "STDs: Time since first diagnosis",
             "scale": {
              "domain": [
               0,
               23
              ]
             },
             "type": "quantitative"
            },
            "y": {
             "aggregate": "count",
             "stack": false,
             "title": "",
             "type": "quantitative"
            }
           },
           "height": 100,
           "mark": "bar",
           "width": 150
          }
         ]
        },
        {
         "hconcat": [
          {
           "data": {
            "url": "http://localhost:56187/00d4dcaf40641bb1c8ca1ac3a853cc63.json"
           },
           "encoding": {
            "color": {
             "field": "risk",
             "scale": {
              "scheme": "category10"
             },
             "type": "ordinal"
            },
            "x": {
             "field": "STDs: Time since last diagnosis",
             "scale": {
              "domain": [
               0,
               23
              ]
             },
             "type": "quantitative"
            },
            "y": {
             "aggregate": "count",
             "stack": false,
             "title": "",
             "type": "quantitative"
            }
           },
           "height": 100,
           "mark": "bar",
           "width": 150
          },
          {
           "data": {
            "url": "http://localhost:56187/987d43c4838a2fa26bfe3f42e0362833.json"
           },
           "encoding": {
            "color": {
             "field": "risk",
             "scale": {
              "scheme": "category10"
             },
             "type": "ordinal"
            },
            "x": {
             "field": "STDs: Time since last diagnosis",
             "scale": {
              "domain": [
               0,
               23
              ]
             },
             "type": "quantitative"
            },
            "y": {
             "aggregate": "count",
             "stack": false,
             "title": "",
             "type": "quantitative"
            }
           },
           "height": 100,
           "mark": "bar",
           "width": 150
          }
         ]
        }
       ]
      },
      "image/png": "[encoded data removed]",
      "text/plain": [
       "<VegaLite 4 object>\n",
       "\n",
       "If you see this message, it means the renderer has not been properly enabled\n",
       "for the frontend that you are using. For more information, see\n",
       "https://altair-viz.github.io/user_guide/troubleshooting.html\n"
      ]
     },
     "execution_count": 7,
     "metadata": {},
     "output_type": "execute_result"
    }
   ],
   "source": [
    "# create list of binary features\n",
    "binary_features = ['Smokes', 'Hormonal Contraceptives', 'IUD', 'STDs', 'STDs:condylomatosis',\n",
    "                   'STDs:cervical condylomatosis', 'STDs:vaginal condylomatosis',\n",
    "                   'STDs:vulvo-perineal condylomatosis', 'STDs:syphilis', 'STDs:pelvic inflammatory disease',\n",
    "                   'STDs:genital herpes', 'STDs:molluscum contagiosum', 'STDs:AIDS', 'STDs:HIV',\n",
    "                   'STDs:Hepatitis B', 'STDs:HPV', 'Dx:Cancer', 'Dx:CIN', 'Dx:HPV', 'Dx']\n",
    "\n",
    "# create list of numeric features\n",
    "numeric_features = ['Age', 'Smokes (years)', 'Smokes (packs/year)', 'Number of sexual partners', 'First sexual intercourse',\n",
    "                    'Num of pregnancies', 'Hormonal Contraceptives (years)', 'IUD (years)',\n",
    "                    'STDs (number)', 'STDs: Number of diagnosis', 'STDs: Time since first diagnosis',\n",
    "                    'STDs: Time since last diagnosis']\n",
    "\n",
    "# create charts for binary features\n",
    "binary_charts = alt.Chart(train_df).mark_bar().encode(\n",
    "    alt.X(alt.repeat(), type='ordinal'),\n",
    "    alt.Y('count()'),\n",
    "    alt.Color('risk', type='ordinal', scale=alt.Scale(scheme='category10'))\n",
    ").properties(\n",
    "    height=150,\n",
    "    width=75\n",
    ").repeat(\n",
    "    binary_features,\n",
    "    columns=4\n",
    ")\n",
    "print(\"Figure 2: EDA for Numeric Features\")\n",
    "hist(feat_list=numeric_features, repeat=True)"
   ]
  },
  {
   "cell_type": "code",
   "execution_count": 8,
   "id": "6b967769-db36-4d61-bb35-cc6790efa365",
   "metadata": {},
   "outputs": [
    {
     "name": "stdout",
     "output_type": "stream",
     "text": [
      "Figure 2: EDA for Binary/Categorical Features\n"
     ]
    },
    {
     "data": {
      "application/vnd.vegalite.v4+json": {
       "$schema": "https://vega.github.io/schema/vega-lite/v4.17.0.json",
       "columns": 4,
       "config": {
        "view": {
         "continuousHeight": 300,
         "continuousWidth": 400
        }
       },
       "repeat": [
        "Smokes",
        "Hormonal Contraceptives",
        "IUD",
        "STDs",
        "STDs:condylomatosis",
        "STDs:cervical condylomatosis",
        "STDs:vaginal condylomatosis",
        "STDs:vulvo-perineal condylomatosis",
        "STDs:syphilis",
        "STDs:pelvic inflammatory disease",
        "STDs:genital herpes",
        "STDs:molluscum contagiosum",
        "STDs:AIDS",
        "STDs:HIV",
        "STDs:Hepatitis B",
        "STDs:HPV",
        "Dx:Cancer",
        "Dx:CIN",
        "Dx:HPV",
        "Dx"
       ],
       "spec": {
        "data": {
         "url": "http://localhost:56187/e2d405af5fa9bbe0ce09e53197ccce46.json"
        },
        "encoding": {
         "color": {
          "field": "risk",
          "scale": {
           "scheme": "category10"
          },
          "type": "ordinal"
         },
         "x": {
          "field": {
           "repeat": "repeat"
          },
          "type": "ordinal"
         },
         "y": {
          "aggregate": "count",
          "type": "quantitative"
         }
        },
        "height": 150,
        "mark": "bar",
        "width": 75
       }
      },
      "image/png": "[encoded data removed]",
      "text/plain": [
       "<VegaLite 4 object>\n",
       "\n",
       "If you see this message, it means the renderer has not been properly enabled\n",
       "for the frontend that you are using. For more information, see\n",
       "https://altair-viz.github.io/user_guide/troubleshooting.html\n"
      ]
     },
     "execution_count": 8,
     "metadata": {},
     "output_type": "execute_result"
    }
   ],
   "source": [
    "print(\"Figure 2: EDA for Binary/Categorical Features\")\n",
    "binary_charts"
   ]
  },
  {
   "cell_type": "code",
   "execution_count": 9,
   "id": "6dd22117-e853-4e87-8461-aac604e870a3",
   "metadata": {},
   "outputs": [
    {
     "data": {
      "text/html": [
       "<style type=\"text/css\">\n",
       "#T_ca5da_row0_col0, #T_ca5da_row1_col1, #T_ca5da_row2_col2 {\n",
       "  background-color: #023858;\n",
       "  color: #f1f1f1;\n",
       "}\n",
       "#T_ca5da_row0_col1, #T_ca5da_row0_col2, #T_ca5da_row1_col0, #T_ca5da_row2_col0 {\n",
       "  background-color: #fff7fb;\n",
       "  color: #000000;\n",
       "}\n",
       "#T_ca5da_row1_col2, #T_ca5da_row2_col1 {\n",
       "  background-color: #acc0dd;\n",
       "  color: #000000;\n",
       "}\n",
       "</style>\n",
       "<table id=\"T_ca5da\">\n",
       "  <thead>\n",
       "    <tr>\n",
       "      <th class=\"blank level0\" >&nbsp;</th>\n",
       "      <th id=\"T_ca5da_level0_col0\" class=\"col_heading level0 col0\" >Smokes</th>\n",
       "      <th id=\"T_ca5da_level0_col1\" class=\"col_heading level0 col1\" >Smokes (years)</th>\n",
       "      <th id=\"T_ca5da_level0_col2\" class=\"col_heading level0 col2\" >Smokes (packs/year)</th>\n",
       "    </tr>\n",
       "  </thead>\n",
       "  <tbody>\n",
       "    <tr>\n",
       "      <th id=\"T_ca5da_level0_row0\" class=\"row_heading level0 row0\" >Smokes</th>\n",
       "      <td id=\"T_ca5da_row0_col0\" class=\"data row0 col0\" >1.000000</td>\n",
       "      <td id=\"T_ca5da_row0_col1\" class=\"data row0 col1\" >0.995594</td>\n",
       "      <td id=\"T_ca5da_row0_col2\" class=\"data row0 col2\" >0.995591</td>\n",
       "    </tr>\n",
       "    <tr>\n",
       "      <th id=\"T_ca5da_level0_row1\" class=\"row_heading level0 row1\" >Smokes (years)</th>\n",
       "      <td id=\"T_ca5da_row1_col0\" class=\"data row1 col0\" >0.995594</td>\n",
       "      <td id=\"T_ca5da_row1_col1\" class=\"data row1 col1\" >1.000000</td>\n",
       "      <td id=\"T_ca5da_row1_col2\" class=\"data row1 col2\" >0.997172</td>\n",
       "    </tr>\n",
       "    <tr>\n",
       "      <th id=\"T_ca5da_level0_row2\" class=\"row_heading level0 row2\" >Smokes (packs/year)</th>\n",
       "      <td id=\"T_ca5da_row2_col0\" class=\"data row2 col0\" >0.995591</td>\n",
       "      <td id=\"T_ca5da_row2_col1\" class=\"data row2 col1\" >0.997172</td>\n",
       "      <td id=\"T_ca5da_row2_col2\" class=\"data row2 col2\" >1.000000</td>\n",
       "    </tr>\n",
       "  </tbody>\n",
       "</table>\n"
      ],
      "text/plain": [
       "<pandas.io.formats.style.Styler at 0x186fba14f40>"
      ]
     },
     "execution_count": 9,
     "metadata": {},
     "output_type": "execute_result"
    }
   ],
   "source": [
    "train_df.loc[:,['Smokes', 'Smokes (years)', 'Smokes (packs/year)']].corr('spearman').style.background_gradient()\n"
   ]
  },
  {
   "cell_type": "code",
   "execution_count": 10,
   "id": "4e69d927-c480-4b18-ba9f-abc6575bc9f6",
   "metadata": {},
   "outputs": [
    {
     "data": {
      "text/html": [
       "<style type=\"text/css\">\n",
       "#T_71648_row0_col0, #T_71648_row1_col1, #T_71648_row2_col2, #T_71648_row3_col3, #T_71648_row4_col4, #T_71648_row5_col5, #T_71648_row6_col6, #T_71648_row7_col7, #T_71648_row8_col8, #T_71648_row9_col9 {\n",
       "  background-color: #023858;\n",
       "  color: #f1f1f1;\n",
       "}\n",
       "#T_71648_row0_col1, #T_71648_row1_col0 {\n",
       "  background-color: #b4c4df;\n",
       "  color: #000000;\n",
       "}\n",
       "#T_71648_row0_col2, #T_71648_row2_col0 {\n",
       "  background-color: #023b5d;\n",
       "  color: #f1f1f1;\n",
       "}\n",
       "#T_71648_row0_col3 {\n",
       "  background-color: #f3edf5;\n",
       "  color: #000000;\n",
       "}\n",
       "#T_71648_row0_col4, #T_71648_row0_col5, #T_71648_row0_col6, #T_71648_row0_col8, #T_71648_row0_col9, #T_71648_row1_col3, #T_71648_row1_col7, #T_71648_row2_col4, #T_71648_row2_col5, #T_71648_row2_col6, #T_71648_row2_col8, #T_71648_row2_col9, #T_71648_row3_col1, #T_71648_row7_col1, #T_71648_row9_col0, #T_71648_row9_col2, #T_71648_row9_col3, #T_71648_row9_col7 {\n",
       "  background-color: #fff7fb;\n",
       "  color: #000000;\n",
       "}\n",
       "#T_71648_row0_col7, #T_71648_row2_col7, #T_71648_row7_col0 {\n",
       "  background-color: #ede8f3;\n",
       "  color: #000000;\n",
       "}\n",
       "#T_71648_row1_col2, #T_71648_row2_col1 {\n",
       "  background-color: #d0d1e6;\n",
       "  color: #000000;\n",
       "}\n",
       "#T_71648_row1_col4, #T_71648_row1_col5, #T_71648_row1_col6, #T_71648_row1_col8, #T_71648_row3_col4, #T_71648_row3_col5, #T_71648_row3_col6, #T_71648_row3_col8, #T_71648_row3_col9, #T_71648_row4_col0, #T_71648_row4_col2, #T_71648_row4_col3, #T_71648_row4_col7, #T_71648_row5_col0, #T_71648_row5_col2, #T_71648_row5_col3, #T_71648_row5_col7, #T_71648_row6_col0, #T_71648_row6_col2, #T_71648_row6_col3, #T_71648_row6_col7, #T_71648_row7_col4, #T_71648_row7_col5, #T_71648_row7_col6, #T_71648_row7_col9, #T_71648_row8_col0, #T_71648_row8_col2, #T_71648_row8_col3, #T_71648_row9_col1, #T_71648_row9_col4, #T_71648_row9_col5, #T_71648_row9_col6, #T_71648_row9_col8 {\n",
       "  background-color: #fef6fb;\n",
       "  color: #000000;\n",
       "}\n",
       "#T_71648_row1_col9, #T_71648_row4_col1, #T_71648_row4_col5, #T_71648_row4_col6, #T_71648_row4_col8, #T_71648_row5_col1, #T_71648_row5_col4, #T_71648_row5_col6, #T_71648_row5_col8, #T_71648_row6_col1, #T_71648_row6_col4, #T_71648_row6_col5, #T_71648_row6_col8, #T_71648_row8_col1, #T_71648_row8_col4, #T_71648_row8_col5, #T_71648_row8_col6 {\n",
       "  background-color: #fef6fa;\n",
       "  color: #000000;\n",
       "}\n",
       "#T_71648_row2_col3, #T_71648_row3_col0, #T_71648_row3_col2 {\n",
       "  background-color: #f2ecf5;\n",
       "  color: #000000;\n",
       "}\n",
       "#T_71648_row3_col7, #T_71648_row7_col3 {\n",
       "  background-color: #f4edf6;\n",
       "  color: #000000;\n",
       "}\n",
       "#T_71648_row4_col9, #T_71648_row5_col9, #T_71648_row6_col9, #T_71648_row8_col9 {\n",
       "  background-color: #fdf5fa;\n",
       "  color: #000000;\n",
       "}\n",
       "#T_71648_row7_col2 {\n",
       "  background-color: #ede7f2;\n",
       "  color: #000000;\n",
       "}\n",
       "#T_71648_row7_col8, #T_71648_row8_col7 {\n",
       "  background-color: #c5cce3;\n",
       "  color: #000000;\n",
       "}\n",
       "</style>\n",
       "<table id=\"T_71648\">\n",
       "  <thead>\n",
       "    <tr>\n",
       "      <th class=\"blank level0\" >&nbsp;</th>\n",
       "      <th id=\"T_71648_level0_col0\" class=\"col_heading level0 col0\" >STDs:condylomatosis</th>\n",
       "      <th id=\"T_71648_level0_col1\" class=\"col_heading level0 col1\" >STDs:vaginal condylomatosis</th>\n",
       "      <th id=\"T_71648_level0_col2\" class=\"col_heading level0 col2\" >STDs:vulvo-perineal condylomatosis</th>\n",
       "      <th id=\"T_71648_level0_col3\" class=\"col_heading level0 col3\" >STDs:syphilis</th>\n",
       "      <th id=\"T_71648_level0_col4\" class=\"col_heading level0 col4\" >STDs:pelvic inflammatory disease</th>\n",
       "      <th id=\"T_71648_level0_col5\" class=\"col_heading level0 col5\" >STDs:genital herpes</th>\n",
       "      <th id=\"T_71648_level0_col6\" class=\"col_heading level0 col6\" >STDs:molluscum contagiosum</th>\n",
       "      <th id=\"T_71648_level0_col7\" class=\"col_heading level0 col7\" >STDs:HIV</th>\n",
       "      <th id=\"T_71648_level0_col8\" class=\"col_heading level0 col8\" >STDs:Hepatitis B</th>\n",
       "      <th id=\"T_71648_level0_col9\" class=\"col_heading level0 col9\" >STDs:HPV</th>\n",
       "    </tr>\n",
       "  </thead>\n",
       "  <tbody>\n",
       "    <tr>\n",
       "      <th id=\"T_71648_level0_row0\" class=\"row_heading level0 row0\" >STDs:condylomatosis</th>\n",
       "      <td id=\"T_71648_row0_col0\" class=\"data row0 col0\" >1.000000</td>\n",
       "      <td id=\"T_71648_row0_col1\" class=\"data row0 col1\" >0.324353</td>\n",
       "      <td id=\"T_71648_row0_col2\" class=\"data row0 col2\" >0.985150</td>\n",
       "      <td id=\"T_71648_row0_col3\" class=\"data row0 col3\" >0.070412</td>\n",
       "      <td id=\"T_71648_row0_col4\" class=\"data row0 col4\" >-0.010217</td>\n",
       "      <td id=\"T_71648_row0_col5\" class=\"data row0 col5\" >-0.010217</td>\n",
       "      <td id=\"T_71648_row0_col6\" class=\"data row0 col6\" >-0.010217</td>\n",
       "      <td id=\"T_71648_row0_col7\" class=\"data row0 col7\" >0.107336</td>\n",
       "      <td id=\"T_71648_row0_col8\" class=\"data row0 col8\" >-0.010217</td>\n",
       "      <td id=\"T_71648_row0_col9\" class=\"data row0 col9\" >-0.014461</td>\n",
       "    </tr>\n",
       "    <tr>\n",
       "      <th id=\"T_71648_level0_row1\" class=\"row_heading level0 row1\" >STDs:vaginal condylomatosis</th>\n",
       "      <td id=\"T_71648_row1_col0\" class=\"data row1 col0\" >0.324353</td>\n",
       "      <td id=\"T_71648_row1_col1\" class=\"data row1 col1\" >1.000000</td>\n",
       "      <td id=\"T_71648_row1_col2\" class=\"data row1 col2\" >0.241887</td>\n",
       "      <td id=\"T_71648_row1_col3\" class=\"data row1 col3\" >-0.011083</td>\n",
       "      <td id=\"T_71648_row1_col4\" class=\"data row1 col4\" >-0.003314</td>\n",
       "      <td id=\"T_71648_row1_col5\" class=\"data row1 col5\" >-0.003314</td>\n",
       "      <td id=\"T_71648_row1_col6\" class=\"data row1 col6\" >-0.003314</td>\n",
       "      <td id=\"T_71648_row1_col7\" class=\"data row1 col7\" >-0.012069</td>\n",
       "      <td id=\"T_71648_row1_col8\" class=\"data row1 col8\" >-0.003314</td>\n",
       "      <td id=\"T_71648_row1_col9\" class=\"data row1 col9\" >-0.004691</td>\n",
       "    </tr>\n",
       "    <tr>\n",
       "      <th id=\"T_71648_level0_row2\" class=\"row_heading level0 row2\" >STDs:vulvo-perineal condylomatosis</th>\n",
       "      <td id=\"T_71648_row2_col0\" class=\"data row2 col0\" >0.985150</td>\n",
       "      <td id=\"T_71648_row2_col1\" class=\"data row2 col1\" >0.241887</td>\n",
       "      <td id=\"T_71648_row2_col2\" class=\"data row2 col2\" >1.000000</td>\n",
       "      <td id=\"T_71648_row2_col3\" class=\"data row2 col3\" >0.072310</td>\n",
       "      <td id=\"T_71648_row2_col4\" class=\"data row2 col4\" >-0.010066</td>\n",
       "      <td id=\"T_71648_row2_col5\" class=\"data row2 col5\" >-0.010066</td>\n",
       "      <td id=\"T_71648_row2_col6\" class=\"data row2 col6\" >-0.010066</td>\n",
       "      <td id=\"T_71648_row2_col7\" class=\"data row2 col7\" >0.109811</td>\n",
       "      <td id=\"T_71648_row2_col8\" class=\"data row2 col8\" >-0.010066</td>\n",
       "      <td id=\"T_71648_row2_col9\" class=\"data row2 col9\" >-0.014247</td>\n",
       "    </tr>\n",
       "    <tr>\n",
       "      <th id=\"T_71648_level0_row3\" class=\"row_heading level0 row3\" >STDs:syphilis</th>\n",
       "      <td id=\"T_71648_row3_col0\" class=\"data row3 col0\" >0.070412</td>\n",
       "      <td id=\"T_71648_row3_col1\" class=\"data row3 col1\" >-0.011083</td>\n",
       "      <td id=\"T_71648_row3_col2\" class=\"data row3 col2\" >0.072310</td>\n",
       "      <td id=\"T_71648_row3_col3\" class=\"data row3 col3\" >1.000000</td>\n",
       "      <td id=\"T_71648_row3_col4\" class=\"data row3 col4\" >-0.005528</td>\n",
       "      <td id=\"T_71648_row3_col5\" class=\"data row3 col5\" >-0.005528</td>\n",
       "      <td id=\"T_71648_row3_col6\" class=\"data row3 col6\" >-0.005528</td>\n",
       "      <td id=\"T_71648_row3_col7\" class=\"data row3 col7\" >0.065182</td>\n",
       "      <td id=\"T_71648_row3_col8\" class=\"data row3 col8\" >-0.005528</td>\n",
       "      <td id=\"T_71648_row3_col9\" class=\"data row3 col9\" >-0.007824</td>\n",
       "    </tr>\n",
       "    <tr>\n",
       "      <th id=\"T_71648_level0_row4\" class=\"row_heading level0 row4\" >STDs:pelvic inflammatory disease</th>\n",
       "      <td id=\"T_71648_row4_col0\" class=\"data row4 col0\" >-0.010217</td>\n",
       "      <td id=\"T_71648_row4_col1\" class=\"data row4 col1\" >-0.003314</td>\n",
       "      <td id=\"T_71648_row4_col2\" class=\"data row4 col2\" >-0.010066</td>\n",
       "      <td id=\"T_71648_row4_col3\" class=\"data row4 col3\" >-0.005528</td>\n",
       "      <td id=\"T_71648_row4_col4\" class=\"data row4 col4\" >1.000000</td>\n",
       "      <td id=\"T_71648_row4_col5\" class=\"data row4 col5\" >-0.001653</td>\n",
       "      <td id=\"T_71648_row4_col6\" class=\"data row4 col6\" >-0.001653</td>\n",
       "      <td id=\"T_71648_row4_col7\" class=\"data row4 col7\" >-0.006020</td>\n",
       "      <td id=\"T_71648_row4_col8\" class=\"data row4 col8\" >-0.001653</td>\n",
       "      <td id=\"T_71648_row4_col9\" class=\"data row4 col9\" >-0.002339</td>\n",
       "    </tr>\n",
       "    <tr>\n",
       "      <th id=\"T_71648_level0_row5\" class=\"row_heading level0 row5\" >STDs:genital herpes</th>\n",
       "      <td id=\"T_71648_row5_col0\" class=\"data row5 col0\" >-0.010217</td>\n",
       "      <td id=\"T_71648_row5_col1\" class=\"data row5 col1\" >-0.003314</td>\n",
       "      <td id=\"T_71648_row5_col2\" class=\"data row5 col2\" >-0.010066</td>\n",
       "      <td id=\"T_71648_row5_col3\" class=\"data row5 col3\" >-0.005528</td>\n",
       "      <td id=\"T_71648_row5_col4\" class=\"data row5 col4\" >-0.001653</td>\n",
       "      <td id=\"T_71648_row5_col5\" class=\"data row5 col5\" >1.000000</td>\n",
       "      <td id=\"T_71648_row5_col6\" class=\"data row5 col6\" >-0.001653</td>\n",
       "      <td id=\"T_71648_row5_col7\" class=\"data row5 col7\" >-0.006020</td>\n",
       "      <td id=\"T_71648_row5_col8\" class=\"data row5 col8\" >-0.001653</td>\n",
       "      <td id=\"T_71648_row5_col9\" class=\"data row5 col9\" >-0.002339</td>\n",
       "    </tr>\n",
       "    <tr>\n",
       "      <th id=\"T_71648_level0_row6\" class=\"row_heading level0 row6\" >STDs:molluscum contagiosum</th>\n",
       "      <td id=\"T_71648_row6_col0\" class=\"data row6 col0\" >-0.010217</td>\n",
       "      <td id=\"T_71648_row6_col1\" class=\"data row6 col1\" >-0.003314</td>\n",
       "      <td id=\"T_71648_row6_col2\" class=\"data row6 col2\" >-0.010066</td>\n",
       "      <td id=\"T_71648_row6_col3\" class=\"data row6 col3\" >-0.005528</td>\n",
       "      <td id=\"T_71648_row6_col4\" class=\"data row6 col4\" >-0.001653</td>\n",
       "      <td id=\"T_71648_row6_col5\" class=\"data row6 col5\" >-0.001653</td>\n",
       "      <td id=\"T_71648_row6_col6\" class=\"data row6 col6\" >1.000000</td>\n",
       "      <td id=\"T_71648_row6_col7\" class=\"data row6 col7\" >-0.006020</td>\n",
       "      <td id=\"T_71648_row6_col8\" class=\"data row6 col8\" >-0.001653</td>\n",
       "      <td id=\"T_71648_row6_col9\" class=\"data row6 col9\" >-0.002339</td>\n",
       "    </tr>\n",
       "    <tr>\n",
       "      <th id=\"T_71648_level0_row7\" class=\"row_heading level0 row7\" >STDs:HIV</th>\n",
       "      <td id=\"T_71648_row7_col0\" class=\"data row7 col0\" >0.107336</td>\n",
       "      <td id=\"T_71648_row7_col1\" class=\"data row7 col1\" >-0.012069</td>\n",
       "      <td id=\"T_71648_row7_col2\" class=\"data row7 col2\" >0.109811</td>\n",
       "      <td id=\"T_71648_row7_col3\" class=\"data row7 col3\" >0.065182</td>\n",
       "      <td id=\"T_71648_row7_col4\" class=\"data row7 col4\" >-0.006020</td>\n",
       "      <td id=\"T_71648_row7_col5\" class=\"data row7 col5\" >-0.006020</td>\n",
       "      <td id=\"T_71648_row7_col6\" class=\"data row7 col6\" >-0.006020</td>\n",
       "      <td id=\"T_71648_row7_col7\" class=\"data row7 col7\" >1.000000</td>\n",
       "      <td id=\"T_71648_row7_col8\" class=\"data row7 col8\" >0.274586</td>\n",
       "      <td id=\"T_71648_row7_col9\" class=\"data row7 col9\" >-0.008520</td>\n",
       "    </tr>\n",
       "    <tr>\n",
       "      <th id=\"T_71648_level0_row8\" class=\"row_heading level0 row8\" >STDs:Hepatitis B</th>\n",
       "      <td id=\"T_71648_row8_col0\" class=\"data row8 col0\" >-0.010217</td>\n",
       "      <td id=\"T_71648_row8_col1\" class=\"data row8 col1\" >-0.003314</td>\n",
       "      <td id=\"T_71648_row8_col2\" class=\"data row8 col2\" >-0.010066</td>\n",
       "      <td id=\"T_71648_row8_col3\" class=\"data row8 col3\" >-0.005528</td>\n",
       "      <td id=\"T_71648_row8_col4\" class=\"data row8 col4\" >-0.001653</td>\n",
       "      <td id=\"T_71648_row8_col5\" class=\"data row8 col5\" >-0.001653</td>\n",
       "      <td id=\"T_71648_row8_col6\" class=\"data row8 col6\" >-0.001653</td>\n",
       "      <td id=\"T_71648_row8_col7\" class=\"data row8 col7\" >0.274586</td>\n",
       "      <td id=\"T_71648_row8_col8\" class=\"data row8 col8\" >1.000000</td>\n",
       "      <td id=\"T_71648_row8_col9\" class=\"data row8 col9\" >-0.002339</td>\n",
       "    </tr>\n",
       "    <tr>\n",
       "      <th id=\"T_71648_level0_row9\" class=\"row_heading level0 row9\" >STDs:HPV</th>\n",
       "      <td id=\"T_71648_row9_col0\" class=\"data row9 col0\" >-0.014461</td>\n",
       "      <td id=\"T_71648_row9_col1\" class=\"data row9 col1\" >-0.004691</td>\n",
       "      <td id=\"T_71648_row9_col2\" class=\"data row9 col2\" >-0.014247</td>\n",
       "      <td id=\"T_71648_row9_col3\" class=\"data row9 col3\" >-0.007824</td>\n",
       "      <td id=\"T_71648_row9_col4\" class=\"data row9 col4\" >-0.002339</td>\n",
       "      <td id=\"T_71648_row9_col5\" class=\"data row9 col5\" >-0.002339</td>\n",
       "      <td id=\"T_71648_row9_col6\" class=\"data row9 col6\" >-0.002339</td>\n",
       "      <td id=\"T_71648_row9_col7\" class=\"data row9 col7\" >-0.008520</td>\n",
       "      <td id=\"T_71648_row9_col8\" class=\"data row9 col8\" >-0.002339</td>\n",
       "      <td id=\"T_71648_row9_col9\" class=\"data row9 col9\" >1.000000</td>\n",
       "    </tr>\n",
       "  </tbody>\n",
       "</table>\n"
      ],
      "text/plain": [
       "<pandas.io.formats.style.Styler at 0x186fba152d0>"
      ]
     },
     "execution_count": 10,
     "metadata": {},
     "output_type": "execute_result"
    }
   ],
   "source": [
    "\n",
    "\n",
    "stds = ['STDs:condylomatosis', 'STDs:vaginal condylomatosis',\n",
    "        'STDs:vulvo-perineal condylomatosis', 'STDs:syphilis', 'STDs:pelvic inflammatory disease',\n",
    "        'STDs:genital herpes', 'STDs:molluscum contagiosum', 'STDs:HIV',\n",
    "        'STDs:Hepatitis B', 'STDs:HPV']\n",
    "train_df.loc[:, stds].corr('spearman').style.background_gradient()"
   ]
  },
  {
   "cell_type": "markdown",
   "id": "f7621830-555a-4334-90c1-5a8dd41776ca",
   "metadata": {},
   "source": [
    "# References\n",
    "---\n",
    "Dua, Dheeru, and Casey Graff. 2017. “UCI Machine Learning Repository.” University of California, Irvine, School of Information; Computer Sciences. http://archive.ics.uci.edu/ml.\n",
    "\n",
    "Fernandes, K., Cardoso, J.S., & Fernandes, J.C. (2017). Transfer Learning with Partial Observability Applied to Cervical Cancer Screening. Iberian Conference on Pattern Recognition and Image Analysis. https://www.semanticscholar.org/paper/Transfer-Learning-with-Partial-Observability-to-Fernandes-Cardoso/1c02438ba4dfa775399ba414508e9cd335b69012\n",
    "\n",
    "Cervical cancer (Risk Factors) Data Set https://archive.ics.uci.edu/ml/datasets/Cervical+cancer+%28Risk+Factors%29"
   ]
  }
 ],
 "metadata": {
  "kernelspec": {
   "display_name": "Python [conda env:rfcc]",
   "language": "python",
   "name": "conda-env-rfcc-py"
  },
  "language_info": {
   "codemirror_mode": {
    "name": "ipython",
    "version": 3
   },
   "file_extension": ".py",
   "mimetype": "text/x-python",
   "name": "python",
   "nbconvert_exporter": "python",
   "pygments_lexer": "ipython3",
   "version": "3.10.8"
  }
 },
 "nbformat": 4,
 "nbformat_minor": 5
}
